{
 "cells": [
  {
   "cell_type": "markdown",
   "id": "e90466dd-61f2-4144-bde8-14e5f470dffa",
   "metadata": {},
   "source": [
    "IDENTIFIERS COMMENTS                                                                                                                      "
   ]
  },
  {
   "cell_type": "code",
   "execution_count": 1,
   "id": "d19af720-9faf-4864-bbe4-e5f1937d5ce7",
   "metadata": {},
   "outputs": [
    {
     "ename": "SyntaxError",
     "evalue": "invalid decimal literal (3334816710.py, line 1)",
     "output_type": "error",
     "traceback": [
      "\u001b[1;36m  Cell \u001b[1;32mIn[1], line 1\u001b[1;36m\u001b[0m\n\u001b[1;33m    23var=24\u001b[0m\n\u001b[1;37m     ^\u001b[0m\n\u001b[1;31mSyntaxError\u001b[0m\u001b[1;31m:\u001b[0m invalid decimal literal\n"
     ]
    }
   ],
   "source": [
    "23var=24"
   ]
  },
  {
   "cell_type": "code",
   "execution_count": 7,
   "id": "ce09f76c-a122-4569-956b-ad4d53f95972",
   "metadata": {},
   "outputs": [
    {
     "ename": "SyntaxError",
     "evalue": "invalid syntax (2895515315.py, line 1)",
     "output_type": "error",
     "traceback": [
      "\u001b[1;36m  Cell \u001b[1;32mIn[7], line 1\u001b[1;36m\u001b[0m\n\u001b[1;33m    $avc=23\u001b[0m\n\u001b[1;37m    ^\u001b[0m\n\u001b[1;31mSyntaxError\u001b[0m\u001b[1;31m:\u001b[0m invalid syntax\n"
     ]
    }
   ],
   "source": [
    "$avc=23\n"
   ]
  },
  {
   "cell_type": "code",
   "execution_count": 5,
   "id": "58d5b2e2-6144-4f2a-bf50-a1326bfdd029",
   "metadata": {},
   "outputs": [
    {
     "ename": "SyntaxError",
     "evalue": "invalid syntax (1361769482.py, line 1)",
     "output_type": "error",
     "traceback": [
      "\u001b[1;36m  Cell \u001b[1;32mIn[5], line 1\u001b[1;36m\u001b[0m\n\u001b[1;33m    import = 23\u001b[0m\n\u001b[1;37m           ^\u001b[0m\n\u001b[1;31mSyntaxError\u001b[0m\u001b[1;31m:\u001b[0m invalid syntax\n"
     ]
    }
   ],
   "source": [
    "import = 23\n",
    "print(import)"
   ]
  },
  {
   "cell_type": "code",
   "execution_count": 9,
   "id": "a344eb8f-2d13-4745-ad73-5748b4828cfd",
   "metadata": {},
   "outputs": [
    {
     "ename": "NameError",
     "evalue": "name 'val_10' is not defined",
     "output_type": "error",
     "traceback": [
      "\u001b[1;31m---------------------------------------------------------------------------\u001b[0m",
      "\u001b[1;31mNameError\u001b[0m                                 Traceback (most recent call last)",
      "Cell \u001b[1;32mIn[9], line 1\u001b[0m\n\u001b[1;32m----> 1\u001b[0m val_10\n",
      "\u001b[1;31mNameError\u001b[0m: name 'val_10' is not defined"
     ]
    }
   ],
   "source": [
    "val_10"
   ]
  },
  {
   "cell_type": "code",
   "execution_count": 11,
   "id": "cf328797-45cd-4118-b1d8-eb1e05be1a70",
   "metadata": {},
   "outputs": [],
   "source": [
    "#hi single line comments"
   ]
  },
  {
   "cell_type": "code",
   "execution_count": 13,
   "id": "1a0666e3-ecc9-4210-adde-715db46bcdb4",
   "metadata": {},
   "outputs": [],
   "source": [
    "#this\n",
    "#is\n",
    "#multi line comments"
   ]
  },
  {
   "cell_type": "code",
   "execution_count": 17,
   "id": "aa22c599-c8e8-4fe1-93c1-f077d0eef83b",
   "metadata": {},
   "outputs": [
    {
     "data": {
      "text/plain": [
       "'\\nhi thi\\nis\\ncomments\\nonly\\n'"
      ]
     },
     "execution_count": 17,
     "metadata": {},
     "output_type": "execute_result"
    }
   ],
   "source": [
    "'''\n",
    "hi thi\n",
    "is\n",
    "comments\n",
    "only\n",
    "'''"
   ]
  },
  {
   "cell_type": "code",
   "execution_count": 19,
   "id": "b1fe1b65-22c1-4366-a481-8b13c7781205",
   "metadata": {},
   "outputs": [],
   "source": [
    "#statemnts\n"
   ]
  },
  {
   "cell_type": "code",
   "execution_count": null,
   "id": "68c6b63f-749e-44b4-9059-102b6cafda42",
   "metadata": {},
   "outputs": [],
   "source": [
    "a=23\n",
    "print(a)\n",
    "type(a)\n",
    "id(a)"
   ]
  }
 ],
 "metadata": {
  "kernelspec": {
   "display_name": "Python [conda env:base] *",
   "language": "python",
   "name": "conda-base-py"
  },
  "language_info": {
   "codemirror_mode": {
    "name": "ipython",
    "version": 3
   },
   "file_extension": ".py",
   "mimetype": "text/x-python",
   "name": "python",
   "nbconvert_exporter": "python",
   "pygments_lexer": "ipython3",
   "version": "3.12.7"
  }
 },
 "nbformat": 4,
 "nbformat_minor": 5
}
