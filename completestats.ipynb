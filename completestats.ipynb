{
 "cells": [
  {
   "cell_type": "code",
   "execution_count": 26,
   "id": "502e1079-17f0-42e6-9587-189a729e82ea",
   "metadata": {},
   "outputs": [],
   "source": [
    "import pandas as pd\n",
    "import numpy as np"
   ]
  },
  {
   "cell_type": "code",
   "execution_count": 31,
   "id": "a8b801db-6257-448d-9645-a9b220440650",
   "metadata": {},
   "outputs": [],
   "source": [
    "df=pd.read_csv(r\"C:\\Users\\vishw\\Downloads\\Salary_Data (1)\\Salary_Data.csv\")"
   ]
  },
  {
   "cell_type": "code",
   "execution_count": 33,
   "id": "312f70e0-fc6e-4fbf-9520-6c5317fe9447",
   "metadata": {},
   "outputs": [
    {
     "data": {
      "text/html": [
       "<div>\n",
       "<style scoped>\n",
       "    .dataframe tbody tr th:only-of-type {\n",
       "        vertical-align: middle;\n",
       "    }\n",
       "\n",
       "    .dataframe tbody tr th {\n",
       "        vertical-align: top;\n",
       "    }\n",
       "\n",
       "    .dataframe thead th {\n",
       "        text-align: right;\n",
       "    }\n",
       "</style>\n",
       "<table border=\"1\" class=\"dataframe\">\n",
       "  <thead>\n",
       "    <tr style=\"text-align: right;\">\n",
       "      <th></th>\n",
       "      <th>YearsExperience</th>\n",
       "      <th>Salary</th>\n",
       "    </tr>\n",
       "  </thead>\n",
       "  <tbody>\n",
       "    <tr>\n",
       "      <th>0</th>\n",
       "      <td>1.1</td>\n",
       "      <td>39343</td>\n",
       "    </tr>\n",
       "    <tr>\n",
       "      <th>1</th>\n",
       "      <td>1.3</td>\n",
       "      <td>46205</td>\n",
       "    </tr>\n",
       "    <tr>\n",
       "      <th>2</th>\n",
       "      <td>1.5</td>\n",
       "      <td>37731</td>\n",
       "    </tr>\n",
       "    <tr>\n",
       "      <th>3</th>\n",
       "      <td>2.0</td>\n",
       "      <td>43525</td>\n",
       "    </tr>\n",
       "    <tr>\n",
       "      <th>4</th>\n",
       "      <td>2.2</td>\n",
       "      <td>39891</td>\n",
       "    </tr>\n",
       "  </tbody>\n",
       "</table>\n",
       "</div>"
      ],
      "text/plain": [
       "   YearsExperience  Salary\n",
       "0              1.1   39343\n",
       "1              1.3   46205\n",
       "2              1.5   37731\n",
       "3              2.0   43525\n",
       "4              2.2   39891"
      ]
     },
     "execution_count": 33,
     "metadata": {},
     "output_type": "execute_result"
    }
   ],
   "source": [
    "df.head()"
   ]
  },
  {
   "cell_type": "code",
   "execution_count": 35,
   "id": "be1d9af8-0f65-4794-b05a-e370ed85c258",
   "metadata": {},
   "outputs": [
    {
     "data": {
      "text/plain": [
       "YearsExperience        5.313333\n",
       "Salary             76003.000000\n",
       "dtype: float64"
      ]
     },
     "execution_count": 35,
     "metadata": {},
     "output_type": "execute_result"
    }
   ],
   "source": [
    "df.mean()"
   ]
  },
  {
   "cell_type": "code",
   "execution_count": 37,
   "id": "14406428-0692-4f89-890a-40d9965d5f77",
   "metadata": {},
   "outputs": [
    {
     "data": {
      "text/plain": [
       "76003.0"
      ]
     },
     "execution_count": 37,
     "metadata": {},
     "output_type": "execute_result"
    }
   ],
   "source": [
    "df.Salary.mean()"
   ]
  },
  {
   "cell_type": "code",
   "execution_count": 39,
   "id": "9a12bf99-bfa9-4fda-b714-4a4e89c9531f",
   "metadata": {},
   "outputs": [
    {
     "data": {
      "text/plain": [
       "YearsExperience        4.7\n",
       "Salary             65237.0\n",
       "dtype: float64"
      ]
     },
     "execution_count": 39,
     "metadata": {},
     "output_type": "execute_result"
    }
   ],
   "source": [
    "df.median()"
   ]
  },
  {
   "cell_type": "code",
   "execution_count": 41,
   "id": "b495841c-4677-435a-bf26-89a0640b1066",
   "metadata": {},
   "outputs": [
    {
     "data": {
      "text/plain": [
       "65237.0"
      ]
     },
     "execution_count": 41,
     "metadata": {},
     "output_type": "execute_result"
    }
   ],
   "source": [
    "df.Salary.median()"
   ]
  },
  {
   "cell_type": "code",
   "execution_count": 43,
   "id": "f5bdaab0-9ee0-4265-8d3a-c00f0685469d",
   "metadata": {},
   "outputs": [
    {
     "data": {
      "text/plain": [
       "0      37731\n",
       "1      39343\n",
       "2      39891\n",
       "3      43525\n",
       "4      46205\n",
       "5      54445\n",
       "6      55794\n",
       "7      56642\n",
       "8      56957\n",
       "9      57081\n",
       "10     57189\n",
       "11     60150\n",
       "12     61111\n",
       "13     63218\n",
       "14     64445\n",
       "15     66029\n",
       "16     67938\n",
       "17     81363\n",
       "18     83088\n",
       "19     91738\n",
       "20     93940\n",
       "21     98273\n",
       "22    101302\n",
       "23    105582\n",
       "24    109431\n",
       "25    112635\n",
       "26    113812\n",
       "27    116969\n",
       "28    121872\n",
       "29    122391\n",
       "Name: Salary, dtype: int64"
      ]
     },
     "execution_count": 43,
     "metadata": {},
     "output_type": "execute_result"
    }
   ],
   "source": [
    "df.Salary.mode()"
   ]
  },
  {
   "cell_type": "code",
   "execution_count": 45,
   "id": "8703e29d-b381-4dc4-9313-7ca57b180468",
   "metadata": {},
   "outputs": [
    {
     "data": {
      "text/plain": [
       "YearsExperience    8.053609e+00\n",
       "Salary             7.515510e+08\n",
       "dtype: float64"
      ]
     },
     "execution_count": 45,
     "metadata": {},
     "output_type": "execute_result"
    }
   ],
   "source": [
    "df.var()"
   ]
  },
  {
   "cell_type": "code",
   "execution_count": 47,
   "id": "8650cc2b-2ae6-41a2-88c2-5cefbe3202fd",
   "metadata": {},
   "outputs": [
    {
     "data": {
      "text/plain": [
       "YearsExperience        2.837888\n",
       "Salary             27414.429785\n",
       "dtype: float64"
      ]
     },
     "execution_count": 47,
     "metadata": {},
     "output_type": "execute_result"
    }
   ],
   "source": [
    "df.std()"
   ]
  },
  {
   "cell_type": "code",
   "execution_count": 51,
   "id": "bf38533a-37b5-4697-9526-c6bcfc86de58",
   "metadata": {},
   "outputs": [],
   "source": [
    "from scipy.stats import variation"
   ]
  },
  {
   "cell_type": "code",
   "execution_count": 53,
   "id": "ed16deeb-7fbb-414e-9ca8-06d097e25bf9",
   "metadata": {},
   "outputs": [
    {
     "data": {
      "text/plain": [
       "array([0.5251297 , 0.35463929])"
      ]
     },
     "execution_count": 53,
     "metadata": {},
     "output_type": "execute_result"
    }
   ],
   "source": [
    "variation(df.values)"
   ]
  },
  {
   "cell_type": "code",
   "execution_count": 55,
   "id": "e5b08d5c-be03-4d82-9f94-d01e9fc34fb7",
   "metadata": {},
   "outputs": [
    {
     "data": {
      "text/plain": [
       "0.3546392938275572"
      ]
     },
     "execution_count": 55,
     "metadata": {},
     "output_type": "execute_result"
    }
   ],
   "source": [
    "variation(df['Salary']) "
   ]
  },
  {
   "cell_type": "code",
   "execution_count": 57,
   "id": "6580b3a0-86c6-45de-8a10-4bfd3e1545f2",
   "metadata": {},
   "outputs": [
    {
     "data": {
      "text/html": [
       "<div>\n",
       "<style scoped>\n",
       "    .dataframe tbody tr th:only-of-type {\n",
       "        vertical-align: middle;\n",
       "    }\n",
       "\n",
       "    .dataframe tbody tr th {\n",
       "        vertical-align: top;\n",
       "    }\n",
       "\n",
       "    .dataframe thead th {\n",
       "        text-align: right;\n",
       "    }\n",
       "</style>\n",
       "<table border=\"1\" class=\"dataframe\">\n",
       "  <thead>\n",
       "    <tr style=\"text-align: right;\">\n",
       "      <th></th>\n",
       "      <th>YearsExperience</th>\n",
       "      <th>Salary</th>\n",
       "    </tr>\n",
       "  </thead>\n",
       "  <tbody>\n",
       "    <tr>\n",
       "      <th>YearsExperience</th>\n",
       "      <td>1.000000</td>\n",
       "      <td>0.978242</td>\n",
       "    </tr>\n",
       "    <tr>\n",
       "      <th>Salary</th>\n",
       "      <td>0.978242</td>\n",
       "      <td>1.000000</td>\n",
       "    </tr>\n",
       "  </tbody>\n",
       "</table>\n",
       "</div>"
      ],
      "text/plain": [
       "                 YearsExperience    Salary\n",
       "YearsExperience         1.000000  0.978242\n",
       "Salary                  0.978242  1.000000"
      ]
     },
     "execution_count": 57,
     "metadata": {},
     "output_type": "execute_result"
    }
   ],
   "source": [
    "df.corr()"
   ]
  },
  {
   "cell_type": "code",
   "execution_count": 59,
   "id": "aceb7e14-89de-4ef2-be05-c706a6f728c5",
   "metadata": {},
   "outputs": [
    {
     "data": {
      "text/plain": [
       "0.9782416184887598"
      ]
     },
     "execution_count": 59,
     "metadata": {},
     "output_type": "execute_result"
    }
   ],
   "source": [
    "df['Salary'].corr(df['YearsExperience']) "
   ]
  },
  {
   "cell_type": "code",
   "execution_count": 61,
   "id": "c5c9dc80-d1ed-4056-9ccb-afd23cfbd3c5",
   "metadata": {},
   "outputs": [
    {
     "data": {
      "text/plain": [
       "YearsExperience    0.37956\n",
       "Salary             0.35412\n",
       "dtype: float64"
      ]
     },
     "execution_count": 61,
     "metadata": {},
     "output_type": "execute_result"
    }
   ],
   "source": [
    "df.skew()"
   ]
  },
  {
   "cell_type": "code",
   "execution_count": 63,
   "id": "0a75ec21-e05c-4058-880c-fc9347785310",
   "metadata": {},
   "outputs": [
    {
     "data": {
      "text/plain": [
       "YearsExperience       0.518125\n",
       "Salary             5005.167198\n",
       "dtype: float64"
      ]
     },
     "execution_count": 63,
     "metadata": {},
     "output_type": "execute_result"
    }
   ],
   "source": [
    "df.sem()"
   ]
  },
  {
   "cell_type": "code",
   "execution_count": 65,
   "id": "5155119e-9959-4173-96ca-35fb6fa8c36c",
   "metadata": {},
   "outputs": [],
   "source": [
    "import scipy.stats as stats"
   ]
  },
  {
   "cell_type": "code",
   "execution_count": 67,
   "id": "96e21a2c-9824-4435-aa02-83130bc70feb",
   "metadata": {},
   "outputs": [
    {
     "data": {
      "text/html": [
       "<div>\n",
       "<style scoped>\n",
       "    .dataframe tbody tr th:only-of-type {\n",
       "        vertical-align: middle;\n",
       "    }\n",
       "\n",
       "    .dataframe tbody tr th {\n",
       "        vertical-align: top;\n",
       "    }\n",
       "\n",
       "    .dataframe thead th {\n",
       "        text-align: right;\n",
       "    }\n",
       "</style>\n",
       "<table border=\"1\" class=\"dataframe\">\n",
       "  <thead>\n",
       "    <tr style=\"text-align: right;\">\n",
       "      <th></th>\n",
       "      <th>YearsExperience</th>\n",
       "      <th>Salary</th>\n",
       "    </tr>\n",
       "  </thead>\n",
       "  <tbody>\n",
       "    <tr>\n",
       "      <th>0</th>\n",
       "      <td>-1.510053</td>\n",
       "      <td>-1.360113</td>\n",
       "    </tr>\n",
       "    <tr>\n",
       "      <th>1</th>\n",
       "      <td>-1.438373</td>\n",
       "      <td>-1.105527</td>\n",
       "    </tr>\n",
       "    <tr>\n",
       "      <th>2</th>\n",
       "      <td>-1.366693</td>\n",
       "      <td>-1.419919</td>\n",
       "    </tr>\n",
       "    <tr>\n",
       "      <th>3</th>\n",
       "      <td>-1.187494</td>\n",
       "      <td>-1.204957</td>\n",
       "    </tr>\n",
       "    <tr>\n",
       "      <th>4</th>\n",
       "      <td>-1.115814</td>\n",
       "      <td>-1.339781</td>\n",
       "    </tr>\n",
       "    <tr>\n",
       "      <th>5</th>\n",
       "      <td>-0.864935</td>\n",
       "      <td>-0.718307</td>\n",
       "    </tr>\n",
       "    <tr>\n",
       "      <th>6</th>\n",
       "      <td>-0.829096</td>\n",
       "      <td>-0.588158</td>\n",
       "    </tr>\n",
       "    <tr>\n",
       "      <th>7</th>\n",
       "      <td>-0.757416</td>\n",
       "      <td>-0.799817</td>\n",
       "    </tr>\n",
       "    <tr>\n",
       "      <th>8</th>\n",
       "      <td>-0.757416</td>\n",
       "      <td>-0.428810</td>\n",
       "    </tr>\n",
       "    <tr>\n",
       "      <th>9</th>\n",
       "      <td>-0.578216</td>\n",
       "      <td>-0.698013</td>\n",
       "    </tr>\n",
       "    <tr>\n",
       "      <th>10</th>\n",
       "      <td>-0.506537</td>\n",
       "      <td>-0.474333</td>\n",
       "    </tr>\n",
       "    <tr>\n",
       "      <th>11</th>\n",
       "      <td>-0.470697</td>\n",
       "      <td>-0.749769</td>\n",
       "    </tr>\n",
       "    <tr>\n",
       "      <th>12</th>\n",
       "      <td>-0.470697</td>\n",
       "      <td>-0.706620</td>\n",
       "    </tr>\n",
       "    <tr>\n",
       "      <th>13</th>\n",
       "      <td>-0.434857</td>\n",
       "      <td>-0.702020</td>\n",
       "    </tr>\n",
       "    <tr>\n",
       "      <th>14</th>\n",
       "      <td>-0.291498</td>\n",
       "      <td>-0.552504</td>\n",
       "    </tr>\n",
       "    <tr>\n",
       "      <th>15</th>\n",
       "      <td>-0.148138</td>\n",
       "      <td>-0.299217</td>\n",
       "    </tr>\n",
       "    <tr>\n",
       "      <th>16</th>\n",
       "      <td>-0.076458</td>\n",
       "      <td>-0.370043</td>\n",
       "    </tr>\n",
       "    <tr>\n",
       "      <th>17</th>\n",
       "      <td>-0.004779</td>\n",
       "      <td>0.262859</td>\n",
       "    </tr>\n",
       "    <tr>\n",
       "      <th>18</th>\n",
       "      <td>0.210261</td>\n",
       "      <td>0.198860</td>\n",
       "    </tr>\n",
       "    <tr>\n",
       "      <th>19</th>\n",
       "      <td>0.246100</td>\n",
       "      <td>0.665476</td>\n",
       "    </tr>\n",
       "    <tr>\n",
       "      <th>20</th>\n",
       "      <td>0.532819</td>\n",
       "      <td>0.583780</td>\n",
       "    </tr>\n",
       "    <tr>\n",
       "      <th>21</th>\n",
       "      <td>0.640339</td>\n",
       "      <td>0.826233</td>\n",
       "    </tr>\n",
       "    <tr>\n",
       "      <th>22</th>\n",
       "      <td>0.927058</td>\n",
       "      <td>0.938611</td>\n",
       "    </tr>\n",
       "    <tr>\n",
       "      <th>23</th>\n",
       "      <td>1.034577</td>\n",
       "      <td>1.402741</td>\n",
       "    </tr>\n",
       "    <tr>\n",
       "      <th>24</th>\n",
       "      <td>1.213777</td>\n",
       "      <td>1.240203</td>\n",
       "    </tr>\n",
       "    <tr>\n",
       "      <th>25</th>\n",
       "      <td>1.321296</td>\n",
       "      <td>1.097402</td>\n",
       "    </tr>\n",
       "    <tr>\n",
       "      <th>26</th>\n",
       "      <td>1.500496</td>\n",
       "      <td>1.519868</td>\n",
       "    </tr>\n",
       "    <tr>\n",
       "      <th>27</th>\n",
       "      <td>1.536336</td>\n",
       "      <td>1.359074</td>\n",
       "    </tr>\n",
       "    <tr>\n",
       "      <th>28</th>\n",
       "      <td>1.787215</td>\n",
       "      <td>1.721028</td>\n",
       "    </tr>\n",
       "    <tr>\n",
       "      <th>29</th>\n",
       "      <td>1.858894</td>\n",
       "      <td>1.701773</td>\n",
       "    </tr>\n",
       "  </tbody>\n",
       "</table>\n",
       "</div>"
      ],
      "text/plain": [
       "    YearsExperience    Salary\n",
       "0         -1.510053 -1.360113\n",
       "1         -1.438373 -1.105527\n",
       "2         -1.366693 -1.419919\n",
       "3         -1.187494 -1.204957\n",
       "4         -1.115814 -1.339781\n",
       "5         -0.864935 -0.718307\n",
       "6         -0.829096 -0.588158\n",
       "7         -0.757416 -0.799817\n",
       "8         -0.757416 -0.428810\n",
       "9         -0.578216 -0.698013\n",
       "10        -0.506537 -0.474333\n",
       "11        -0.470697 -0.749769\n",
       "12        -0.470697 -0.706620\n",
       "13        -0.434857 -0.702020\n",
       "14        -0.291498 -0.552504\n",
       "15        -0.148138 -0.299217\n",
       "16        -0.076458 -0.370043\n",
       "17        -0.004779  0.262859\n",
       "18         0.210261  0.198860\n",
       "19         0.246100  0.665476\n",
       "20         0.532819  0.583780\n",
       "21         0.640339  0.826233\n",
       "22         0.927058  0.938611\n",
       "23         1.034577  1.402741\n",
       "24         1.213777  1.240203\n",
       "25         1.321296  1.097402\n",
       "26         1.500496  1.519868\n",
       "27         1.536336  1.359074\n",
       "28         1.787215  1.721028\n",
       "29         1.858894  1.701773"
      ]
     },
     "execution_count": 67,
     "metadata": {},
     "output_type": "execute_result"
    }
   ],
   "source": [
    "df.apply(stats.zscore)"
   ]
  },
  {
   "cell_type": "code",
   "execution_count": 69,
   "id": "ca18a8a1-502d-412a-9c11-7cdf8546b863",
   "metadata": {},
   "outputs": [
    {
     "data": {
      "text/plain": [
       "0    -1.360113\n",
       "1    -1.105527\n",
       "2    -1.419919\n",
       "3    -1.204957\n",
       "4    -1.339781\n",
       "5    -0.718307\n",
       "6    -0.588158\n",
       "7    -0.799817\n",
       "8    -0.428810\n",
       "9    -0.698013\n",
       "10   -0.474333\n",
       "11   -0.749769\n",
       "12   -0.706620\n",
       "13   -0.702020\n",
       "14   -0.552504\n",
       "15   -0.299217\n",
       "16   -0.370043\n",
       "17    0.262859\n",
       "18    0.198860\n",
       "19    0.665476\n",
       "20    0.583780\n",
       "21    0.826233\n",
       "22    0.938611\n",
       "23    1.402741\n",
       "24    1.240203\n",
       "25    1.097402\n",
       "26    1.519868\n",
       "27    1.359074\n",
       "28    1.721028\n",
       "29    1.701773\n",
       "Name: Salary, dtype: float64"
      ]
     },
     "execution_count": 69,
     "metadata": {},
     "output_type": "execute_result"
    }
   ],
   "source": [
    "stats.zscore(df.Salary)"
   ]
  },
  {
   "cell_type": "code",
   "execution_count": 73,
   "id": "42242674-1118-4989-be35-8939baf8b10d",
   "metadata": {},
   "outputs": [
    {
     "data": {
      "text/plain": [
       "(30, 2)"
      ]
     },
     "execution_count": 73,
     "metadata": {},
     "output_type": "execute_result"
    }
   ],
   "source": [
    "df.shape"
   ]
  },
  {
   "cell_type": "code",
   "execution_count": 75,
   "id": "69a3d821-f512-4363-af6d-8c0a45d0b02f",
   "metadata": {},
   "outputs": [],
   "source": [
    "degrees_of_freedom=30-28"
   ]
  },
  {
   "cell_type": "code",
   "execution_count": null,
   "id": "f6f19b7e-5a20-4673-9c7e-f16428799662",
   "metadata": {},
   "outputs": [],
   "source": []
  }
 ],
 "metadata": {
  "kernelspec": {
   "display_name": "Python [conda env:base] *",
   "language": "python",
   "name": "conda-base-py"
  },
  "language_info": {
   "codemirror_mode": {
    "name": "ipython",
    "version": 3
   },
   "file_extension": ".py",
   "mimetype": "text/x-python",
   "name": "python",
   "nbconvert_exporter": "python",
   "pygments_lexer": "ipython3",
   "version": "3.12.7"
  }
 },
 "nbformat": 4,
 "nbformat_minor": 5
}
