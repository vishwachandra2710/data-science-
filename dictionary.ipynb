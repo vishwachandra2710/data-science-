{
 "cells": [
  {
   "cell_type": "markdown",
   "id": "6d4b652b-ed5e-46da-84a6-ff6225958cdc",
   "metadata": {},
   "source": [
    "dictionary data structure\n",
    "declared in {}\n",
    "key  value pair \n",
    "mutable\n",
    "keys must be unique\n",
    "duplicate values are allowed"
   ]
  },
  {
   "cell_type": "code",
   "execution_count": 1,
   "id": "ea8040df-013a-4854-ae4a-0b90714573f9",
   "metadata": {},
   "outputs": [
    {
     "data": {
      "text/plain": [
       "dict"
      ]
     },
     "execution_count": 1,
     "metadata": {},
     "output_type": "execute_result"
    }
   ],
   "source": [
    "a={}\n",
    "type(a)"
   ]
  },
  {
   "cell_type": "code",
   "execution_count": 3,
   "id": "ba06b5e4-ddb0-4a8b-b9b8-3153b3c3c499",
   "metadata": {},
   "outputs": [],
   "source": [
    "a={1:\"vishwa\",2:\"chandra\",3:24}"
   ]
  },
  {
   "cell_type": "code",
   "execution_count": 5,
   "id": "b8c8f159-38ca-41ff-9e97-48a297debdb9",
   "metadata": {},
   "outputs": [
    {
     "name": "stdout",
     "output_type": "stream",
     "text": [
      "{1: 'vishwa', 2: 'chandra', 3: 24}\n"
     ]
    }
   ],
   "source": [
    "print(a)"
   ]
  },
  {
   "cell_type": "code",
   "execution_count": 11,
   "id": "68e6da41-b3d9-4b87-b08e-e2c44834afda",
   "metadata": {},
   "outputs": [
    {
     "name": "stdout",
     "output_type": "stream",
     "text": [
      "{1: 'python', 'c': 'is', 3: 'easy'}\n"
     ]
    }
   ],
   "source": [
    "b=dict({1:\"python\",'c':\"is\",3:\"easy\"})\n",
    "print(b)"
   ]
  },
  {
   "cell_type": "markdown",
   "id": "337288d4-e6cf-44bf-aced-93ffcfccd8dc",
   "metadata": {},
   "source": [
    "keys() returns the keys functions"
   ]
  },
  {
   "cell_type": "code",
   "execution_count": 13,
   "id": "a8a6ddec-8a55-4679-9731-e3c351aa5f9e",
   "metadata": {},
   "outputs": [
    {
     "data": {
      "text/plain": [
       "dict_keys([1, 2, 3])"
      ]
     },
     "execution_count": 13,
     "metadata": {},
     "output_type": "execute_result"
    }
   ],
   "source": [
    "a.keys()"
   ]
  },
  {
   "cell_type": "code",
   "execution_count": null,
   "id": "963bb201-77b7-4cb7-86b0-bab70bdc4280",
   "metadata": {},
   "outputs": [],
   "source": [
    "values() returns the elements"
   ]
  },
  {
   "cell_type": "code",
   "execution_count": 15,
   "id": "61658792-497c-486a-9295-fbfd737c2be6",
   "metadata": {},
   "outputs": [
    {
     "data": {
      "text/plain": [
       "dict_values(['vishwa', 'chandra', 24])"
      ]
     },
     "execution_count": 15,
     "metadata": {},
     "output_type": "execute_result"
    }
   ],
   "source": [
    "a.values()"
   ]
  },
  {
   "cell_type": "markdown",
   "id": "01aa0c35-9c5b-4d8c-aaf2-5b79fd489ccc",
   "metadata": {},
   "source": [
    "items() returns with key value pair"
   ]
  },
  {
   "cell_type": "code",
   "execution_count": 17,
   "id": "ab3b92cf-a15d-464a-a355-70b09117b11a",
   "metadata": {},
   "outputs": [
    {
     "data": {
      "text/plain": [
       "dict_items([(1, 'vishwa'), (2, 'chandra'), (3, 24)])"
      ]
     },
     "execution_count": 17,
     "metadata": {},
     "output_type": "execute_result"
    }
   ],
   "source": [
    "a.items()"
   ]
  },
  {
   "cell_type": "markdown",
   "id": "aed67b24-155b-43b3-8908-e54d4df6f4c8",
   "metadata": {},
   "source": [
    "inside dict we can create another list,tuple,another dict"
   ]
  },
  {
   "cell_type": "code",
   "execution_count": 25,
   "id": "f70d0e4c-558d-44f4-ad1a-14dddf479531",
   "metadata": {},
   "outputs": [
    {
     "name": "stdout",
     "output_type": "stream",
     "text": [
      "{1: 'vishwa', 2: 'chandra', 3: 24, 4: [1, 2, 3, 4], 5: 'abc', 6: {'f': 'k'}}\n"
     ]
    }
   ],
   "source": [
    "a={1:\"vishwa\",2:\"chandra\",3:24,4:[1,2,3,4],5:(\"abc\"),6:{'f':\"k\"}}\n",
    "print(a)\n"
   ]
  },
  {
   "cell_type": "code",
   "execution_count": 27,
   "id": "3343affd-0e05-4989-861f-58bc0cc6c8da",
   "metadata": {},
   "outputs": [
    {
     "name": "stdout",
     "output_type": "stream",
     "text": [
      "{}\n"
     ]
    }
   ],
   "source": [
    "a.clear()\n",
    "print(a)"
   ]
  },
  {
   "cell_type": "code",
   "execution_count": 29,
   "id": "e464b502-d2ba-48f5-9779-67c80a064627",
   "metadata": {},
   "outputs": [],
   "source": [
    "del a"
   ]
  },
  {
   "cell_type": "code",
   "execution_count": 35,
   "id": "89f7b550-459b-4d90-bec7-ea16c09a3c22",
   "metadata": {},
   "outputs": [
    {
     "data": {
      "text/plain": [
       "{1: 'python', 'c': 'is', 3: 'easy'}"
      ]
     },
     "execution_count": 35,
     "metadata": {},
     "output_type": "execute_result"
    }
   ],
   "source": [
    "b"
   ]
  },
  {
   "cell_type": "code",
   "execution_count": 37,
   "id": "2b5f4d53-5513-4013-a085-fc82db6e28dd",
   "metadata": {},
   "outputs": [
    {
     "name": "stdout",
     "output_type": "stream",
     "text": [
      "{1: 'python', 'c': 'is', 3: 'easy'}\n"
     ]
    }
   ],
   "source": [
    "a=b.copy()\n",
    "print(a)"
   ]
  },
  {
   "cell_type": "code",
   "execution_count": 1,
   "id": "45d0f7be-b0bc-4dda-a7a3-2610e569dff6",
   "metadata": {},
   "outputs": [
    {
     "name": "stdout",
     "output_type": "stream",
     "text": [
      "{'c': None, 'ab': None, 'a': None}\n"
     ]
    }
   ],
   "source": [
    "keys={'a','ab','c'}\n",
    "a=dict.fromkeys(keys)\n",
    "print(a)"
   ]
  },
  {
   "cell_type": "code",
   "execution_count": 21,
   "id": "7198ab77-a605-4367-a579-eb7d9900dd47",
   "metadata": {},
   "outputs": [
    {
     "name": "stdout",
     "output_type": "stream",
     "text": [
      "{'24': [20, 30, 40], '1': [20, 30, 40], '23': [20, 30, 40]}\n"
     ]
    }
   ],
   "source": [
    "keys={'1','23','24'}\n",
    "values=[20,30,40]\n",
    "a=dict.fromkeys(keys,values)\n",
    "print(a)"
   ]
  },
  {
   "cell_type": "code",
   "execution_count": 23,
   "id": "364c5775-35f0-4de9-948d-056611a6f6f8",
   "metadata": {},
   "outputs": [
    {
     "name": "stdout",
     "output_type": "stream",
     "text": [
      "{'24': [20, 30, 40, 90], '1': [20, 30, 40, 90], '23': [20, 30, 40, 90]}\n"
     ]
    }
   ],
   "source": [
    "values.append(90)\n",
    "print(a)"
   ]
  },
  {
   "cell_type": "markdown",
   "id": "87d718fa-541b-467c-b063-4419ac88b792",
   "metadata": {},
   "source": [
    "accesing items"
   ]
  },
  {
   "cell_type": "code",
   "execution_count": 41,
   "id": "81645b2b-d0c3-49f0-93e3-b230067af91e",
   "metadata": {},
   "outputs": [
    {
     "data": {
      "text/plain": [
       "{'a': 'vishwa', 2: 'chandra', 'c': 'kvc'}"
      ]
     },
     "execution_count": 41,
     "metadata": {},
     "output_type": "execute_result"
    }
   ],
   "source": [
    "y={'a':'vishwa',2:'chandra','c':'kvc'}\n",
    "y"
   ]
  },
  {
   "cell_type": "code",
   "execution_count": 43,
   "id": "ae170dd0-a794-48eb-ba48-29a307752bcd",
   "metadata": {},
   "outputs": [
    {
     "data": {
      "text/plain": [
       "'vishwa'"
      ]
     },
     "execution_count": 43,
     "metadata": {},
     "output_type": "execute_result"
    }
   ],
   "source": [
    "y['a']"
   ]
  },
  {
   "cell_type": "code",
   "execution_count": 45,
   "id": "8951183e-e109-4c52-882f-9420e0604908",
   "metadata": {},
   "outputs": [
    {
     "data": {
      "text/plain": [
       "'chandra'"
      ]
     },
     "execution_count": 45,
     "metadata": {},
     "output_type": "execute_result"
    }
   ],
   "source": [
    "y.get(2)"
   ]
  },
  {
   "cell_type": "code",
   "execution_count": 47,
   "id": "3ea84054-0c1d-4ba8-b8a8-80ce12a546c2",
   "metadata": {},
   "outputs": [
    {
     "data": {
      "text/plain": [
       "'vishwa'"
      ]
     },
     "execution_count": 47,
     "metadata": {},
     "output_type": "execute_result"
    }
   ],
   "source": [
    "y.get('a')"
   ]
  },
  {
   "cell_type": "markdown",
   "id": "9ec42c6b-aaeb-4663-ac5b-3c9eef2ef0b2",
   "metadata": {},
   "source": [
    "change items"
   ]
  },
  {
   "cell_type": "code",
   "execution_count": 50,
   "id": "c5119372-95ad-41eb-9c82-7010f69e4ecf",
   "metadata": {},
   "outputs": [
    {
     "data": {
      "text/plain": [
       "{'a': 'vishwa', 2: 'chandra', 'c': 'kvc'}"
      ]
     },
     "execution_count": 50,
     "metadata": {},
     "output_type": "execute_result"
    }
   ],
   "source": [
    "y"
   ]
  },
  {
   "cell_type": "code",
   "execution_count": 52,
   "id": "60ccc162-74d4-4d74-92e7-b61c95272d5f",
   "metadata": {},
   "outputs": [],
   "source": [
    "y['a']=\"kvishwa\""
   ]
  },
  {
   "cell_type": "code",
   "execution_count": 54,
   "id": "a9a7cd2e-9c1f-4178-a9c6-016cc8994413",
   "metadata": {},
   "outputs": [
    {
     "data": {
      "text/plain": [
       "{'a': 'kvishwa', 2: 'chandra', 'c': 'kvc'}"
      ]
     },
     "execution_count": 54,
     "metadata": {},
     "output_type": "execute_result"
    }
   ],
   "source": [
    "y"
   ]
  },
  {
   "cell_type": "markdown",
   "id": "542a501f-1ef1-4c7c-a670-d13e8a80a7c1",
   "metadata": {},
   "source": [
    "adding elements"
   ]
  },
  {
   "cell_type": "code",
   "execution_count": 65,
   "id": "48edc71a-3afe-4e71-9c2d-cbbdb957f6fa",
   "metadata": {},
   "outputs": [
    {
     "name": "stdout",
     "output_type": "stream",
     "text": [
      "{'a': 'kvishwa', 2: 'chandra', 'c': 'kvc'}\n"
     ]
    }
   ],
   "source": [
    "print(y)"
   ]
  },
  {
   "cell_type": "code",
   "execution_count": 71,
   "id": "207dab58-2d13-4b33-8dd9-132243876098",
   "metadata": {},
   "outputs": [],
   "source": [
    "y[4]='python'"
   ]
  },
  {
   "cell_type": "code",
   "execution_count": 73,
   "id": "6599c394-a250-4e08-993b-29f921b22b0e",
   "metadata": {},
   "outputs": [
    {
     "name": "stdout",
     "output_type": "stream",
     "text": [
      "{'a': 'kvishwa', 2: 'chandra', 'c': 'kvc', 4: 'python'}\n"
     ]
    }
   ],
   "source": [
    "print(y)"
   ]
  },
  {
   "cell_type": "code",
   "execution_count": null,
   "id": "bcebb9a8-5837-4431-9697-b5ffe019ac2f",
   "metadata": {},
   "outputs": [],
   "source": [
    "pop"
   ]
  },
  {
   "cell_type": "code",
   "execution_count": 75,
   "id": "2fe1ae9e-094d-46e7-9731-c09184d1bf37",
   "metadata": {},
   "outputs": [
    {
     "data": {
      "text/plain": [
       "{'a': 'kvishwa', 2: 'chandra', 'c': 'kvc', 4: 'python'}"
      ]
     },
     "execution_count": 75,
     "metadata": {},
     "output_type": "execute_result"
    }
   ],
   "source": [
    "y"
   ]
  },
  {
   "cell_type": "code",
   "execution_count": 79,
   "id": "dd490a14-3db6-428b-978e-a0ac60d1483e",
   "metadata": {},
   "outputs": [
    {
     "data": {
      "text/plain": [
       "(4, 'python')"
      ]
     },
     "execution_count": 79,
     "metadata": {},
     "output_type": "execute_result"
    }
   ],
   "source": [
    "y.popitem()  #random "
   ]
  },
  {
   "cell_type": "code",
   "execution_count": 81,
   "id": "924ed93d-7b6a-4552-a026-a18e9caf9def",
   "metadata": {},
   "outputs": [
    {
     "data": {
      "text/plain": [
       "{'a': 'kvishwa', 2: 'chandra'}"
      ]
     },
     "execution_count": 81,
     "metadata": {},
     "output_type": "execute_result"
    }
   ],
   "source": [
    "y.pop('c')\n",
    "y"
   ]
  },
  {
   "cell_type": "code",
   "execution_count": 87,
   "id": "5f4a7cfb-a32a-450f-b823-33a9ed76e5fc",
   "metadata": {},
   "outputs": [],
   "source": [
    "del[y['a']]"
   ]
  },
  {
   "cell_type": "code",
   "execution_count": 89,
   "id": "6cac5e8c-b7d2-45bd-aebd-6abdd700f15e",
   "metadata": {},
   "outputs": [
    {
     "data": {
      "text/plain": [
       "{2: 'chandra'}"
      ]
     },
     "execution_count": 89,
     "metadata": {},
     "output_type": "execute_result"
    }
   ],
   "source": [
    "y"
   ]
  },
  {
   "cell_type": "code",
   "execution_count": 91,
   "id": "90d39710-487d-4a36-b92f-9081b1ce0cc2",
   "metadata": {},
   "outputs": [],
   "source": [
    "y['1']=\"vishwa\"\n",
    "y[3]=\"fsds\""
   ]
  },
  {
   "cell_type": "code",
   "execution_count": 93,
   "id": "f7146414-6c53-4e40-8e7e-9a4d176f897b",
   "metadata": {},
   "outputs": [
    {
     "data": {
      "text/plain": [
       "{2: 'chandra', '1': 'vishwa', 3: 'fsds'}"
      ]
     },
     "execution_count": 93,
     "metadata": {},
     "output_type": "execute_result"
    }
   ],
   "source": [
    "y"
   ]
  },
  {
   "cell_type": "code",
   "execution_count": 99,
   "id": "9efb1916-0848-4427-b185-eee67b7d282d",
   "metadata": {},
   "outputs": [
    {
     "name": "stdout",
     "output_type": "stream",
     "text": [
      "2 : chandra\n",
      "1 : vishwa\n",
      "3 : fsds\n"
     ]
    }
   ],
   "source": [
    "for i in y:\n",
    "    print(i,':',y[i])"
   ]
  },
  {
   "cell_type": "code",
   "execution_count": 107,
   "id": "a271feaa-66b2-4b61-b6d1-0a2270c28d4c",
   "metadata": {},
   "outputs": [
    {
     "name": "stdout",
     "output_type": "stream",
     "text": [
      "chandra\n",
      "vishwa\n",
      "fsds\n"
     ]
    }
   ],
   "source": [
    "for i in (y):\n",
    "    print(y[i])"
   ]
  },
  {
   "cell_type": "markdown",
   "id": "61f31f3f-e2af-4871-bc69-c58bd54157b1",
   "metadata": {},
   "source": [
    "membership can be done only for keys"
   ]
  },
  {
   "cell_type": "code",
   "execution_count": 109,
   "id": "553f23f6-93d9-4610-8725-6d3aa31e3ede",
   "metadata": {},
   "outputs": [
    {
     "data": {
      "text/plain": [
       "{2: 'chandra', '1': 'vishwa', 3: 'fsds'}"
      ]
     },
     "execution_count": 109,
     "metadata": {},
     "output_type": "execute_result"
    }
   ],
   "source": [
    "y"
   ]
  },
  {
   "cell_type": "code",
   "execution_count": 111,
   "id": "a1a02464-f1fe-4a6b-b856-e0cb2a52aec4",
   "metadata": {},
   "outputs": [
    {
     "data": {
      "text/plain": [
       "True"
      ]
     },
     "execution_count": 111,
     "metadata": {},
     "output_type": "execute_result"
    }
   ],
   "source": [
    "3 in y"
   ]
  },
  {
   "cell_type": "code",
   "execution_count": 113,
   "id": "35f1c640-e0e8-4417-931f-75fa867f4038",
   "metadata": {},
   "outputs": [
    {
     "data": {
      "text/plain": [
       "False"
      ]
     },
     "execution_count": 113,
     "metadata": {},
     "output_type": "execute_result"
    }
   ],
   "source": [
    "'vishwa' in y"
   ]
  },
  {
   "cell_type": "code",
   "execution_count": 115,
   "id": "4267083f-128b-46fe-82ba-8d9dc3aa14b0",
   "metadata": {},
   "outputs": [
    {
     "data": {
      "text/plain": [
       "True"
      ]
     },
     "execution_count": 115,
     "metadata": {},
     "output_type": "execute_result"
    }
   ],
   "source": [
    "all(y)"
   ]
  },
  {
   "cell_type": "code",
   "execution_count": 117,
   "id": "654477cc-86c8-4295-a697-34e86dd3fbdd",
   "metadata": {},
   "outputs": [
    {
     "data": {
      "text/plain": [
       "True"
      ]
     },
     "execution_count": 117,
     "metadata": {},
     "output_type": "execute_result"
    }
   ],
   "source": [
    "any(y)"
   ]
  },
  {
   "cell_type": "code",
   "execution_count": null,
   "id": "e59cc251-af9e-4321-bdf8-85715536709a",
   "metadata": {},
   "outputs": [],
   "source": []
  }
 ],
 "metadata": {
  "kernelspec": {
   "display_name": "Python [conda env:base] *",
   "language": "python",
   "name": "conda-base-py"
  },
  "language_info": {
   "codemirror_mode": {
    "name": "ipython",
    "version": 3
   },
   "file_extension": ".py",
   "mimetype": "text/x-python",
   "name": "python",
   "nbconvert_exporter": "python",
   "pygments_lexer": "ipython3",
   "version": "3.12.7"
  }
 },
 "nbformat": 4,
 "nbformat_minor": 5
}
