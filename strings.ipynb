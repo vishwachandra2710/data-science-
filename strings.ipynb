{
 "cells": [
  {
   "cell_type": "markdown",
   "id": "b7dea678-5dfa-4950-8769-88985739c5a6",
   "metadata": {},
   "source": [
    "STRINGS"
   ]
  },
  {
   "cell_type": "code",
   "execution_count": 5,
   "id": "f3b7f665-3a6b-4cb0-b619-778cde24d182",
   "metadata": {},
   "outputs": [
    {
     "name": "stdout",
     "output_type": "stream",
     "text": [
      "abc asdfgh \n",
      "     asdf\n",
      "     wedf\n",
      "      "
     ]
    }
   ],
   "source": [
    "str1='abc'\n",
    "str2=\"asdfgh\"\n",
    "str3='''\n",
    "     asdf\n",
    "     wedf\n",
    "     '''\n",
    "print(str1,str2,str3,end=' ')\n"
   ]
  },
  {
   "cell_type": "code",
   "execution_count": 11,
   "id": "a3cff23f-1cae-4180-abd3-60afac7c14d3",
   "metadata": {},
   "outputs": [
    {
     "name": "stdout",
     "output_type": "stream",
     "text": [
      "hello are you there\n"
     ]
    }
   ],
   "source": [
    "str23=('hello'\n",
    "       ' are'\n",
    "       ' you there')\n",
    "print(str23)"
   ]
  },
  {
   "cell_type": "code",
   "execution_count": 19,
   "id": "dc2b2713-558f-4291-aa6b-5e25dfd19bf0",
   "metadata": {},
   "outputs": [
    {
     "name": "stdout",
     "output_type": "stream",
     "text": [
      " vishwa  vishwa  vishwa  vishwa  vishwa  vishwa  vishwa  vishwa  vishwa  vishwa  vishwa  vishwa  vishwa  vishwa  vishwa  vishwa  vishwa  vishwa  vishwa  vishwa  vishwa  vishwa  vishwa \n",
      "49\n",
      "1981241738928\n",
      "8\n"
     ]
    }
   ],
   "source": [
    "import sys\n",
    "str24 = \" vishwa \"\n",
    "print(str24*23)\n",
    "print(sys.getsizeof(str24))\n",
    "print(id(str24))\n",
    "print(len(str24))"
   ]
  },
  {
   "cell_type": "markdown",
   "id": "891fb685-140e-4ad3-82d7-e1022bf43df5",
   "metadata": {},
   "source": [
    "#string indexing"
   ]
  },
  {
   "cell_type": "code",
   "execution_count": 33,
   "id": "78738d16-a38a-4510-8531-21566f640876",
   "metadata": {},
   "outputs": [
    {
     "name": "stdout",
     "output_type": "stream",
     "text": [
      "vishwachandra\n"
     ]
    },
    {
     "data": {
      "text/plain": [
       "13"
      ]
     },
     "execution_count": 33,
     "metadata": {},
     "output_type": "execute_result"
    }
   ],
   "source": [
    "str1=\"vishwachandra\"\n",
    "print(str1)\n",
    "len(str1)"
   ]
  },
  {
   "cell_type": "code",
   "execution_count": 25,
   "id": "068ce70d-dbb0-4c08-afcf-02b976525cfc",
   "metadata": {},
   "outputs": [
    {
     "data": {
      "text/plain": [
       "'w'"
      ]
     },
     "execution_count": 25,
     "metadata": {},
     "output_type": "execute_result"
    }
   ],
   "source": [
    "str1[4]"
   ]
  },
  {
   "cell_type": "code",
   "execution_count": 27,
   "id": "4c1ba22a-d57c-42c2-a7b0-f16ff44a11f8",
   "metadata": {},
   "outputs": [
    {
     "data": {
      "text/plain": [
       "'d'"
      ]
     },
     "execution_count": 27,
     "metadata": {},
     "output_type": "execute_result"
    }
   ],
   "source": [
    "str1[-3]"
   ]
  },
  {
   "cell_type": "code",
   "execution_count": 29,
   "id": "d0d77209-d5a6-40c1-b5cb-9d5f35cbe948",
   "metadata": {},
   "outputs": [
    {
     "data": {
      "text/plain": [
       "'h'"
      ]
     },
     "execution_count": 29,
     "metadata": {},
     "output_type": "execute_result"
    }
   ],
   "source": [
    "str1[3]"
   ]
  },
  {
   "cell_type": "markdown",
   "id": "5305400e-ffe0-4fd8-8353-3ae21936cd52",
   "metadata": {},
   "source": [
    "#string slicing"
   ]
  },
  {
   "cell_type": "code",
   "execution_count": 31,
   "id": "c119c36d-5190-4c26-9112-91e0d6500b65",
   "metadata": {},
   "outputs": [
    {
     "data": {
      "text/plain": [
       "'vis'"
      ]
     },
     "execution_count": 31,
     "metadata": {},
     "output_type": "execute_result"
    }
   ],
   "source": [
    "str1[0:3]"
   ]
  },
  {
   "cell_type": "code",
   "execution_count": 5,
   "id": "4b55a83c-433e-4290-9ca8-764ac415dbdc",
   "metadata": {},
   "outputs": [
    {
     "data": {
      "text/plain": [
       "'sa'"
      ]
     },
     "execution_count": 5,
     "metadata": {},
     "output_type": "execute_result"
    }
   ],
   "source": [
    "str1=\"vishwachandra\"\n",
    "str1[2:7:3]"
   ]
  },
  {
   "cell_type": "code",
   "execution_count": 11,
   "id": "d2ed1cb4-333b-406b-8608-bba9ae93d3bd",
   "metadata": {},
   "outputs": [
    {
     "data": {
      "text/plain": [
       "'a'"
      ]
     },
     "execution_count": 11,
     "metadata": {},
     "output_type": "execute_result"
    }
   ],
   "source": [
    "str1[-1]"
   ]
  },
  {
   "cell_type": "code",
   "execution_count": 17,
   "id": "61a774fe-e3f8-4178-b4f3-d8a32c17f72c",
   "metadata": {},
   "outputs": [
    {
     "data": {
      "text/plain": [
       "'vishwac'"
      ]
     },
     "execution_count": 17,
     "metadata": {},
     "output_type": "execute_result"
    }
   ],
   "source": [
    "str1[0:-6]"
   ]
  },
  {
   "cell_type": "code",
   "execution_count": 21,
   "id": "171b3ed8-8e31-43c0-8350-574185d348a7",
   "metadata": {},
   "outputs": [
    {
     "data": {
      "text/plain": [
       "''"
      ]
     },
     "execution_count": 21,
     "metadata": {},
     "output_type": "execute_result"
    }
   ],
   "source": [
    "str1[-1:-2]"
   ]
  },
  {
   "cell_type": "markdown",
   "id": "634cbe12-62e7-4b92-a433-1f2e4875368c",
   "metadata": {},
   "source": [
    "STRINGS CANNOT BE UPDTAED,deleted completely (IMMUTABLE)\n"
   ]
  },
  {
   "cell_type": "markdown",
   "id": "20e2d40d-0d89-48f9-bf28-6940b7dfa7ed",
   "metadata": {},
   "source": [
    "STRING CONCATENATION"
   ]
  }
 ],
 "metadata": {
  "kernelspec": {
   "display_name": "Python [conda env:base] *",
   "language": "python",
   "name": "conda-base-py"
  },
  "language_info": {
   "codemirror_mode": {
    "name": "ipython",
    "version": 3
   },
   "file_extension": ".py",
   "mimetype": "text/x-python",
   "name": "python",
   "nbconvert_exporter": "python",
   "pygments_lexer": "ipython3",
   "version": "3.12.7"
  }
 },
 "nbformat": 4,
 "nbformat_minor": 5
}
