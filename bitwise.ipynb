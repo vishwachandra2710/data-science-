{
 "cells": [
  {
   "cell_type": "markdown",
   "id": "352e4b8f-3ab4-4383-8c20-9fbeec12cc17",
   "metadata": {},
   "source": [
    "BIT WISE OPERATORS\n",
    "_____________________\n",
    "COMPLEMENT~\n",
    "AND &\n",
    "OR |\n",
    "NOT\n",
    "XOR (^) EXCLUSIVE OR\n",
    "LEFT SHIFT(<<)\n",
    "RIGHT SHIFT(>>)\n"
   ]
  },
  {
   "cell_type": "markdown",
   "id": "e41e8d31-6f41-425b-b121-f440089f5e45",
   "metadata": {},
   "source": [
    "complement(adding 1 to the 1s complement)\n"
   ]
  },
  {
   "cell_type": "code",
   "execution_count": 9,
   "id": "3a6e1d4f-8296-4dd3-9f75-10701fd6a8fa",
   "metadata": {},
   "outputs": [
    {
     "data": {
      "text/plain": [
       "-11"
      ]
     },
     "execution_count": 9,
     "metadata": {},
     "output_type": "execute_result"
    }
   ],
   "source": [
    "~10"
   ]
  },
  {
   "cell_type": "code",
   "execution_count": 3,
   "id": "b9072f25-4913-48f3-84ae-9cfcd2001c3b",
   "metadata": {},
   "outputs": [
    {
     "data": {
      "text/plain": [
       "-1"
      ]
     },
     "execution_count": 3,
     "metadata": {},
     "output_type": "execute_result"
    }
   ],
   "source": [
    "~0"
   ]
  },
  {
   "cell_type": "code",
   "execution_count": 7,
   "id": "b9bd995f-3edd-4924-8b08-fafcea8f3248",
   "metadata": {},
   "outputs": [
    {
     "data": {
      "text/plain": [
       "0"
      ]
     },
     "execution_count": 7,
     "metadata": {},
     "output_type": "execute_result"
    }
   ],
   "source": [
    "~-1"
   ]
  },
  {
   "cell_type": "markdown",
   "id": "953c3d92-dc56-4731-89d3-bbe280efafb1",
   "metadata": {},
   "source": [
    "AND(&)\n",
    "...........\n",
    "1 1 = 1\n",
    "remaining all 0"
   ]
  },
  {
   "cell_type": "code",
   "execution_count": 11,
   "id": "c76c0c56-f5a9-4132-a262-7831123c1151",
   "metadata": {},
   "outputs": [
    {
     "data": {
      "text/plain": [
       "8"
      ]
     },
     "execution_count": 11,
     "metadata": {},
     "output_type": "execute_result"
    }
   ],
   "source": [
    "24 & 42 "
   ]
  },
  {
   "cell_type": "code",
   "execution_count": 13,
   "id": "88256868-a78a-4108-9a2b-295f58402a5a",
   "metadata": {},
   "outputs": [
    {
     "data": {
      "text/plain": [
       "42"
      ]
     },
     "execution_count": 13,
     "metadata": {},
     "output_type": "execute_result"
    }
   ],
   "source": [
    "24 and 42 #in non zero cases it returns second value"
   ]
  },
  {
   "cell_type": "code",
   "execution_count": 15,
   "id": "b860f10a-b010-4973-b893-ece4ba607219",
   "metadata": {},
   "outputs": [
    {
     "data": {
      "text/plain": [
       "0"
      ]
     },
     "execution_count": 15,
     "metadata": {},
     "output_type": "execute_result"
    }
   ],
   "source": [
    "0 and 24"
   ]
  },
  {
   "cell_type": "markdown",
   "id": "f008dabc-e9cb-42a1-ba15-414a7ac7de10",
   "metadata": {},
   "source": [
    "OR(|)\n",
    "............\n",
    "1 1 = 1\n",
    "0 1 = 1\n",
    "1 0 = 1\n",
    "0 0 = 0"
   ]
  },
  {
   "cell_type": "code",
   "execution_count": 17,
   "id": "912574f9-ef19-4080-9146-fd94c1518015",
   "metadata": {},
   "outputs": [
    {
     "data": {
      "text/plain": [
       "30"
      ]
     },
     "execution_count": 17,
     "metadata": {},
     "output_type": "execute_result"
    }
   ],
   "source": [
    "20 | 30"
   ]
  },
  {
   "cell_type": "code",
   "execution_count": 19,
   "id": "b75655bf-0e3d-4a8a-b776-2ea29b3ea087",
   "metadata": {},
   "outputs": [
    {
     "data": {
      "text/plain": [
       "90"
      ]
     },
     "execution_count": 19,
     "metadata": {},
     "output_type": "execute_result"
    }
   ],
   "source": [
    "90 or 140 #in non zeros values returns first value"
   ]
  },
  {
   "cell_type": "code",
   "execution_count": 23,
   "id": "33130cbb-0441-4325-9c84-ff7f07fb66cc",
   "metadata": {},
   "outputs": [
    {
     "data": {
      "text/plain": [
       "30"
      ]
     },
     "execution_count": 23,
     "metadata": {},
     "output_type": "execute_result"
    }
   ],
   "source": [
    "0 or 30"
   ]
  },
  {
   "cell_type": "markdown",
   "id": "7271b056-f172-4dfa-9f4d-3f8c47834752",
   "metadata": {},
   "source": [
    "exclusive or(^)\n",
    ".........................\n",
    "0 1 =1\n",
    "1 0 =1 \n",
    "remaining cases 0"
   ]
  },
  {
   "cell_type": "code",
   "execution_count": 26,
   "id": "ac6b5199-653e-47c0-8c12-c3212f4949d6",
   "metadata": {},
   "outputs": [
    {
     "data": {
      "text/plain": [
       "14"
      ]
     },
     "execution_count": 26,
     "metadata": {},
     "output_type": "execute_result"
    }
   ],
   "source": [
    "37 ^ 43"
   ]
  },
  {
   "cell_type": "markdown",
   "id": "0c84cc2b-73ae-42c4-8681-10fadf5a1d66",
   "metadata": {},
   "source": [
    "left shift(<<)\n",
    "..............\n",
    "getting of zeros at the right"
   ]
  },
  {
   "cell_type": "code",
   "execution_count": 28,
   "id": "7cfc5fb5-caaa-4de8-996a-9bbc3b497e85",
   "metadata": {},
   "outputs": [
    {
     "data": {
      "text/plain": [
       "'0b10111'"
      ]
     },
     "execution_count": 28,
     "metadata": {},
     "output_type": "execute_result"
    }
   ],
   "source": [
    "bin(23)"
   ]
  },
  {
   "cell_type": "code",
   "execution_count": 30,
   "id": "e5713172-949a-4810-9055-1e0f680a9b9d",
   "metadata": {},
   "outputs": [
    {
     "data": {
      "text/plain": [
       "92"
      ]
     },
     "execution_count": 30,
     "metadata": {},
     "output_type": "execute_result"
    }
   ],
   "source": [
    "23<<2"
   ]
  },
  {
   "cell_type": "markdown",
   "id": "380e5767-bb55-4359-984a-2c49f11e78c6",
   "metadata": {},
   "source": [
    "right shift(>>)\n",
    ".........................\n",
    "losing of values to the rig"
   ]
  },
  {
   "cell_type": "code",
   "execution_count": 32,
   "id": "996e65ba-3e31-4a31-8f0f-f76829bf967a",
   "metadata": {},
   "outputs": [
    {
     "data": {
      "text/plain": [
       "5"
      ]
     },
     "execution_count": 32,
     "metadata": {},
     "output_type": "execute_result"
    }
   ],
   "source": [
    "23>>2"
   ]
  },
  {
   "cell_type": "code",
   "execution_count": null,
   "id": "e0d22400-3ff3-4362-8d09-cd23d3b71420",
   "metadata": {},
   "outputs": [],
   "source": []
  },
  {
   "cell_type": "code",
   "execution_count": null,
   "id": "a36b6c06-3ea7-45be-86e0-a169e0100752",
   "metadata": {},
   "outputs": [],
   "source": []
  }
 ],
 "metadata": {
  "kernelspec": {
   "display_name": "Python [conda env:base] *",
   "language": "python",
   "name": "conda-base-py"
  },
  "language_info": {
   "codemirror_mode": {
    "name": "ipython",
    "version": 3
   },
   "file_extension": ".py",
   "mimetype": "text/x-python",
   "name": "python",
   "nbconvert_exporter": "python",
   "pygments_lexer": "ipython3",
   "version": "3.12.7"
  }
 },
 "nbformat": 4,
 "nbformat_minor": 5
}
