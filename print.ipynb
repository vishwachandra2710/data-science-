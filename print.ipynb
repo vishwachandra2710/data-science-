{
 "cells": [
  {
   "cell_type": "code",
   "execution_count": 2,
   "id": "ded1f22f-fe8e-4741-80b3-2fc0789a2566",
   "metadata": {},
   "outputs": [
    {
     "data": {
      "text/plain": [
       "'3.12.7 | packaged by Anaconda, Inc. | (main, Oct  4 2024, 13:17:27) [MSC v.1929 64 bit (AMD64)]'"
      ]
     },
     "execution_count": 2,
     "metadata": {},
     "output_type": "execute_result"
    }
   ],
   "source": [
    "import sys\n",
    "sys.version"
   ]
  },
  {
   "cell_type": "code",
   "execution_count": 7,
   "id": "a593b012-1da4-45cb-bf04-926fff6b6ec3",
   "metadata": {},
   "outputs": [
    {
     "data": {
      "text/plain": [
       "['False',\n",
       " 'None',\n",
       " 'True',\n",
       " 'and',\n",
       " 'as',\n",
       " 'assert',\n",
       " 'async',\n",
       " 'await',\n",
       " 'break',\n",
       " 'class',\n",
       " 'continue',\n",
       " 'def',\n",
       " 'del',\n",
       " 'elif',\n",
       " 'else',\n",
       " 'except',\n",
       " 'finally',\n",
       " 'for',\n",
       " 'from',\n",
       " 'global',\n",
       " 'if',\n",
       " 'import',\n",
       " 'in',\n",
       " 'is',\n",
       " 'lambda',\n",
       " 'nonlocal',\n",
       " 'not',\n",
       " 'or',\n",
       " 'pass',\n",
       " 'raise',\n",
       " 'return',\n",
       " 'try',\n",
       " 'while',\n",
       " 'with',\n",
       " 'yield']"
      ]
     },
     "execution_count": 7,
     "metadata": {},
     "output_type": "execute_result"
    }
   ],
   "source": [
    "import keyword\n",
    "keyword.kwlist"
   ]
  },
  {
   "cell_type": "code",
   "execution_count": 11,
   "id": "f8a5117e-3424-433f-8ce2-1808553dc54c",
   "metadata": {},
   "outputs": [
    {
     "data": {
      "text/plain": [
       "35"
      ]
     },
     "execution_count": 11,
     "metadata": {},
     "output_type": "execute_result"
    }
   ],
   "source": [
    "len(keyword.kwlist)"
   ]
  },
  {
   "cell_type": "code",
   "execution_count": 4,
   "id": "7ac0fe6e-7f27-4157-96e3-10de1bed0cfb",
   "metadata": {},
   "outputs": [
    {
     "data": {
      "text/plain": [
       "23"
      ]
     },
     "execution_count": 4,
     "metadata": {},
     "output_type": "execute_result"
    }
   ],
   "source": [
    "23"
   ]
  },
  {
   "cell_type": "markdown",
   "id": "096443eb-ad32-42cb-baa1-202e847d9bd5",
   "metadata": {},
   "source": [
    "#PRINT STATEMENT\n"
   ]
  },
  {
   "cell_type": "code",
   "execution_count": 6,
   "id": "abd15f37-849f-4c72-bc44-e958e58ff7b1",
   "metadata": {},
   "outputs": [
    {
     "data": {
      "text/plain": [
       "20"
      ]
     },
     "execution_count": 6,
     "metadata": {},
     "output_type": "execute_result"
    }
   ],
   "source": [
    "a=10\n",
    "b=20\n",
    "a\n",
    "b\n"
   ]
  },
  {
   "cell_type": "code",
   "execution_count": 8,
   "id": "8551fb42-dd11-44ab-8f86-a15381f7b7fd",
   "metadata": {},
   "outputs": [
    {
     "name": "stdout",
     "output_type": "stream",
     "text": [
      "10\n",
      "20\n"
     ]
    }
   ],
   "source": [
    "\n",
    "a=10\n",
    "b=20\n",
    "print(a)\n",
    "print(b)"
   ]
  },
  {
   "cell_type": "code",
   "execution_count": 10,
   "id": "f93d973a-f9fb-4775-a6bd-054001d9322b",
   "metadata": {},
   "outputs": [
    {
     "name": "stdout",
     "output_type": "stream",
     "text": [
      "1\n",
      "10 20\n",
      "python\n",
      "10 20 python\n"
     ]
    }
   ],
   "source": [
    "print(1)\n",
    "print(10,20)\n",
    "print('python')\n",
    "print(10,20,'python')"
   ]
  },
  {
   "cell_type": "code",
   "execution_count": null,
   "id": "dfc4d649-835d-44d7-95fd-1b67031fb046",
   "metadata": {},
   "outputs": [],
   "source": [
    "#print result with string"
   ]
  },
  {
   "cell_type": "code",
   "execution_count": 16,
   "id": "6d890de3-a0fd-43f7-88d4-ff91e7a3cf09",
   "metadata": {},
   "outputs": [
    {
     "name": "stdout",
     "output_type": "stream",
     "text": [
      "the addition of 23 and 24 is 47\n",
      "the subtraction of 23 and 24 is -1\n",
      "the multiplication of 23 and 24 is 552\n",
      "the division of 23 and 24 is 0\n"
     ]
    }
   ],
   "source": [
    "a=23\n",
    "b=24\n",
    "c=a+b\n",
    "d=a-b\n",
    "e=a*b\n",
    "f=a//b\n",
    "print(\"the addition of\",a,\"and\",b,\"is\",c)\n",
    "print(\"the subtraction of\",a,\"and\",b,\"is\",d)\n",
    "print(\"the multiplication of\",a,\"and\",b,\"is\",e)\n",
    "print(\"the division of\",a,\"and\",b,\"is\",f)"
   ]
  },
  {
   "cell_type": "code",
   "execution_count": 20,
   "id": "00e5fb77-a988-4d2d-8181-7b8821ab2e25",
   "metadata": {},
   "outputs": [
    {
     "name": "stdout",
     "output_type": "stream",
     "text": [
      "i am  vishwa my age is 21 and i am from hyd\n"
     ]
    }
   ],
   "source": [
    "name = \"vishwa\"\n",
    "age=21\n",
    "city=\"hyd\"\n",
    "print(\"i am \",name,\"my age is\",age,\"and i am from\",city)"
   ]
  },
  {
   "cell_type": "markdown",
   "id": "f087c11f-097b-4633-812a-8b778eebf459",
   "metadata": {},
   "source": [
    "#print format method"
   ]
  },
  {
   "cell_type": "code",
   "execution_count": 24,
   "id": "d5c84b05-5b58-4a24-ab30-c6cf405bd2b3",
   "metadata": {},
   "outputs": [
    {
     "name": "stdout",
     "output_type": "stream",
     "text": [
      "i am vishwa my age is 21 and i am from hyd\n"
     ]
    }
   ],
   "source": [
    "name = \"vishwa\"\n",
    "age=21\n",
    "city=\"hyd\"\n",
    "print(\"i am {} my age is {} and i am from {}\".format(name,age,city))"
   ]
  },
  {
   "cell_type": "markdown",
   "id": "243ad57f-ff6e-48f6-ae3a-7f0491dd8e69",
   "metadata": {},
   "source": [
    "#More short format meythod(f string method)"
   ]
  },
  {
   "cell_type": "code",
   "execution_count": 32,
   "id": "ed97015b-f7d0-4c0f-b96d-e8f155117a24",
   "metadata": {},
   "outputs": [
    {
     "name": "stdout",
     "output_type": "stream",
     "text": [
      "i am vishwa my age is 21 and i am from hyd\n"
     ]
    }
   ],
   "source": [
    "name = \"vishwa\"\n",
    "age=21\n",
    "city=\"hyd\"\n",
    "print(f\"i am {name} my age is {age} and i am from {city}\")"
   ]
  },
  {
   "cell_type": "markdown",
   "id": "c1cfd7df-fcf4-4e55-9c14-101e8a5ca14c",
   "metadata": {},
   "source": [
    "#END STATEMENT"
   ]
  },
  {
   "cell_type": "code",
   "execution_count": 35,
   "id": "dc38c06f-4978-4f9f-a158-175f65981f98",
   "metadata": {},
   "outputs": [
    {
     "name": "stdout",
     "output_type": "stream",
     "text": [
      "hello good night\n"
     ]
    }
   ],
   "source": [
    "print(\"hello\",end=' ')\n",
    "print(\"good night\")\n"
   ]
  },
  {
   "cell_type": "code",
   "execution_count": null,
   "id": "de508de6-a48e-4bbb-9a86-74473c58dbbe",
   "metadata": {},
   "outputs": [],
   "source": [
    "print(\"hi\",\"how\",\"are\",you"
   ]
  }
 ],
 "metadata": {
  "kernelspec": {
   "display_name": "Python [conda env:base] *",
   "language": "python",
   "name": "conda-base-py"
  },
  "language_info": {
   "codemirror_mode": {
    "name": "ipython",
    "version": 3
   },
   "file_extension": ".py",
   "mimetype": "text/x-python",
   "name": "python",
   "nbconvert_exporter": "python",
   "pygments_lexer": "ipython3",
   "version": "3.12.7"
  }
 },
 "nbformat": 4,
 "nbformat_minor": 5
}
