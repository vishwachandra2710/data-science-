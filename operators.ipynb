{
 "cells": [
  {
   "cell_type": "markdown",
   "id": "a75fa90a-8359-422d-afa9-8453c640ec61",
   "metadata": {},
   "source": [
    "OPERATORS IN PYTHON\n",
    "..........................\n",
    "ARITHMETIC OPERATORS\n",
    "LOGICAL OPERATORS\n",
    "ASSIGNMENT\n",
    "RELATIONAL\n",
    "UNARY \n"
   ]
  },
  {
   "cell_type": "code",
   "execution_count": 3,
   "id": "b6fd27fc-834e-460f-bda5-877fe04f1c6c",
   "metadata": {},
   "outputs": [
    {
     "name": "stdout",
     "output_type": "stream",
     "text": [
      "47\n",
      "-1\n",
      "552\n",
      "0.9583333333333334\n",
      "0\n",
      "23\n",
      "480250763996501976790165756943041\n"
     ]
    }
   ],
   "source": [
    "#arithmetic operators\n",
    "a=23\n",
    "b=24\n",
    "print(a+b)\n",
    "print(a-b)\n",
    "print(a*b)\n",
    "print(a/b)\n",
    "print(a//b)\n",
    "print(a%b)\n",
    "print(int(a**b))"
   ]
  },
  {
   "cell_type": "code",
   "execution_count": 20,
   "id": "776bf7e4-3379-4bbb-84f2-846a628504f9",
   "metadata": {},
   "outputs": [
    {
     "name": "stdout",
     "output_type": "stream",
     "text": [
      "26\n",
      "23\n",
      "46\n",
      "15.333333333333334\n",
      "23\n",
      "44\n",
      "97336\n",
      "8\n"
     ]
    }
   ],
   "source": [
    "#assignment operators\n",
    "x=23\n",
    "x=x+3\n",
    "print(x)\n",
    "y=x-3\n",
    "print(y)\n",
    "z=y*2\n",
    "print(z)\n",
    "q=z/3\n",
    "print(q)\n",
    "q=z//2\n",
    "print(q)\n",
    "q=z^2\n",
    "print(q)\n",
    "q=z**3\n",
    "print(q)\n",
    "z=q&8\n",
    "print(z)"
   ]
  },
  {
   "cell_type": "code",
   "execution_count": 24,
   "id": "a049ed4d-6e37-4555-9daa-7fe2f4cd2e3c",
   "metadata": {},
   "outputs": [
    {
     "name": "stdout",
     "output_type": "stream",
     "text": [
      "False\n",
      "True\n",
      "False\n",
      "True\n",
      "True\n",
      "False\n"
     ]
    }
   ],
   "source": [
    "#relational operators\n",
    "x=23\n",
    "y=24\n",
    "print(x==y)\n",
    "print(x<y)\n",
    "print(x>y)\n",
    "print(x!=y)\n",
    "print(x<=y)\n",
    "print(x>=y)\n"
   ]
  },
  {
   "cell_type": "code",
   "execution_count": null,
   "id": "d9b8f998-a6aa-4d0f-8b65-b091f0d35700",
   "metadata": {},
   "outputs": [],
   "source": [
    "#unary\n",
    "negative,negation"
   ]
  },
  {
   "cell_type": "code",
   "execution_count": 1,
   "id": "0678fad1-289f-4008-b043-88795f509b4e",
   "metadata": {},
   "outputs": [
    {
     "name": "stdout",
     "output_type": "stream",
     "text": [
      "16\n",
      "23\n",
      "False\n"
     ]
    }
   ],
   "source": [
    "#LOGICAL OPERATORS\n",
    "x=23\n",
    "y=24\n",
    "print(x&y)\n",
    "print(x or y)\n",
    "print(not x)\n"
   ]
  },
  {
   "cell_type": "code",
   "execution_count": 3,
   "id": "5a7798e9-6f72-4a29-b070-8607615204d1",
   "metadata": {},
   "outputs": [
    {
     "name": "stdout",
     "output_type": "stream",
     "text": [
      "True\n",
      "True\n"
     ]
    }
   ],
   "source": [
    "a = 10\n",
    "b = 20\n",
    "c = a\n",
    "\n",
    "print(a is not b)\n",
    "print(a is c)"
   ]
  },
  {
   "cell_type": "code",
   "execution_count": null,
   "id": "31cceb25-50f2-4b4d-86eb-edcc53b2dc12",
   "metadata": {},
   "outputs": [],
   "source": [
    "z"
   ]
  }
 ],
 "metadata": {
  "kernelspec": {
   "display_name": "Python [conda env:base] *",
   "language": "python",
   "name": "conda-base-py"
  },
  "language_info": {
   "codemirror_mode": {
    "name": "ipython",
    "version": 3
   },
   "file_extension": ".py",
   "mimetype": "text/x-python",
   "name": "python",
   "nbconvert_exporter": "python",
   "pygments_lexer": "ipython3",
   "version": "3.12.7"
  }
 },
 "nbformat": 4,
 "nbformat_minor": 5
}
