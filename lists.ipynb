{
 "cells": [
  {
   "cell_type": "markdown",
   "id": "1321e323-6aeb-44bc-9044-6144f5e2e671",
   "metadata": {},
   "source": [
    "---> LISTS\n",
    " data structure,Mutable,list indexing,list slicing\n",
    " dublicate elements are allowed in list\n",
    " ...............\n",
    " list functions\n",
    " ................\n",
    " clear()\n",
    " append()\n",
    " reverse()\n",
    " index()\n",
    " pop()\n",
    " remove()\n",
    " sort()\n",
    " copy()\n",
    " extend()\n",
    " insert()"
   ]
  },
  {
   "cell_type": "code",
   "execution_count": 114,
   "id": "f877517c-5014-4899-b0cc-d4cf16eb406d",
   "metadata": {},
   "outputs": [
    {
     "name": "stdout",
     "output_type": "stream",
     "text": [
      "[23, 23.24, [1, 2, 3], 'vishwa']\n",
      "[(10+3j), 'kvc', 23, 23.23]\n"
     ]
    }
   ],
   "source": [
    "a=[]\n",
    "type(a)\n",
    "x=[23,23.24,[1,2,3],\"vishwa\"]\n",
    "y=[10+3j,\"kvc\",23,23.23]\n",
    "print(x)\n",
    "print(y)"
   ]
  },
  {
   "cell_type": "code",
   "execution_count": 116,
   "id": "19e6008f-561a-4130-ae96-085a72818ead",
   "metadata": {},
   "outputs": [
    {
     "name": "stdout",
     "output_type": "stream",
     "text": [
      "[10, 20, 30, 40, 50, 60, 60]\n",
      "[5, 10, 15, 20, 25, 30]\n"
     ]
    }
   ],
   "source": [
    "a=[10,20,30,40,50,60,60]\n",
    "b=[5,10,15,20,25,30]\n",
    "print(a)\n",
    "print(b)"
   ]
  },
  {
   "cell_type": "code",
   "execution_count": 118,
   "id": "1807c023-57dd-4c70-8b95-7a294cedc536",
   "metadata": {},
   "outputs": [
    {
     "name": "stdout",
     "output_type": "stream",
     "text": [
      "2521846817152\n",
      "2521846822336\n"
     ]
    }
   ],
   "source": [
    "print(id(a))\n",
    "print(id(b))"
   ]
  },
  {
   "cell_type": "code",
   "execution_count": 120,
   "id": "694c57c3-1cb6-467a-9337-67b21c0c711d",
   "metadata": {},
   "outputs": [
    {
     "name": "stdout",
     "output_type": "stream",
     "text": [
      "120\n",
      "104\n"
     ]
    }
   ],
   "source": [
    "import sys\n",
    "print(sys.getsizeof(a))\n",
    "print(sys.getsizeof(b))"
   ]
  },
  {
   "cell_type": "code",
   "execution_count": 122,
   "id": "e24d6a53-e3fa-4150-8362-9bad6639d183",
   "metadata": {},
   "outputs": [
    {
     "data": {
      "text/plain": [
       "False"
      ]
     },
     "execution_count": 122,
     "metadata": {},
     "output_type": "execute_result"
    }
   ],
   "source": [
    "a==b"
   ]
  },
  {
   "cell_type": "code",
   "execution_count": 124,
   "id": "21ab0ce2-c7b8-4205-90f6-71399f6fc11e",
   "metadata": {},
   "outputs": [
    {
     "data": {
      "text/plain": [
       "True"
      ]
     },
     "execution_count": 124,
     "metadata": {},
     "output_type": "execute_result"
    }
   ],
   "source": [
    "a!=b"
   ]
  },
  {
   "cell_type": "code",
   "execution_count": 126,
   "id": "efc3e7c9-ff14-44f0-9cf8-8cf964090eef",
   "metadata": {},
   "outputs": [
    {
     "data": {
      "text/plain": [
       "False"
      ]
     },
     "execution_count": 126,
     "metadata": {},
     "output_type": "execute_result"
    }
   ],
   "source": [
    "a<b"
   ]
  },
  {
   "cell_type": "code",
   "execution_count": 128,
   "id": "95c09ab9-7823-4139-9ca7-68f851af4048",
   "metadata": {},
   "outputs": [
    {
     "data": {
      "text/plain": [
       "True"
      ]
     },
     "execution_count": 128,
     "metadata": {},
     "output_type": "execute_result"
    }
   ],
   "source": [
    "a>b"
   ]
  },
  {
   "cell_type": "code",
   "execution_count": 130,
   "id": "fb5a4055-4cf3-4ac4-b174-46b97b956286",
   "metadata": {},
   "outputs": [
    {
     "name": "stdout",
     "output_type": "stream",
     "text": [
      "[10, 20, 30, 40, 50, 60, 60]\n",
      "[5, 10, 15, 20, 25, 30]\n"
     ]
    }
   ],
   "source": [
    "print(a)\n",
    "print(b)"
   ]
  },
  {
   "cell_type": "markdown",
   "id": "bf60d2d6-efdf-451e-af39-296fdf2e0d76",
   "metadata": {},
   "source": [
    "list indexing"
   ]
  },
  {
   "cell_type": "code",
   "execution_count": 133,
   "id": "215e3706-7fb4-44a6-9bee-103688c0cc26",
   "metadata": {},
   "outputs": [
    {
     "data": {
      "text/plain": [
       "10"
      ]
     },
     "execution_count": 133,
     "metadata": {},
     "output_type": "execute_result"
    }
   ],
   "source": [
    "a[0]"
   ]
  },
  {
   "cell_type": "code",
   "execution_count": 135,
   "id": "292d7b0a-d990-49a3-9bcb-176cd411f63f",
   "metadata": {},
   "outputs": [
    {
     "name": "stdout",
     "output_type": "stream",
     "text": [
      "60\n",
      "15\n",
      "20\n"
     ]
    }
   ],
   "source": [
    "print(a[-1])\n",
    "print(b[2])\n",
    "print(b[-3])"
   ]
  },
  {
   "cell_type": "markdown",
   "id": "192c7af0-a9af-46ea-a638-31859f0ece71",
   "metadata": {},
   "source": [
    "LIST SLICING\n"
   ]
  },
  {
   "cell_type": "code",
   "execution_count": 138,
   "id": "92d9d809-c0fb-4124-9863-4ae5567c445f",
   "metadata": {},
   "outputs": [
    {
     "name": "stdout",
     "output_type": "stream",
     "text": [
      "[10, 20, 30, 40, 50, 60, 60]\n",
      "[5, 10, 15, 20, 25, 30]\n"
     ]
    }
   ],
   "source": [
    "print(a)\n",
    "print(b)\n"
   ]
  },
  {
   "cell_type": "code",
   "execution_count": 140,
   "id": "b78bfe0d-df4e-44ab-910f-22eaf93f7143",
   "metadata": {},
   "outputs": [
    {
     "name": "stdout",
     "output_type": "stream",
     "text": [
      "[30, 40, 50, 60, 60]\n"
     ]
    }
   ],
   "source": [
    "print(a[2:])"
   ]
  },
  {
   "cell_type": "code",
   "execution_count": 142,
   "id": "3cea8496-1b97-404e-a90d-3b1b131370c4",
   "metadata": {},
   "outputs": [
    {
     "data": {
      "text/plain": [
       "[20, 30, 40]"
      ]
     },
     "execution_count": 142,
     "metadata": {},
     "output_type": "execute_result"
    }
   ],
   "source": [
    "a[1:-3]"
   ]
  },
  {
   "cell_type": "code",
   "execution_count": 144,
   "id": "f108ca3a-04e3-404c-80f1-e9997f7b785f",
   "metadata": {},
   "outputs": [
    {
     "data": {
      "text/plain": [
       "[10, 20, 30, 40, 50]"
      ]
     },
     "execution_count": 144,
     "metadata": {},
     "output_type": "execute_result"
    }
   ],
   "source": [
    "a[:-2]"
   ]
  },
  {
   "cell_type": "code",
   "execution_count": 146,
   "id": "e7ddcce3-288e-4a59-aecb-cce76b4f5725",
   "metadata": {},
   "outputs": [
    {
     "data": {
      "text/plain": [
       "[10, 30, 50]"
      ]
     },
     "execution_count": 146,
     "metadata": {},
     "output_type": "execute_result"
    }
   ],
   "source": [
    "a[0:5:2]"
   ]
  },
  {
   "cell_type": "code",
   "execution_count": 148,
   "id": "a31bb782-d17c-4598-8e6c-e76ee370c642",
   "metadata": {},
   "outputs": [
    {
     "data": {
      "text/plain": [
       "[60, 60, 50, 40, 30, 20, 10]"
      ]
     },
     "execution_count": 148,
     "metadata": {},
     "output_type": "execute_result"
    }
   ],
   "source": [
    "a[::-1]"
   ]
  },
  {
   "cell_type": "code",
   "execution_count": 150,
   "id": "16d91314-8a89-4286-b07e-dfdb5f17045f",
   "metadata": {},
   "outputs": [
    {
     "data": {
      "text/plain": [
       "[60, 40, 10]"
      ]
     },
     "execution_count": 150,
     "metadata": {},
     "output_type": "execute_result"
    }
   ],
   "source": [
    "a[::-3]"
   ]
  },
  {
   "cell_type": "code",
   "execution_count": 152,
   "id": "80ac86f0-9c42-48ba-b60e-b62cd9738a36",
   "metadata": {},
   "outputs": [
    {
     "data": {
      "text/plain": [
       "[10, 20, 30, 40, 50, 60, 60]"
      ]
     },
     "execution_count": 152,
     "metadata": {},
     "output_type": "execute_result"
    }
   ],
   "source": [
    "a"
   ]
  },
  {
   "cell_type": "code",
   "execution_count": 154,
   "id": "a5b83908-f801-46e6-bfd0-cea1d733407c",
   "metadata": {},
   "outputs": [
    {
     "data": {
      "text/plain": [
       "[30]"
      ]
     },
     "execution_count": 154,
     "metadata": {},
     "output_type": "execute_result"
    }
   ],
   "source": [
    "a[2:3:1]"
   ]
  },
  {
   "cell_type": "code",
   "execution_count": 156,
   "id": "62c7a38f-8923-4a6c-98a5-4fd86854f766",
   "metadata": {},
   "outputs": [
    {
     "name": "stdout",
     "output_type": "stream",
     "text": [
      "[10, 20, 30, 40, 50, 60, 60]\n",
      "[5, 10, 15, 20, 25, 30]\n"
     ]
    }
   ],
   "source": [
    "print(a)\n",
    "print(b)"
   ]
  },
  {
   "cell_type": "markdown",
   "id": "640ba516-a7a0-442d-9ca7-9ddfbbbd5d3a",
   "metadata": {},
   "source": [
    "LIST FUNCTIONS\n"
   ]
  },
  {
   "cell_type": "markdown",
   "id": "26951732-036a-4bfd-9be0-1d6d8c098012",
   "metadata": {},
   "source": [
    "append--adds the element only at the last in the list,only 1 argument is taken"
   ]
  },
  {
   "cell_type": "code",
   "execution_count": 160,
   "id": "b13b1c9c-f4c0-4fb3-90cd-a7dcfdebd65c",
   "metadata": {},
   "outputs": [
    {
     "name": "stdout",
     "output_type": "stream",
     "text": [
      "[10, 20, 30, 40, 50, 60, 60, 23]\n"
     ]
    }
   ],
   "source": [
    "a.append(23)\n",
    "print(a)"
   ]
  },
  {
   "cell_type": "markdown",
   "id": "752645ce-a731-428d-b7e3-79151a24e4f0",
   "metadata": {},
   "source": [
    "copy--- copies the elements of one list to the other list"
   ]
  },
  {
   "cell_type": "code",
   "execution_count": 163,
   "id": "9f59643c-4357-4cb4-9775-b18770876193",
   "metadata": {},
   "outputs": [
    {
     "name": "stdout",
     "output_type": "stream",
     "text": [
      "[10, 20, 30, 40, 50, 60, 60, 23]\n"
     ]
    }
   ],
   "source": [
    "c=a.copy()\n",
    "print(c)"
   ]
  },
  {
   "cell_type": "markdown",
   "id": "850ad5ab-b839-4287-999e-f138d23f1624",
   "metadata": {},
   "source": [
    "clear--- clears the elements in the list and it wil have empty list\n",
    "to delete the list completely use del keyword "
   ]
  },
  {
   "cell_type": "code",
   "execution_count": 166,
   "id": "6335405c-39d9-4485-89fd-8c9c51009c0a",
   "metadata": {},
   "outputs": [
    {
     "name": "stdout",
     "output_type": "stream",
     "text": [
      "[]\n"
     ]
    }
   ],
   "source": [
    "c.clear()\n",
    "print(c)"
   ]
  },
  {
   "cell_type": "code",
   "execution_count": 168,
   "id": "491147bf-007a-4c36-b5db-fcfc959b83f4",
   "metadata": {},
   "outputs": [],
   "source": [
    "del c"
   ]
  },
  {
   "cell_type": "code",
   "execution_count": 170,
   "id": "d1f1211c-a584-499f-9737-23199b751f71",
   "metadata": {},
   "outputs": [
    {
     "ename": "NameError",
     "evalue": "name 'c' is not defined",
     "output_type": "error",
     "traceback": [
      "\u001b[1;31m---------------------------------------------------------------------------\u001b[0m",
      "\u001b[1;31mNameError\u001b[0m                                 Traceback (most recent call last)",
      "Cell \u001b[1;32mIn[170], line 1\u001b[0m\n\u001b[1;32m----> 1\u001b[0m \u001b[38;5;28mprint\u001b[39m(c)\n",
      "\u001b[1;31mNameError\u001b[0m: name 'c' is not defined"
     ]
    }
   ],
   "source": [
    "print(c)"
   ]
  },
  {
   "cell_type": "code",
   "execution_count": 172,
   "id": "a373ea79-dd07-413b-9159-a39164bdfeea",
   "metadata": {},
   "outputs": [
    {
     "name": "stdout",
     "output_type": "stream",
     "text": [
      "[10, 20, 30, 40, 50, 60, 60, 23]\n"
     ]
    },
    {
     "data": {
      "text/plain": [
       "[5, 10, 15, 20, 25, 30]"
      ]
     },
     "execution_count": 172,
     "metadata": {},
     "output_type": "execute_result"
    }
   ],
   "source": [
    "print(a)\n",
    "b"
   ]
  },
  {
   "cell_type": "markdown",
   "id": "9353d661-1256-4f68-a940-8f08ef6ba66d",
   "metadata": {},
   "source": [
    "count--- counts the number of times an element occured in the list,takes 1 argument"
   ]
  },
  {
   "cell_type": "code",
   "execution_count": 175,
   "id": "7fdd84d1-77f8-41d0-89db-99c37230effe",
   "metadata": {},
   "outputs": [
    {
     "data": {
      "text/plain": [
       "2"
      ]
     },
     "execution_count": 175,
     "metadata": {},
     "output_type": "execute_result"
    }
   ],
   "source": [
    "a.count(60)"
   ]
  },
  {
   "cell_type": "markdown",
   "id": "279e9920-0fcc-416a-9ada-9d4aee8b4f0a",
   "metadata": {},
   "source": [
    "remove---removes the element in the list,1argument,the argument should be the element of the list"
   ]
  },
  {
   "cell_type": "code",
   "execution_count": 178,
   "id": "5356dbf0-9845-43b7-a624-d6dd6a8a0541",
   "metadata": {},
   "outputs": [
    {
     "name": "stdout",
     "output_type": "stream",
     "text": [
      "[10, 20, 30, 40, 50, 60, 60, 23]\n"
     ]
    }
   ],
   "source": [
    "print(a)"
   ]
  },
  {
   "cell_type": "code",
   "execution_count": 183,
   "id": "253032b2-2a56-4b07-adc4-320fe1bb3101",
   "metadata": {},
   "outputs": [
    {
     "name": "stdout",
     "output_type": "stream",
     "text": [
      "[20, 30, 40, 50, 60, 60, 23]\n"
     ]
    }
   ],
   "source": [
    "a.remove(10)\n",
    "print(a)"
   ]
  },
  {
   "cell_type": "markdown",
   "id": "15fb7104-293c-4f20-a5d9-223a0e5f40d8",
   "metadata": {},
   "source": [
    "pop--removes the element based on the index by default it pops out the last element in the list"
   ]
  },
  {
   "cell_type": "code",
   "execution_count": 185,
   "id": "0428f664-314c-42ad-b9f1-78eaf73e9cf2",
   "metadata": {},
   "outputs": [
    {
     "name": "stdout",
     "output_type": "stream",
     "text": [
      "[20, 30, 40, 50, 60, 60]\n"
     ]
    }
   ],
   "source": [
    "a.pop()\n",
    "print(a)"
   ]
  },
  {
   "cell_type": "code",
   "execution_count": 187,
   "id": "0fd19ac5-6c89-4919-a675-ca7ef3c0333d",
   "metadata": {},
   "outputs": [
    {
     "name": "stdout",
     "output_type": "stream",
     "text": [
      "[30, 40, 50, 60, 60]\n"
     ]
    }
   ],
   "source": [
    "a.pop(0)\n",
    "print(a)"
   ]
  },
  {
   "cell_type": "markdown",
   "id": "87fa4d35-a845-40be-a71e-4425e760c54e",
   "metadata": {},
   "source": [
    "INSERT----\n",
    "insert the value at any position in the list based on the before index value,takes2 arguments"
   ]
  },
  {
   "cell_type": "code",
   "execution_count": 189,
   "id": "dbd1719d-aa2c-41ea-92ea-d80141ff80c2",
   "metadata": {},
   "outputs": [
    {
     "name": "stdout",
     "output_type": "stream",
     "text": [
      "[30, 40, 23, 50, 60, 60]\n"
     ]
    }
   ],
   "source": [
    "a.insert(2,23)\n",
    "print(a)"
   ]
  },
  {
   "cell_type": "markdown",
   "id": "74220f67-0d3a-4cab-832f-b25dd8f93c31",
   "metadata": {},
   "source": [
    "index\n",
    "...........\n",
    "returns the index of the element\n"
   ]
  },
  {
   "cell_type": "code",
   "execution_count": 191,
   "id": "d1286b6e-8f03-489f-8e09-0a8b674071af",
   "metadata": {},
   "outputs": [
    {
     "data": {
      "text/plain": [
       "2"
      ]
     },
     "execution_count": 191,
     "metadata": {},
     "output_type": "execute_result"
    }
   ],
   "source": [
    "a.index(23)"
   ]
  },
  {
   "cell_type": "markdown",
   "id": "d3732cb3-c47a-4323-8006-f22587ecfb24",
   "metadata": {},
   "source": [
    "reverse........\n",
    "reverses the elements in the list"
   ]
  },
  {
   "cell_type": "code",
   "execution_count": 193,
   "id": "8c7d2de0-8cf0-44e1-ac7d-5f118b5ad190",
   "metadata": {},
   "outputs": [
    {
     "name": "stdout",
     "output_type": "stream",
     "text": [
      "[60, 60, 50, 23, 40, 30]\n"
     ]
    }
   ],
   "source": [
    "a.reverse()\n",
    "print(a)"
   ]
  },
  {
   "cell_type": "markdown",
   "id": "4490a9ba-d215-4786-b5b1-1f21ab03ab6a",
   "metadata": {},
   "source": [
    "extend\n",
    ".............\n",
    "extends the lists of 2 different list elemenrs\n"
   ]
  },
  {
   "cell_type": "code",
   "execution_count": 195,
   "id": "808f0486-b788-4a72-9889-2698e997f48a",
   "metadata": {},
   "outputs": [
    {
     "name": "stdout",
     "output_type": "stream",
     "text": [
      "[60, 60, 50, 23, 40, 30]\n"
     ]
    },
    {
     "data": {
      "text/plain": [
       "[5, 10, 15, 20, 25, 30]"
      ]
     },
     "execution_count": 195,
     "metadata": {},
     "output_type": "execute_result"
    }
   ],
   "source": [
    "print(a)\n",
    "b"
   ]
  },
  {
   "cell_type": "code",
   "execution_count": 199,
   "id": "3a527bab-0667-4323-b8dd-2069dacf0a5a",
   "metadata": {},
   "outputs": [
    {
     "name": "stdout",
     "output_type": "stream",
     "text": [
      "[60, 60, 50, 23, 40, 30, 5, 10, 15, 20, 25, 30, 5, 10, 15, 20, 25, 30]\n",
      "[5, 10, 15, 20, 25, 30]\n"
     ]
    }
   ],
   "source": [
    "a.extend(b)\n",
    "print(a)\n",
    "print(b)"
   ]
  },
  {
   "cell_type": "markdown",
   "id": "6f269da0-ddfe-4d7b-97af-21e5bcc184eb",
   "metadata": {},
   "source": [
    "sort......\n",
    "sort the elements in the list"
   ]
  },
  {
   "cell_type": "code",
   "execution_count": 201,
   "id": "bac8e98d-b9cd-4e83-b1b9-2f6dad24c064",
   "metadata": {},
   "outputs": [
    {
     "name": "stdout",
     "output_type": "stream",
     "text": [
      "[5, 10, 15, 20, 25, 30]\n"
     ]
    }
   ],
   "source": [
    "b.sort()\n",
    "print(b)"
   ]
  },
  {
   "cell_type": "markdown",
   "id": "50a501f0-27f3-4223-9150-2cf2cf2fb33e",
   "metadata": {},
   "source": [
    "concatenate lists\n"
   ]
  },
  {
   "cell_type": "code",
   "execution_count": 205,
   "id": "bf3ccbad-ac0d-46d9-9252-74ce3b6f72b2",
   "metadata": {},
   "outputs": [
    {
     "name": "stdout",
     "output_type": "stream",
     "text": [
      "[5, 10, 15, 20, 25, 30]\n"
     ]
    },
    {
     "data": {
      "text/plain": [
       "[60, 60, 50, 23, 40, 30, 5, 10, 15, 20, 25, 30, 5, 10, 15, 20, 25, 30]"
      ]
     },
     "execution_count": 205,
     "metadata": {},
     "output_type": "execute_result"
    }
   ],
   "source": [
    "\n",
    "print(b)\n",
    "a"
   ]
  },
  {
   "cell_type": "code",
   "execution_count": 211,
   "id": "438f1919-2f9a-427b-9f35-24eb4d16adef",
   "metadata": {},
   "outputs": [
    {
     "name": "stdout",
     "output_type": "stream",
     "text": [
      "[60, 60, 50, 23, 40, 30, 5, 10, 15, 20, 25, 30, 5, 10, 15, 20, 25, 30, 5, 10, 15, 20, 25, 30]\n"
     ]
    }
   ],
   "source": [
    "c=a+b\n",
    "print(c)"
   ]
  },
  {
   "cell_type": "code",
   "execution_count": 213,
   "id": "7340b225-f0c4-4905-be55-226e9e585bf6",
   "metadata": {},
   "outputs": [],
   "source": [
    "c.sort()\n",
    "print(c)\n",
    "print(len(c))"
   ]
  },
  {
   "cell_type": "code",
   "execution_count": null,
   "id": "10e8c713-fe9b-4c7f-9461-e82155dffd66",
   "metadata": {},
   "outputs": [],
   "source": []
  }
 ],
 "metadata": {
  "kernelspec": {
   "display_name": "Python [conda env:base] *",
   "language": "python",
   "name": "conda-base-py"
  },
  "language_info": {
   "codemirror_mode": {
    "name": "ipython",
    "version": 3
   },
   "file_extension": ".py",
   "mimetype": "text/x-python",
   "name": "python",
   "nbconvert_exporter": "python",
   "pygments_lexer": "ipython3",
   "version": "3.12.7"
  }
 },
 "nbformat": 4,
 "nbformat_minor": 5
}
