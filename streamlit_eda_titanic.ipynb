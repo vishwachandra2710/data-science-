{
 "cells": [
  {
   "cell_type": "markdown",
   "id": "1893e410-0179-4ff5-8acf-2cd35e6d8211",
   "metadata": {},
   "source": [
    "importing the required libraries"
   ]
  },
  {
   "cell_type": "code",
   "execution_count": 14,
   "id": "893e1c39-ab72-4522-b8d6-e39dabdbae78",
   "metadata": {},
   "outputs": [],
   "source": [
    "import pandas as pd\n",
    "import streamlit as st\n",
    "import matplotlib.pyplot as plt\n",
    "import seaborn as sns\n",
    "%matplotlib inline\n",
    "import warnings\n",
    "warnings.filterwarnings('ignore')"
   ]
  },
  {
   "cell_type": "markdown",
   "id": "1cfab913-ae9c-4f05-adac-368e097233d1",
   "metadata": {},
   "source": [
    "loading the dataset"
   ]
  },
  {
   "cell_type": "code",
   "execution_count": 25,
   "id": "7ffe79e1-b9b3-4bd5-b20b-1d4b09b8f286",
   "metadata": {},
   "outputs": [],
   "source": [
    "#@st.cache\n",
    "def load_data():\n",
    "    data=pd.read_csv(r\"C:\\Users\\vishw\\Downloads\\titanic dataset.csv\")\n",
    "    return data\n",
    "data=load_data()"
   ]
  },
  {
   "cell_type": "markdown",
   "id": "3962ad50-376c-41c9-8bf5-bd1cf39c59f6",
   "metadata": {},
   "source": [
    "title and description"
   ]
  },
  {
   "cell_type": "code",
   "execution_count": 36,
   "id": "a7d572e5-7296-4772-b002-c7e119d98770",
   "metadata": {},
   "outputs": [
    {
     "data": {
      "text/plain": [
       "DeltaGenerator()"
      ]
     },
     "execution_count": 36,
     "metadata": {},
     "output_type": "execute_result"
    }
   ],
   "source": [
    "st.title(\"EDA ON TITANIC DATA\")\n",
    "st.write(\"First few records of the titanic data\")\n",
    "st.dataframe(data.head())\n",
    "#data cleaning section\n",
    "st.subheader(\"missing values\")\n",
    "missing_data=data.isna().sum()\n",
    "st.write(\"missing data\")\n",
    "if st.checkbox(\"fill missing age data\"):\n",
    "    data['Age'].fillna(data['Age'].median(),inplace=True)\n",
    "if st.checkbox(\"fill the missing cabin data\"):\n",
    "    data['Cabin'].fillna(data['Cabin'].mode()[0],inplace=True)\n",
    "if st.checkbox(\"fill embarked missing values\"):\n",
    "    data['Embarked'].fillna(data['Embarked'].mode()[0],inplace=True)\n",
    "if st.checkbox(\"drop-duplicates\"):\n",
    "    data.drop_duplicates(inplace=True)\n",
    "#projecting clean data\n",
    "st.subheader(\"cleaned titanic data\")\n",
    "st.dataframe(data.head())\n",
    "#eda describe function\n",
    "st.subheader(\"statistical summary of eda\")\n",
    "st.write(data.describe())\n",
    "st.subheader(\"age-distribution\")\n",
    "fig,ax=plt.subplots()\n",
    "sns.histplot(data['Age'],kde=True,ax=ax)\n",
    "ax.set_title(\"age distribution\")\n",
    "st.pyplot(fig)\n",
    "st.subheader(\"gender distribution\")\n",
    "fig,ax=plt.subplots()\n",
    "sns.countplot(x=\"Sex\",data=data,ax=ax)\n",
    "ax.set_title(\"gender distribution\")\n",
    "st.pyplot(fig)\n",
    "st.subheader('Pclass vs Survived')\n",
    "fig, ax = plt.subplots()\n",
    "sns.countplot(x='Pclass', hue='Survived', data=data, ax=ax)\n",
    "ax.set_title('Pclass vs Survived')\n",
    "st.pyplot(fig)\n",
    "st.subheader('Feature Engineering: Family Size')\n",
    "data['FamilySize'] = data['SibSp'] + data['Parch']\n",
    "fig, ax = plt.subplots()\n",
    "sns.histplot(data['FamilySize'], kde=True, ax=ax)\n",
    "ax.set_title('Family Size Distribution')\n",
    "st.pyplot(fig)\n",
    "             "
   ]
  },
  {
   "cell_type": "code",
   "execution_count": null,
   "id": "4d0f1255-75db-4fb7-ad1f-dfa3e8d993e1",
   "metadata": {},
   "outputs": [],
   "source": []
  }
 ],
 "metadata": {
  "kernelspec": {
   "display_name": "Python [conda env:base] *",
   "language": "python",
   "name": "conda-base-py"
  },
  "language_info": {
   "codemirror_mode": {
    "name": "ipython",
    "version": 3
   },
   "file_extension": ".py",
   "mimetype": "text/x-python",
   "name": "python",
   "nbconvert_exporter": "python",
   "pygments_lexer": "ipython3",
   "version": "3.12.7"
  }
 },
 "nbformat": 4,
 "nbformat_minor": 5
}
