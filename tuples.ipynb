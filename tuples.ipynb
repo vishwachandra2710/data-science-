{
 "cells": [
  {
   "cell_type": "markdown",
   "id": "a90ecd80-81a6-441e-a7ba-b69adcf4f09f",
   "metadata": {},
   "source": [
    "TUPLE\n",
    ".............\n",
    "(values)\n",
    "can be of any data type\n",
    "immutable\n",
    "only 2 functions in tuple\n",
    "index()\n",
    "count()\n",
    "indexing and slicing can be done"
   ]
  },
  {
   "cell_type": "code",
   "execution_count": 3,
   "id": "71f2f6f0-2784-44f6-aac6-dbaf7f5ea6c8",
   "metadata": {},
   "outputs": [
    {
     "name": "stdout",
     "output_type": "stream",
     "text": [
      "<class 'tuple'>\n"
     ]
    }
   ],
   "source": [
    "t=()\n",
    "print(type(t))"
   ]
  },
  {
   "cell_type": "code",
   "execution_count": 5,
   "id": "c821d4a9-ab8e-4e0e-8fc2-8fa4fadc7b74",
   "metadata": {},
   "outputs": [
    {
     "name": "stdout",
     "output_type": "stream",
     "text": [
      "(1, 2, 4, 6, 7)\n",
      "<class 'tuple'>\n"
     ]
    }
   ],
   "source": [
    "t=1,2,4,6,7\n",
    "print(t)\n",
    "print(type(t))"
   ]
  },
  {
   "cell_type": "code",
   "execution_count": 12,
   "id": "953f005d-84ac-4e53-ad3e-a2296782593a",
   "metadata": {},
   "outputs": [
    {
     "name": "stdout",
     "output_type": "stream",
     "text": [
      "1\n",
      "6\n",
      "(2, 4, 6)\n",
      "(4, 6, 7)\n",
      "(1, 2, 4, 6)\n",
      "(1, 2, 4, 6)\n"
     ]
    }
   ],
   "source": [
    "print(t[0])\n",
    "print(t[-2])\n",
    "print(t[1:4])\n",
    "print(t[-3:])\n",
    "print(t[:4])\n",
    "print(t[:-1])\n"
   ]
  },
  {
   "cell_type": "code",
   "execution_count": 16,
   "id": "bfa1964d-d9bd-4bd9-88eb-50a6ab46ace8",
   "metadata": {},
   "outputs": [],
   "source": [
    "t1=(23,24,26,(25,27,28))"
   ]
  },
  {
   "cell_type": "code",
   "execution_count": 18,
   "id": "a21c8d54-0911-4013-b9c5-7a9378dc1a4f",
   "metadata": {},
   "outputs": [
    {
     "data": {
      "text/plain": [
       "4"
      ]
     },
     "execution_count": 18,
     "metadata": {},
     "output_type": "execute_result"
    }
   ],
   "source": [
    "len(t1)"
   ]
  },
  {
   "cell_type": "code",
   "execution_count": 22,
   "id": "7de1c56b-6b2b-44e1-b306-46780c675290",
   "metadata": {},
   "outputs": [
    {
     "name": "stdout",
     "output_type": "stream",
     "text": [
      "28\n"
     ]
    }
   ],
   "source": [
    "print(t1[3][2])"
   ]
  },
  {
   "cell_type": "code",
   "execution_count": 24,
   "id": "89bc686d-dd6c-4116-b2d3-63f7c2f5ad84",
   "metadata": {},
   "outputs": [
    {
     "name": "stdout",
     "output_type": "stream",
     "text": [
      "1\n"
     ]
    }
   ],
   "source": [
    "print(t1.count(23))"
   ]
  },
  {
   "cell_type": "code",
   "execution_count": 26,
   "id": "6bc18af1-6c8d-4511-ac58-7eb10bc9d08e",
   "metadata": {},
   "outputs": [
    {
     "ename": "ValueError",
     "evalue": "tuple.index(x): x not in tuple",
     "output_type": "error",
     "traceback": [
      "\u001b[1;31m---------------------------------------------------------------------------\u001b[0m",
      "\u001b[1;31mValueError\u001b[0m                                Traceback (most recent call last)",
      "Cell \u001b[1;32mIn[26], line 1\u001b[0m\n\u001b[1;32m----> 1\u001b[0m \u001b[38;5;28mprint\u001b[39m(t1\u001b[38;5;241m.\u001b[39mindex(\u001b[38;5;241m28\u001b[39m))\n",
      "\u001b[1;31mValueError\u001b[0m: tuple.index(x): x not in tuple"
     ]
    }
   ],
   "source": [
    "print(t1.index(28))\n"
   ]
  },
  {
   "cell_type": "code",
   "execution_count": null,
   "id": "268a7ef2-800e-44cc-b650-2ecd3a9d446b",
   "metadata": {},
   "outputs": [],
   "source": []
  }
 ],
 "metadata": {
  "kernelspec": {
   "display_name": "Python [conda env:base] *",
   "language": "python",
   "name": "conda-base-py"
  },
  "language_info": {
   "codemirror_mode": {
    "name": "ipython",
    "version": 3
   },
   "file_extension": ".py",
   "mimetype": "text/x-python",
   "name": "python",
   "nbconvert_exporter": "python",
   "pygments_lexer": "ipython3",
   "version": "3.12.7"
  }
 },
 "nbformat": 4,
 "nbformat_minor": 5
}
