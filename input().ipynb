{
 "cells": [
  {
   "cell_type": "markdown",
   "id": "30954f63-350e-495d-9418-5d664e94b1cf",
   "metadata": {},
   "source": [
    "INPUT FUNCTION\n",
    "_____________________\n",
    "inbuild function \n",
    "asks user to pass the input parameters\n",
    "by default it takes as string as input\n"
   ]
  },
  {
   "cell_type": "code",
   "execution_count": 3,
   "id": "b9950889-2d9a-435b-bff7-688b5d09a9b7",
   "metadata": {},
   "outputs": [
    {
     "name": "stdin",
     "output_type": "stream",
     "text": [
      " 10\n",
      " 20\n"
     ]
    },
    {
     "name": "stdout",
     "output_type": "stream",
     "text": [
      "1020\n"
     ]
    }
   ],
   "source": [
    "#by default input takes it as string\n",
    "a=input()\n",
    "b=input()\n",
    "c=a+ b\n",
    "print(a + b)"
   ]
  },
  {
   "cell_type": "code",
   "execution_count": 11,
   "id": "554a98c5-c9f2-4476-a9a5-9687285ade47",
   "metadata": {},
   "outputs": [
    {
     "name": "stdin",
     "output_type": "stream",
     "text": [
      "enter the 1st value: 25\n",
      "enter the 2nd value: 50\n"
     ]
    },
    {
     "name": "stdout",
     "output_type": "stream",
     "text": [
      "the addition of 25 and 50 is 75\n"
     ]
    }
   ],
   "source": [
    "a=int(input(\"enter the 1st value:\"))\n",
    "b=int(input(\"enter the 2nd value:\"))\n",
    "c=a+b\n",
    "print(f'the addition of {a} and {b} is {c}')\n"
   ]
  },
  {
   "cell_type": "code",
   "execution_count": 13,
   "id": "fd479f2f-3fdc-4dbb-a6de-08979b47324f",
   "metadata": {},
   "outputs": [
    {
     "name": "stdin",
     "output_type": "stream",
     "text": [
      " 2.35\n",
      " 2.42\n"
     ]
    },
    {
     "name": "stdout",
     "output_type": "stream",
     "text": [
      "the subtraction of 2.35 and 2.42 is -0.06999999999999984\n"
     ]
    }
   ],
   "source": [
    "a=float(input())\n",
    "b=float(input())\n",
    "c=a-b\n",
    "print(\"the subtraction of {} and {} is {}\".format(a,b,c))"
   ]
  },
  {
   "cell_type": "code",
   "execution_count": 17,
   "id": "c118bd20-6541-433f-9c3b-bdcddad1c793",
   "metadata": {},
   "outputs": [
    {
     "name": "stdin",
     "output_type": "stream",
     "text": [
      " 233+24j\n",
      " 90+25j\n"
     ]
    },
    {
     "name": "stdout",
     "output_type": "stream",
     "text": [
      "the multiplication of (233+24j) and (90+25j) is (20370+7985j)\n"
     ]
    }
   ],
   "source": [
    "a=complex(input())\n",
    "b=complex(input())\n",
    "c= a*b\n",
    "print(\"the multiplication of\", a, \"and\", b ,\"is\", c)"
   ]
  },
  {
   "cell_type": "markdown",
   "id": "2f3d9554-437c-4a33-9e93-c9272bfa2261",
   "metadata": {},
   "source": [
    "EVALUATING EXPRESSIONS\n",
    "______________________________"
   ]
  },
  {
   "cell_type": "code",
   "execution_count": 21,
   "id": "bae7137e-35dd-4e19-b937-918d4ff428cc",
   "metadata": {},
   "outputs": [
    {
     "name": "stdin",
     "output_type": "stream",
     "text": [
      " 4 ^ 7\n"
     ]
    },
    {
     "name": "stdout",
     "output_type": "stream",
     "text": [
      "3\n"
     ]
    }
   ],
   "source": [
    "a=eval(input())\n",
    "print(a)"
   ]
  },
  {
   "cell_type": "markdown",
   "id": "c5e0e030-f772-4aa1-9ebb-8f8a9c577c92",
   "metadata": {},
   "source": [
    " string indexing and string slicing can be done throught input function"
   ]
  },
  {
   "cell_type": "code",
   "execution_count": 25,
   "id": "6c1dbbcb-316a-4e50-a2d9-eac5dd6ca0b4",
   "metadata": {},
   "outputs": [
    {
     "name": "stdin",
     "output_type": "stream",
     "text": [
      "enter a string vishwachandra\n"
     ]
    },
    {
     "name": "stdout",
     "output_type": "stream",
     "text": [
      "iha\n"
     ]
    }
   ],
   "source": [
    "a=input('enter a string')[1:6:2]\n",
    "print(a)"
   ]
  }
 ],
 "metadata": {
  "kernelspec": {
   "display_name": "Python [conda env:base] *",
   "language": "python",
   "name": "conda-base-py"
  },
  "language_info": {
   "codemirror_mode": {
    "name": "ipython",
    "version": 3
   },
   "file_extension": ".py",
   "mimetype": "text/x-python",
   "name": "python",
   "nbconvert_exporter": "python",
   "pygments_lexer": "ipython3",
   "version": "3.12.7"
  }
 },
 "nbformat": 4,
 "nbformat_minor": 5
}
