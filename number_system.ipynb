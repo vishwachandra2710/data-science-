{
 "cells": [
  {
   "cell_type": "markdown",
   "id": "1afd8837-3eb3-4042-b367-ae52722441ea",
   "metadata": {},
   "source": [
    "NUMBER SYSTEM\n",
    "...............\n",
    "BINARY-(BASE VALUE= 2 i..e 0 and 1)\n",
    "OCTAL-(BASE VALUE= 8 i..e 0 and 7)\n",
    "DECIMAL-(BASE VALUE = 10 i..e 0 and 9)\n",
    "HEXA_DECIMAL-(BASE VALUE= 16 i..e 0 and 9 10a,11b,12c,13d,14e,15f)"
   ]
  },
  {
   "cell_type": "code",
   "execution_count": 1,
   "id": "a1507581-09c9-4c66-885a-c5d7bf9f043a",
   "metadata": {},
   "outputs": [
    {
     "data": {
      "text/plain": [
       "'0b10111'"
      ]
     },
     "execution_count": 1,
     "metadata": {},
     "output_type": "execute_result"
    }
   ],
   "source": [
    "bin(23)"
   ]
  },
  {
   "cell_type": "code",
   "execution_count": 5,
   "id": "819b3eed-44fe-490b-9b9b-a071284edc6a",
   "metadata": {},
   "outputs": [
    {
     "data": {
      "text/plain": [
       "23"
      ]
     },
     "execution_count": 5,
     "metadata": {},
     "output_type": "execute_result"
    }
   ],
   "source": [
    "int(0b10111)"
   ]
  },
  {
   "cell_type": "code",
   "execution_count": 7,
   "id": "9c5fafe0-47bd-421f-86f3-5df593b6ea79",
   "metadata": {},
   "outputs": [
    {
     "data": {
      "text/plain": [
       "'0o27'"
      ]
     },
     "execution_count": 7,
     "metadata": {},
     "output_type": "execute_result"
    }
   ],
   "source": [
    "oct(23)"
   ]
  },
  {
   "cell_type": "code",
   "execution_count": 9,
   "id": "31e1fa4a-2e88-467f-81b7-18b5321f07f3",
   "metadata": {},
   "outputs": [
    {
     "data": {
      "text/plain": [
       "23"
      ]
     },
     "execution_count": 9,
     "metadata": {},
     "output_type": "execute_result"
    }
   ],
   "source": [
    "int(0o27)"
   ]
  },
  {
   "cell_type": "code",
   "execution_count": 11,
   "id": "6a0098c3-a914-48ae-a13f-c938339398a3",
   "metadata": {},
   "outputs": [
    {
     "data": {
      "text/plain": [
       "'0x17'"
      ]
     },
     "execution_count": 11,
     "metadata": {},
     "output_type": "execute_result"
    }
   ],
   "source": [
    "hex(23)"
   ]
  },
  {
   "cell_type": "code",
   "execution_count": 13,
   "id": "7dd49699-8bbd-4e74-addb-e834e6df0848",
   "metadata": {},
   "outputs": [
    {
     "data": {
      "text/plain": [
       "23"
      ]
     },
     "execution_count": 13,
     "metadata": {},
     "output_type": "execute_result"
    }
   ],
   "source": [
    "int(0x17)"
   ]
  },
  {
   "cell_type": "code",
   "execution_count": 21,
   "id": "4fd4d4c7-7582-4dbc-917f-9f14b45bf6e0",
   "metadata": {},
   "outputs": [
    {
     "data": {
      "text/plain": [
       "(10, 11, 12, 13, 14, 15)"
      ]
     },
     "execution_count": 21,
     "metadata": {},
     "output_type": "execute_result"
    }
   ],
   "source": [
    "0xa,0xb,0xc,0xd,0xe,0xf"
   ]
  },
  {
   "cell_type": "code",
   "execution_count": 23,
   "id": "906d8ba0-0a80-4884-9d3c-e784f6f5d7c7",
   "metadata": {},
   "outputs": [
    {
     "data": {
      "text/plain": [
       "18"
      ]
     },
     "execution_count": 23,
     "metadata": {},
     "output_type": "execute_result"
    }
   ],
   "source": [
    "0x12"
   ]
  },
  {
   "cell_type": "code",
   "execution_count": 25,
   "id": "72baa2dd-2593-4beb-80df-5008e9663d1a",
   "metadata": {},
   "outputs": [
    {
     "data": {
      "text/plain": [
       "35"
      ]
     },
     "execution_count": 25,
     "metadata": {},
     "output_type": "execute_result"
    }
   ],
   "source": [
    "0x23"
   ]
  },
  {
   "cell_type": "code",
   "execution_count": null,
   "id": "29540aec-ca31-49e7-b4dc-b3f1b4b46bd4",
   "metadata": {},
   "outputs": [],
   "source": []
  }
 ],
 "metadata": {
  "kernelspec": {
   "display_name": "Python [conda env:base] *",
   "language": "python",
   "name": "conda-base-py"
  },
  "language_info": {
   "codemirror_mode": {
    "name": "ipython",
    "version": 3
   },
   "file_extension": ".py",
   "mimetype": "text/x-python",
   "name": "python",
   "nbconvert_exporter": "python",
   "pygments_lexer": "ipython3",
   "version": "3.12.7"
  }
 },
 "nbformat": 4,
 "nbformat_minor": 5
}
