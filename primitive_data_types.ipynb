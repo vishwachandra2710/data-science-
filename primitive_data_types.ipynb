{
 "cells": [
  {
   "cell_type": "markdown",
   "id": "1c61e904-b339-4b5d-ac8a-abd25a7caa20",
   "metadata": {},
   "source": [
    "DATATYPES(PRIMITIVE)"
   ]
  },
  {
   "cell_type": "markdown",
   "id": "6448a7ec-bcf4-462f-bb6e-0f1724b4b3d3",
   "metadata": {},
   "source": [
    "---INTEGER\n",
    "----FLOAT\n",
    "-----BOOLEAN\n",
    "-----COMPLEX\n",
    "-----STRINGS"
   ]
  },
  {
   "cell_type": "code",
   "execution_count": 17,
   "id": "d1af37b7-8738-4414-a8ef-79101c684e6f",
   "metadata": {},
   "outputs": [
    {
     "name": "stdout",
     "output_type": "stream",
     "text": [
      "23\n",
      "<class 'int'>\n",
      "140737298508920\n",
      "28\n",
      "23 True\n"
     ]
    }
   ],
   "source": [
    "import sys\n",
    "a=23\n",
    "print(a)\n",
    "print(type(a))\n",
    "print(id(a))\n",
    "print(sys.getsizeof(a))\n",
    "print(a,isinstance(a,int))"
   ]
  },
  {
   "cell_type": "code",
   "execution_count": 19,
   "id": "27b0f13f-907a-4e1a-a4cb-a0a97a37534d",
   "metadata": {},
   "outputs": [
    {
     "name": "stdout",
     "output_type": "stream",
     "text": [
      "23.24\n",
      "<class 'float'>\n",
      "1731745090096\n",
      "24\n",
      "23.24 True\n"
     ]
    }
   ],
   "source": [
    "import sys\n",
    "a=23.24\n",
    "print(a)\n",
    "print(type(a))\n",
    "print(id(a))\n",
    "print(sys.getsizeof(a))\n",
    "print(a,isinstance(a,float))"
   ]
  },
  {
   "cell_type": "code",
   "execution_count": 27,
   "id": "6262207d-0c10-43ea-9c34-c25dbeb645a4",
   "metadata": {},
   "outputs": [
    {
     "name": "stdout",
     "output_type": "stream",
     "text": [
      "300.0\n"
     ]
    },
    {
     "data": {
      "text/plain": [
       "float"
      ]
     },
     "execution_count": 27,
     "metadata": {},
     "output_type": "execute_result"
    }
   ],
   "source": [
    "a=3e2\n",
    "print(a)\n",
    "type(a)"
   ]
  },
  {
   "cell_type": "code",
   "execution_count": 31,
   "id": "5928ecfe-779f-4874-afda-68bcfeae513d",
   "metadata": {},
   "outputs": [
    {
     "name": "stdout",
     "output_type": "stream",
     "text": [
      "(47+28j)\n",
      "<class 'complex'>\n",
      "1731745088848\n",
      "32\n",
      "True\n"
     ]
    }
   ],
   "source": [
    "import sys\n",
    "a=23+5j\n",
    "b=24+23j\n",
    "c=a+b\n",
    "print(c)\n",
    "print(type(c))\n",
    "print(id(c))\n",
    "print(sys.getsizeof(c))\n",
    "print(isinstance(c,complex))\n",
    "\n"
   ]
  },
  {
   "cell_type": "code",
   "execution_count": 33,
   "id": "3310f3a5-16cf-434d-9ee4-ab0eaa4cbaee",
   "metadata": {},
   "outputs": [
    {
     "name": "stdout",
     "output_type": "stream",
     "text": [
      "True\n"
     ]
    }
   ],
   "source": [
    "a=True\n",
    "print(a)"
   ]
  },
  {
   "cell_type": "code",
   "execution_count": 35,
   "id": "9c38a5bd-1383-4021-9fee-a8495d10c9aa",
   "metadata": {},
   "outputs": [
    {
     "data": {
      "text/plain": [
       "bool"
      ]
     },
     "execution_count": 35,
     "metadata": {},
     "output_type": "execute_result"
    }
   ],
   "source": [
    "type(a)"
   ]
  },
  {
   "cell_type": "code",
   "execution_count": 37,
   "id": "76ed50d7-0fad-46b1-9cf1-38052032afa2",
   "metadata": {},
   "outputs": [
    {
     "name": "stdout",
     "output_type": "stream",
     "text": [
      "False\n",
      "True\n"
     ]
    }
   ],
   "source": [
    "print(bool(0))\n",
    "print(bool(1))"
   ]
  },
  {
   "cell_type": "code",
   "execution_count": 39,
   "id": "e637e568-3e73-424e-b558-1a2c85eb0168",
   "metadata": {},
   "outputs": [
    {
     "data": {
      "text/plain": [
       "False"
      ]
     },
     "execution_count": 39,
     "metadata": {},
     "output_type": "execute_result"
    }
   ],
   "source": [
    "bool(None)"
   ]
  },
  {
   "cell_type": "code",
   "execution_count": 41,
   "id": "340aaa25-8439-46f2-a8ae-e795b753e6ea",
   "metadata": {},
   "outputs": [
    {
     "name": "stdout",
     "output_type": "stream",
     "text": [
      "1\n"
     ]
    }
   ],
   "source": [
    "bool=1\n",
    "print(bool)"
   ]
  },
  {
   "cell_type": "markdown",
   "id": "f9dc1029-085b-4858-95aa-6d30225fa026",
   "metadata": {},
   "source": [
    "STRINGS"
   ]
  },
  {
   "cell_type": "code",
   "execution_count": null,
   "id": "2ba1cd75-09de-4158-8718-7287120ade6e",
   "metadata": {},
   "outputs": [],
   "source": [
    "a'asdfg'\n",
    "print"
   ]
  },
  {
   "cell_type": "code",
   "execution_count": null,
   "id": "174c66aa-d21f-4330-9eac-b8f27ec20714",
   "metadata": {},
   "outputs": [],
   "source": []
  },
  {
   "cell_type": "code",
   "execution_count": null,
   "id": "55017c82-beb8-4f26-8dc7-e5516188180b",
   "metadata": {},
   "outputs": [],
   "source": []
  }
 ],
 "metadata": {
  "kernelspec": {
   "display_name": "Python [conda env:base] *",
   "language": "python",
   "name": "conda-base-py"
  },
  "language_info": {
   "codemirror_mode": {
    "name": "ipython",
    "version": 3
   },
   "file_extension": ".py",
   "mimetype": "text/x-python",
   "name": "python",
   "nbconvert_exporter": "python",
   "pygments_lexer": "ipython3",
   "version": "3.12.7"
  }
 },
 "nbformat": 4,
 "nbformat_minor": 5
}
