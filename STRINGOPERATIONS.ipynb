{
 "cells": [
  {
   "cell_type": "markdown",
   "id": "80acc3a6-821b-4703-afb8-4c5707f81439",
   "metadata": {},
   "source": [
    "STRING OPERATIONS\n",
    "LENGTH\n",
    "COUNT\n",
    "ISNUMERIC\n",
    "ISALPHA\n",
    "ISDECIMAL\n",
    "UPPER\n",
    "LOWER\n",
    "ISUPPER\n",
    "ISLOWER\n",
    "ENDSWITH\n",
    "STARTSWITH\n",
    "SPLIT\n",
    "JOIN\n",
    "SR"
   ]
  },
  {
   "cell_type": "code",
   "execution_count": 1,
   "id": "ff66e7c9-c4e6-4f22-a880-d40604a609e4",
   "metadata": {},
   "outputs": [
    {
     "name": "stdout",
     "output_type": "stream",
     "text": [
      "6\n"
     ]
    }
   ],
   "source": [
    "#STRING LENGTH\n",
    "str1=\"vishwa\"\n",
    "print(len(str1))"
   ]
  },
  {
   "cell_type": "code",
   "execution_count": 5,
   "id": "9ca212a3-becb-48f1-99e4-b75ada7415c6",
   "metadata": {},
   "outputs": [
    {
     "name": "stdout",
     "output_type": "stream",
     "text": [
      "vishwa chandra\n",
      "True\n"
     ]
    }
   ],
   "source": [
    "#string concatenation\n",
    "str1=\"vishwa\"\n",
    "str2=\" \"\n",
    "str3=\"chandra\"\n",
    "print(str1+str2+str3)\n",
    "print(len(str1)>len(str2))"
   ]
  },
  {
   "cell_type": "code",
   "execution_count": 15,
   "id": "a4d80a5b-d701-4791-891c-29ce08860367",
   "metadata": {},
   "outputs": [
    {
     "name": "stdout",
     "output_type": "stream",
     "text": [
      "Vishwa\n"
     ]
    }
   ],
   "source": [
    "# capitalize(): Converts the first character the string to Capital Letter\n",
    "str1=\"vishwa\"\n",
    "a=str1.capitalize()\n",
    "print(a)"
   ]
  },
  {
   "cell_type": "code",
   "execution_count": 9,
   "id": "fa480000-b7d2-4369-9712-af291abe9290",
   "metadata": {},
   "outputs": [
    {
     "name": "stdout",
     "output_type": "stream",
     "text": [
      "1\n",
      "1\n"
     ]
    }
   ],
   "source": [
    "#count\n",
    "str1=\"vishwa\"\n",
    "print(str1.count('a'))\n",
    "print(str1.count('h',3,4)) #numbers includes start index and end index"
   ]
  },
  {
   "cell_type": "code",
   "execution_count": 13,
   "id": "299ffb3c-817e-4cdf-9aff-aa78755b44c6",
   "metadata": {},
   "outputs": [
    {
     "name": "stdout",
     "output_type": "stream",
     "text": [
      "True False\n"
     ]
    }
   ],
   "source": [
    "#endswith(): Checks if a string ends with a specified ending\n",
    "str1=\"chandra\"\n",
    "k=str1.endswith(\"ra\")\n",
    "r=str1.endswith(\"ney\")\n",
    "print(k,r)"
   ]
  },
  {
   "cell_type": "code",
   "execution_count": 15,
   "id": "2d815416-be48-43ff-8001-730f3cccaabf",
   "metadata": {},
   "outputs": [
    {
     "name": "stdout",
     "output_type": "stream",
     "text": [
      "3\n"
     ]
    }
   ],
   "source": [
    "# find(): Returns the index of first occurrence of substring\n",
    "str23=\"vishwa\"\n",
    "print(str23.find(\"h\"))"
   ]
  },
  {
   "cell_type": "code",
   "execution_count": 21,
   "id": "2e6ff918-c41f-43a7-9f41-c2609c12c467",
   "metadata": {},
   "outputs": [
    {
     "name": "stdout",
     "output_type": "stream",
     "text": [
      "True\n",
      "False\n",
      "True\n"
     ]
    }
   ],
   "source": [
    "\n",
    "# isalnum(): Checks alphanumeric character (without space true)\n",
    "str2=\"ney30\"\n",
    "str4=\"vishwa 23\"\n",
    "str5=\"chandra\"\n",
    "print(str2.isalnum())\n",
    "print(str4.isalnum())\n",
    "print(str5.isalnum())"
   ]
  },
  {
   "cell_type": "code",
   "execution_count": 23,
   "id": "5f45d6c7-53d7-4287-b3e5-356095cd9f0b",
   "metadata": {},
   "outputs": [
    {
     "name": "stdout",
     "output_type": "stream",
     "text": [
      "True\n",
      "False\n"
     ]
    }
   ],
   "source": [
    "# isalpha(): Checks if all characters are alphabets\n",
    "str1=\"vishwa\"\n",
    "str2=\"23\"\n",
    "print(str1.isalpha())\n",
    "print(str2.isalpha())"
   ]
  },
  {
   "cell_type": "code",
   "execution_count": 25,
   "id": "3b3dab75-b0b3-434b-85ba-b1264fc92112",
   "metadata": {},
   "outputs": [
    {
     "name": "stdout",
     "output_type": "stream",
     "text": [
      "False\n",
      "True\n"
     ]
    }
   ],
   "source": [
    "# isdigit(): Checks Digit Characters\n",
    "str1=\"vishwa\"\n",
    "str2=\"23\"\n",
    "print(str1.isdigit())\n",
    "print(str2.isdigit())"
   ]
  },
  {
   "cell_type": "code",
   "execution_count": 27,
   "id": "5d37110a-72bb-49af-9ced-a2b1369149cb",
   "metadata": {},
   "outputs": [
    {
     "name": "stdout",
     "output_type": "stream",
     "text": [
      "False\n",
      "True\n"
     ]
    }
   ],
   "source": [
    "# isdecimal():Checks decimal characters\n",
    "str1=\"23.24\"\n",
    "str2=\"23\"\n",
    "print(str1.isdecimal())\n",
    "print(str2.isdecimal())"
   ]
  },
  {
   "cell_type": "code",
   "execution_count": 31,
   "id": "3d897036-1a21-4d6a-a1fe-7ad8ac44f230",
   "metadata": {},
   "outputs": [
    {
     "name": "stdout",
     "output_type": "stream",
     "text": [
      "True\n",
      "False\n"
     ]
    }
   ],
   "source": [
    " #isidentifier():Checks for valid identifier means it check if a string is a valid variable name\n",
    "str1=\"vishwa\"\n",
    "str2=\"23vishwa\"\n",
    "print(str1.isidentifier())\n",
    "print(str2.isidentifier())"
   ]
  },
  {
   "cell_type": "code",
   "execution_count": 33,
   "id": "38699693-074f-43f0-9953-94bb14302752",
   "metadata": {},
   "outputs": [
    {
     "name": "stdout",
     "output_type": "stream",
     "text": [
      "True\n",
      "VISHWA\n",
      "True\n",
      "vishwa\n"
     ]
    }
   ],
   "source": [
    "#lower,upper\n",
    "str1=\"vishwa\"\n",
    "print(str1.islower())\n",
    "print(str1.upper())\n",
    "str2=\"VISHWA\"\n",
    "print(str2.isupper())\n",
    "print(str1.lower())"
   ]
  },
  {
   "cell_type": "code",
   "execution_count": 35,
   "id": "b6439205-2a98-4da1-8e3a-5c1f343fc23b",
   "metadata": {},
   "outputs": [
    {
     "name": "stdout",
     "output_type": "stream",
     "text": [
      "True\n"
     ]
    }
   ],
   "source": [
    "#is numeric\n",
    "str1=\"23\"\n",
    "print(str1.isnumeric())\n"
   ]
  },
  {
   "cell_type": "code",
   "execution_count": 47,
   "id": "3472e972-60ad-4bab-8445-8a755c5789da",
   "metadata": {},
   "outputs": [
    {
     "name": "stdout",
     "output_type": "stream",
     "text": [
      "v # i # s # h # w # a\n"
     ]
    }
   ],
   "source": [
    "#join\n",
    "str223=\" # \"\n",
    "str224=\"vishwa\"\n",
    "print(str223.join(str224))"
   ]
  },
  {
   "cell_type": "code",
   "execution_count": 49,
   "id": "c73260bc-419f-4e41-928c-4562df10e40f",
   "metadata": {},
   "outputs": [
    {
     "name": "stdout",
     "output_type": "stream",
     "text": [
      "ishwa\n"
     ]
    }
   ],
   "source": [
    "#strip\n",
    "str1=\"vishwa\"\n",
    "print(str1.strip(\"v\"))"
   ]
  },
  {
   "cell_type": "code",
   "execution_count": 53,
   "id": "a39ee828-7a58-414b-bc76-d6604335777c",
   "metadata": {},
   "outputs": [
    {
     "name": "stdout",
     "output_type": "stream",
     "text": [
      "nishwa\n"
     ]
    }
   ],
   "source": [
    "#replace\n",
    "str23=\"vishwa\"\n",
    "print(str23.replace('v','n'))"
   ]
  },
  {
   "cell_type": "code",
   "execution_count": 55,
   "id": "8d3eb9d6-d72b-423c-9520-50d2547ddef6",
   "metadata": {},
   "outputs": [
    {
     "name": "stdout",
     "output_type": "stream",
     "text": [
      "['vishwa']\n"
     ]
    }
   ],
   "source": [
    "#split\n",
    "q=\"vishwa\"\n",
    "print(q.split())"
   ]
  },
  {
   "cell_type": "code",
   "execution_count": 57,
   "id": "42fb77a4-97b5-428a-8a6e-5fc596059e4a",
   "metadata": {},
   "outputs": [
    {
     "name": "stdout",
     "output_type": "stream",
     "text": [
      "Hello Welcome\n"
     ]
    }
   ],
   "source": [
    "#title\n",
    "a=\"hello welcome\"\n",
    "print(a.title())"
   ]
  },
  {
   "cell_type": "code",
   "execution_count": 59,
   "id": "d86adced-1d64-4130-86b8-ca38db6931a4",
   "metadata": {},
   "outputs": [
    {
     "name": "stdout",
     "output_type": "stream",
     "text": [
      "PYTHON\n",
      "True\n",
      "False\n"
     ]
    }
   ],
   "source": [
    "#swapcase,#startswith\n",
    "a=\"python\"\n",
    "print(a.swapcase())\n",
    "print(a.startswith(\"py\"))\n",
    "print(a.startswith(\"ne\"))"
   ]
  },
  {
   "cell_type": "code",
   "execution_count": null,
   "id": "80c97127-c7e0-419f-a552-cfbb897c0959",
   "metadata": {},
   "outputs": [],
   "source": []
  }
 ],
 "metadata": {
  "kernelspec": {
   "display_name": "Python [conda env:base] *",
   "language": "python",
   "name": "conda-base-py"
  },
  "language_info": {
   "codemirror_mode": {
    "name": "ipython",
    "version": 3
   },
   "file_extension": ".py",
   "mimetype": "text/x-python",
   "name": "python",
   "nbconvert_exporter": "python",
   "pygments_lexer": "ipython3",
   "version": "3.12.7"
  }
 },
 "nbformat": 4,
 "nbformat_minor": 5
}
