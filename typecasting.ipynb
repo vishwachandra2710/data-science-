{
 "cells": [
  {
   "cell_type": "markdown",
   "id": "c139dc90-f157-4519-9235-2003b776a92b",
   "metadata": {},
   "source": [
    "TYPE CASTING\n",
    "- CONVERT FROM 1 DATATYPE TO OTHER DATA TYPE\n",
    "- FROM ALL OTHER DATATYPE TO INT, OR COMPLEX, FLOAT, BOOL, "
   ]
  },
  {
   "cell_type": "code",
   "execution_count": 1,
   "id": "a6ab0f19-cb62-468d-a4f8-991ee322694c",
   "metadata": {},
   "outputs": [
    {
     "name": "stdout",
     "output_type": "stream",
     "text": [
      "2\n"
     ]
    }
   ],
   "source": [
    "print(int(2.3))"
   ]
  },
  {
   "cell_type": "code",
   "execution_count": 5,
   "id": "a93d33b3-194c-4712-af8b-52330473a564",
   "metadata": {},
   "outputs": [
    {
     "data": {
      "text/plain": [
       "'2324'"
      ]
     },
     "execution_count": 5,
     "metadata": {},
     "output_type": "execute_result"
    }
   ],
   "source": [
    "(str(2324))"
   ]
  },
  {
   "cell_type": "code",
   "execution_count": 7,
   "id": "d64504b5-78c9-4b02-89e5-d855511fe30b",
   "metadata": {},
   "outputs": [
    {
     "data": {
      "text/plain": [
       "23.0"
      ]
     },
     "execution_count": 7,
     "metadata": {},
     "output_type": "execute_result"
    }
   ],
   "source": [
    "float(23)"
   ]
  },
  {
   "cell_type": "code",
   "execution_count": 11,
   "id": "c90603e1-b209-4944-8d69-c83d5da1fed7",
   "metadata": {},
   "outputs": [
    {
     "data": {
      "text/plain": [
       "['v', 'i', 's', 'h', 'w', 'a']"
      ]
     },
     "execution_count": 11,
     "metadata": {},
     "output_type": "execute_result"
    }
   ],
   "source": [
    "list(\"vishwa\")"
   ]
  },
  {
   "cell_type": "code",
   "execution_count": 13,
   "id": "724b3ee9-3aea-403d-9076-41440b207778",
   "metadata": {},
   "outputs": [
    {
     "data": {
      "text/plain": [
       "(23+24j)"
      ]
     },
     "execution_count": 13,
     "metadata": {},
     "output_type": "execute_result"
    }
   ],
   "source": [
    "complex(23,24)"
   ]
  },
  {
   "cell_type": "code",
   "execution_count": 15,
   "id": "e912b01b-6290-4401-a3f4-0fc67d01adb6",
   "metadata": {},
   "outputs": [
    {
     "data": {
      "text/plain": [
       "True"
      ]
     },
     "execution_count": 15,
     "metadata": {},
     "output_type": "execute_result"
    }
   ],
   "source": [
    "bool(23)"
   ]
  },
  {
   "cell_type": "code",
   "execution_count": 17,
   "id": "bde732db-a58c-4be6-be53-bb32a6873672",
   "metadata": {},
   "outputs": [
    {
     "data": {
      "text/plain": [
       "True"
      ]
     },
     "execution_count": 17,
     "metadata": {},
     "output_type": "execute_result"
    }
   ],
   "source": [
    "bool(30)"
   ]
  },
  {
   "cell_type": "code",
   "execution_count": null,
   "id": "36109f10-52d4-4f45-bb42-db9fc485ad91",
   "metadata": {},
   "outputs": [],
   "source": [
    "bool(2"
   ]
  }
 ],
 "metadata": {
  "kernelspec": {
   "display_name": "Python [conda env:base] *",
   "language": "python",
   "name": "conda-base-py"
  },
  "language_info": {
   "codemirror_mode": {
    "name": "ipython",
    "version": 3
   },
   "file_extension": ".py",
   "mimetype": "text/x-python",
   "name": "python",
   "nbconvert_exporter": "python",
   "pygments_lexer": "ipython3",
   "version": "3.12.7"
  }
 },
 "nbformat": 4,
 "nbformat_minor": 5
}
