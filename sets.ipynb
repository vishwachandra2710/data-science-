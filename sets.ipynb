{
 "cells": [
  {
   "cell_type": "markdown",
   "id": "d63ecc63-8c36-4692-93fb-2b6152140964",
   "metadata": {},
   "source": [
    "SETS\n",
    ".................\n",
    "sets can be declared by using {}\n",
    "can be of any data type\n",
    "duplicates are not allowed\n",
    "sets are mutable and sets are immutable\n",
    "indexing is not allowed\n",
    "slicing is not allowed\n"
   ]
  },
  {
   "cell_type": "code",
   "execution_count": 5,
   "id": "50733213-9401-4408-bd19-7c772ddf864c",
   "metadata": {},
   "outputs": [
    {
     "data": {
      "text/plain": [
       "dict"
      ]
     },
     "execution_count": 5,
     "metadata": {},
     "output_type": "execute_result"
    }
   ],
   "source": [
    "ss1={}\n",
    "type(ss1)"
   ]
  },
  {
   "cell_type": "code",
   "execution_count": 7,
   "id": "7f9a6a1b-b048-4635-96a4-16da5767c5cd",
   "metadata": {},
   "outputs": [
    {
     "name": "stdout",
     "output_type": "stream",
     "text": [
      "{1, 2, 3, 4, 5, 6}\n"
     ]
    }
   ],
   "source": [
    "ss1={1,2,3,4,5,6}\n",
    "#any data type can be declared in sets\n",
    "print(ss1)"
   ]
  },
  {
   "cell_type": "code",
   "execution_count": 13,
   "id": "b495420a-511e-4704-b774-4ca7739ca939",
   "metadata": {},
   "outputs": [
    {
     "ename": "TypeError",
     "evalue": "unhashable type: 'list'",
     "output_type": "error",
     "traceback": [
      "\u001b[1;31m---------------------------------------------------------------------------\u001b[0m",
      "\u001b[1;31mTypeError\u001b[0m                                 Traceback (most recent call last)",
      "Cell \u001b[1;32mIn[13], line 1\u001b[0m\n\u001b[1;32m----> 1\u001b[0m ss2\u001b[38;5;241m=\u001b[39m{\u001b[38;5;241m2\u001b[39m,\u001b[38;5;241m3\u001b[39m,\u001b[38;5;241m4\u001b[39m,\u001b[38;5;241m6\u001b[39m,\u001b[38;5;241m7\u001b[39m,[\u001b[38;5;241m2\u001b[39m,\u001b[38;5;241m4\u001b[39m,\u001b[38;5;241m67\u001b[39m]}\n\u001b[0;32m      2\u001b[0m \u001b[38;5;28mprint\u001b[39m(ss2)\n",
      "\u001b[1;31mTypeError\u001b[0m: unhashable type: 'list'"
     ]
    }
   ],
   "source": [
    "ss2={2,3,4,6,7,[2,4,67]}\n",
    "print(ss2)\n",
    "#mutable data like lists is not allowed in  list"
   ]
  },
  {
   "cell_type": "code",
   "execution_count": 15,
   "id": "e3fd5c38-a2c5-4d88-a362-6f9ab300e9f8",
   "metadata": {},
   "outputs": [
    {
     "data": {
      "text/plain": [
       "{1, 2, 3, 4, 5, 6}"
      ]
     },
     "execution_count": 15,
     "metadata": {},
     "output_type": "execute_result"
    }
   ],
   "source": [
    "ss1"
   ]
  },
  {
   "cell_type": "code",
   "execution_count": 17,
   "id": "a8ac7872-4313-47cb-9102-ee7fe848bed5",
   "metadata": {},
   "outputs": [
    {
     "ename": "TypeError",
     "evalue": "'set' object is not subscriptable",
     "output_type": "error",
     "traceback": [
      "\u001b[1;31m---------------------------------------------------------------------------\u001b[0m",
      "\u001b[1;31mTypeError\u001b[0m                                 Traceback (most recent call last)",
      "Cell \u001b[1;32mIn[17], line 1\u001b[0m\n\u001b[1;32m----> 1\u001b[0m ss1[\u001b[38;5;241m0\u001b[39m]\n",
      "\u001b[1;31mTypeError\u001b[0m: 'set' object is not subscriptable"
     ]
    }
   ],
   "source": [
    "ss1[0]\n",
    "#cannot acces through indexing and slicing"
   ]
  },
  {
   "cell_type": "code",
   "execution_count": 19,
   "id": "35ec6e4a-2b14-4f4b-9582-62215a79ece9",
   "metadata": {},
   "outputs": [
    {
     "name": "stdout",
     "output_type": "stream",
     "text": [
      "1\n",
      "2\n",
      "3\n",
      "4\n",
      "5\n",
      "6\n"
     ]
    }
   ],
   "source": [
    "#looping for set\n",
    "for i in ss1:\n",
    "    print(i)"
   ]
  },
  {
   "cell_type": "code",
   "execution_count": 21,
   "id": "c8be4706-fb45-4e08-a4c1-c092c2a6a00b",
   "metadata": {},
   "outputs": [
    {
     "name": "stdout",
     "output_type": "stream",
     "text": [
      "(0, 1)\n",
      "(1, 2)\n",
      "(2, 3)\n",
      "(3, 4)\n",
      "(4, 5)\n",
      "(5, 6)\n"
     ]
    }
   ],
   "source": [
    "for i in enumerate(ss1):\n",
    "    print(i)"
   ]
  },
  {
   "cell_type": "markdown",
   "id": "66ca7a36-a046-477d-b8a6-ea4a5898ed3d",
   "metadata": {},
   "source": [
    "set membership\n"
   ]
  },
  {
   "cell_type": "code",
   "execution_count": 57,
   "id": "a61b3fd0-74ae-4675-a86a-379f6a007c54",
   "metadata": {},
   "outputs": [
    {
     "name": "stdout",
     "output_type": "stream",
     "text": [
      "False\n"
     ]
    }
   ],
   "source": [
    "q={25,27,29,31,33}\n",
    "print(23 in q)"
   ]
  },
  {
   "cell_type": "code",
   "execution_count": 59,
   "id": "b0bb6ec7-d533-4b89-8c29-72776abd7562",
   "metadata": {},
   "outputs": [
    {
     "name": "stdout",
     "output_type": "stream",
     "text": [
      "True\n"
     ]
    }
   ],
   "source": [
    "print(27 in q)"
   ]
  },
  {
   "cell_type": "code",
   "execution_count": 61,
   "id": "bcef56f7-09ae-4cf6-85dc-f8b6bfd65877",
   "metadata": {},
   "outputs": [
    {
     "name": "stdout",
     "output_type": "stream",
     "text": [
      "python\n"
     ]
    }
   ],
   "source": [
    "#using if else\n",
    "if 30 in q:\n",
    "    print(\"hello\")\n",
    "else:\n",
    "    print(\"python\")"
   ]
  },
  {
   "cell_type": "markdown",
   "id": "8105542d-8cab-47df-89ec-320530e1256a",
   "metadata": {},
   "source": [
    "add() takes one argument and adds that number before to its next larger number"
   ]
  },
  {
   "cell_type": "code",
   "execution_count": 64,
   "id": "c71c459e-05e4-4080-9dc3-f6e7103e5296",
   "metadata": {},
   "outputs": [
    {
     "name": "stdout",
     "output_type": "stream",
     "text": [
      "{33, 25, 27, 29, 31}\n"
     ]
    }
   ],
   "source": [
    "print(q)"
   ]
  },
  {
   "cell_type": "code",
   "execution_count": 66,
   "id": "64be74e2-5384-427b-8bba-5b6ae10ee6b8",
   "metadata": {},
   "outputs": [
    {
     "name": "stdout",
     "output_type": "stream",
     "text": [
      "{32, 33, 24, 25, 27, 29, 31}\n"
     ]
    }
   ],
   "source": [
    "q.add(24)\n",
    "q.add(32)\n",
    "print(q)"
   ]
  },
  {
   "cell_type": "markdown",
   "id": "cee6450b-bf73-4169-82cf-fbb9816b5099",
   "metadata": {},
   "source": [
    "copy()"
   ]
  },
  {
   "cell_type": "code",
   "execution_count": 69,
   "id": "d8d6e98e-b37b-4840-860a-0953b76636f1",
   "metadata": {},
   "outputs": [
    {
     "name": "stdout",
     "output_type": "stream",
     "text": [
      "{32, 33, 24, 25, 27, 29, 31}\n"
     ]
    }
   ],
   "source": [
    "r=q.copy()\n",
    "print(r)"
   ]
  },
  {
   "cell_type": "code",
   "execution_count": 71,
   "id": "e80df8d5-0e6d-44d4-acad-c21eb53d8fe3",
   "metadata": {},
   "outputs": [
    {
     "data": {
      "text/plain": [
       "2657045243360"
      ]
     },
     "execution_count": 71,
     "metadata": {},
     "output_type": "execute_result"
    }
   ],
   "source": [
    "id(q)"
   ]
  },
  {
   "cell_type": "code",
   "execution_count": 73,
   "id": "21974698-df37-4f66-89ea-0d359c709faa",
   "metadata": {},
   "outputs": [
    {
     "data": {
      "text/plain": [
       "2657045246720"
      ]
     },
     "execution_count": 73,
     "metadata": {},
     "output_type": "execute_result"
    }
   ],
   "source": [
    "id(r)"
   ]
  },
  {
   "cell_type": "markdown",
   "id": "36af7cd9-f459-4aa9-a0a2-e59efc5ac331",
   "metadata": {},
   "source": [
    "remove() give element in the parameters"
   ]
  },
  {
   "cell_type": "code",
   "execution_count": 76,
   "id": "2d4ada5c-92d2-4390-94eb-8d6bbd4b0c7c",
   "metadata": {},
   "outputs": [
    {
     "data": {
      "text/plain": [
       "{24, 25, 27, 29, 31, 32, 33}"
      ]
     },
     "execution_count": 76,
     "metadata": {},
     "output_type": "execute_result"
    }
   ],
   "source": [
    "q"
   ]
  },
  {
   "cell_type": "code",
   "execution_count": 78,
   "id": "cfcb2029-3dc1-45b1-9d8c-d9a6b2a2f80c",
   "metadata": {},
   "outputs": [
    {
     "name": "stdout",
     "output_type": "stream",
     "text": [
      "{33, 24, 25, 27, 29, 31}\n"
     ]
    }
   ],
   "source": [
    "q.remove(32)\n",
    "print(q)"
   ]
  },
  {
   "cell_type": "code",
   "execution_count": 81,
   "id": "aa7caaa5-56c5-4135-b66c-03a47cd74639",
   "metadata": {},
   "outputs": [
    {
     "ename": "KeyError",
     "evalue": "23",
     "output_type": "error",
     "traceback": [
      "\u001b[1;31m---------------------------------------------------------------------------\u001b[0m",
      "\u001b[1;31mKeyError\u001b[0m                                  Traceback (most recent call last)",
      "Cell \u001b[1;32mIn[81], line 1\u001b[0m\n\u001b[1;32m----> 1\u001b[0m q\u001b[38;5;241m.\u001b[39mremove(\u001b[38;5;241m23\u001b[39m)\n",
      "\u001b[1;31mKeyError\u001b[0m: 23"
     ]
    }
   ],
   "source": [
    "q.remove(23)"
   ]
  },
  {
   "cell_type": "markdown",
   "id": "22a75e85-ee87-4bb2-8e14-f884cfe317a9",
   "metadata": {},
   "source": [
    "to avoid this error discard function is used \n",
    "discard():removes the element if it is present\n",
    "does not throw you error if the element is not present\n",
    "\n"
   ]
  },
  {
   "cell_type": "markdown",
   "id": "49148c37-6217-4b9c-ad2d-0743fd5b668a",
   "metadata": {},
   "source": [
    "discard()"
   ]
  },
  {
   "cell_type": "code",
   "execution_count": 86,
   "id": "40aa9cbb-94f3-411f-95cb-08522e68fc84",
   "metadata": {},
   "outputs": [
    {
     "data": {
      "text/plain": [
       "{24, 25, 27, 29, 31, 32, 33}"
      ]
     },
     "execution_count": 86,
     "metadata": {},
     "output_type": "execute_result"
    }
   ],
   "source": [
    "r"
   ]
  },
  {
   "cell_type": "code",
   "execution_count": 88,
   "id": "4a68bbe8-9fe2-4383-8bcb-51535078cf25",
   "metadata": {},
   "outputs": [],
   "source": [
    "r.discard(27)"
   ]
  },
  {
   "cell_type": "code",
   "execution_count": 90,
   "id": "78c382a6-1454-4af7-8f66-6ca2fea088ee",
   "metadata": {},
   "outputs": [
    {
     "name": "stdout",
     "output_type": "stream",
     "text": [
      "{32, 33, 24, 25, 29, 31}\n"
     ]
    }
   ],
   "source": [
    "print(r)"
   ]
  },
  {
   "cell_type": "code",
   "execution_count": 96,
   "id": "499fad6f-6adf-4fe8-8e78-e2996188e60a",
   "metadata": {},
   "outputs": [
    {
     "name": "stdout",
     "output_type": "stream",
     "text": [
      "{32, 33, 24, 25, 29, 31}\n"
     ]
    }
   ],
   "source": [
    "r.discard(30)\n",
    "print(r)"
   ]
  },
  {
   "cell_type": "markdown",
   "id": "ab2f00fd-d876-4a2d-9bba-a2307e280459",
   "metadata": {},
   "source": [
    "pop()  by default elimates the first element\n",
    "takes no argument"
   ]
  },
  {
   "cell_type": "code",
   "execution_count": 98,
   "id": "2f5c723f-9d50-4cfb-b903-89b6d71a2176",
   "metadata": {},
   "outputs": [
    {
     "name": "stdout",
     "output_type": "stream",
     "text": [
      "{33, 24, 25, 29, 31}\n"
     ]
    }
   ],
   "source": [
    "r.pop()\n",
    "print(r)"
   ]
  },
  {
   "cell_type": "code",
   "execution_count": 100,
   "id": "3cf93a7b-38f0-4611-ab82-4b04d0ffe037",
   "metadata": {},
   "outputs": [
    {
     "name": "stdout",
     "output_type": "stream",
     "text": [
      "{24, 25, 29, 31}\n"
     ]
    }
   ],
   "source": [
    "r.pop()\n",
    "print(r)"
   ]
  },
  {
   "cell_type": "code",
   "execution_count": 102,
   "id": "38cc8ead-70ae-4709-825e-9a08cf8bc6d2",
   "metadata": {},
   "outputs": [
    {
     "ename": "TypeError",
     "evalue": "set.pop() takes no arguments (1 given)",
     "output_type": "error",
     "traceback": [
      "\u001b[1;31m---------------------------------------------------------------------------\u001b[0m",
      "\u001b[1;31mTypeError\u001b[0m                                 Traceback (most recent call last)",
      "Cell \u001b[1;32mIn[102], line 1\u001b[0m\n\u001b[1;32m----> 1\u001b[0m r\u001b[38;5;241m.\u001b[39mpop(\u001b[38;5;241m2\u001b[39m)\n",
      "\u001b[1;31mTypeError\u001b[0m: set.pop() takes no arguments (1 given)"
     ]
    }
   ],
   "source": [
    "r.pop(2)\n"
   ]
  },
  {
   "cell_type": "markdown",
   "id": "0a28650e-7db9-48f7-9c85-4e47617f3b91",
   "metadata": {},
   "source": [
    "update function() adds many elements to the set"
   ]
  },
  {
   "cell_type": "code",
   "execution_count": 104,
   "id": "3199f40a-8544-4ae5-945a-2018773d154d",
   "metadata": {},
   "outputs": [
    {
     "data": {
      "text/plain": [
       "{24, 25, 27, 29, 31, 33}"
      ]
     },
     "execution_count": 104,
     "metadata": {},
     "output_type": "execute_result"
    }
   ],
   "source": [
    "q"
   ]
  },
  {
   "cell_type": "code",
   "execution_count": 108,
   "id": "420561aa-67d8-4d89-8535-7f6eac09b995",
   "metadata": {},
   "outputs": [
    {
     "name": "stdout",
     "output_type": "stream",
     "text": [
      "{1, 2, 4, 5, 6, 24, 25, 27, 29, 31, 33}\n"
     ]
    }
   ],
   "source": [
    "q.update([1,2,4,5,6])\n",
    "print(q)"
   ]
  },
  {
   "cell_type": "markdown",
   "id": "04e054b5-aeb9-4683-a46c-cae8c4ee7fa9",
   "metadata": {},
   "source": [
    "union()  gives all the elememnts once from both the sets can be also performed by | operator"
   ]
  },
  {
   "cell_type": "code",
   "execution_count": 112,
   "id": "ece91cf5-094a-4a30-8e8b-73dd72b33baf",
   "metadata": {},
   "outputs": [],
   "source": [
    "w={1,2,3,4,5,6,7}\n",
    "t={4,5,6,7,8,9,10}\n",
    "f={7,8,9,12,13,14,15}\n",
    "k={23,24,25,26,27,28}"
   ]
  },
  {
   "cell_type": "code",
   "execution_count": 114,
   "id": "3026e888-06fd-4fb1-9dfc-9eb57df1b942",
   "metadata": {},
   "outputs": [
    {
     "name": "stdout",
     "output_type": "stream",
     "text": [
      "{1, 2, 3, 4, 5, 6, 7, 8, 9, 10}\n"
     ]
    }
   ],
   "source": [
    "print(w.union(t))"
   ]
  },
  {
   "cell_type": "code",
   "execution_count": 116,
   "id": "86d5f4f4-8075-4314-ba91-135f647590ec",
   "metadata": {},
   "outputs": [
    {
     "data": {
      "text/plain": [
       "{4, 5, 6, 7, 8, 9, 10, 23, 24, 25, 26, 27, 28}"
      ]
     },
     "execution_count": 116,
     "metadata": {},
     "output_type": "execute_result"
    }
   ],
   "source": [
    "t|k"
   ]
  },
  {
   "cell_type": "code",
   "execution_count": null,
   "id": "cd666a55-4101-4625-bd8f-e017d027e89b",
   "metadata": {},
   "outputs": [],
   "source": [
    "intersection() gives the common elements from both the sets can alos be performed by &"
   ]
  },
  {
   "cell_type": "code",
   "execution_count": 132,
   "id": "b03fc12f-8b8f-4e58-8c14-953645f37ff3",
   "metadata": {},
   "outputs": [
    {
     "name": "stdout",
     "output_type": "stream",
     "text": [
      "set()\n"
     ]
    }
   ],
   "source": [
    "print(w.intersection(t,k))"
   ]
  },
  {
   "cell_type": "code",
   "execution_count": 134,
   "id": "e7fb2e96-02b3-4e90-9a2c-f2bf8ac53d1a",
   "metadata": {},
   "outputs": [
    {
     "data": {
      "text/plain": [
       "{7, 8, 9}"
      ]
     },
     "execution_count": 134,
     "metadata": {},
     "output_type": "execute_result"
    }
   ],
   "source": [
    "t & f"
   ]
  },
  {
   "cell_type": "markdown",
   "id": "590a01f4-26fc-4d67-bbfd-5ef161f8ae60",
   "metadata": {},
   "source": [
    "difference() minuses the common elements and gives the first set elements as output"
   ]
  },
  {
   "cell_type": "code",
   "execution_count": 136,
   "id": "e014bc88-a3eb-4685-93e2-edc46964c8bf",
   "metadata": {},
   "outputs": [
    {
     "name": "stdout",
     "output_type": "stream",
     "text": [
      "{1, 2, 3, 4, 5, 6, 7}\n",
      "{4, 5, 6, 7, 8, 9, 10}\n",
      "{7, 8, 9, 12, 13, 14, 15}\n",
      "{23, 24, 25, 26, 27, 28}\n"
     ]
    }
   ],
   "source": [
    "print(w)\n",
    "print(t)\n",
    "print(f)\n",
    "print(k)\n"
   ]
  },
  {
   "cell_type": "code",
   "execution_count": 138,
   "id": "683d4cd7-ca43-4320-b3c1-3a857dbe1fbf",
   "metadata": {},
   "outputs": [
    {
     "data": {
      "text/plain": [
       "{1, 2, 3}"
      ]
     },
     "execution_count": 138,
     "metadata": {},
     "output_type": "execute_result"
    }
   ],
   "source": [
    "w.difference(t)"
   ]
  },
  {
   "cell_type": "code",
   "execution_count": 140,
   "id": "2654a8aa-62ae-411b-8e79-af302bf9914a",
   "metadata": {},
   "outputs": [
    {
     "data": {
      "text/plain": [
       "{7, 8, 9, 12, 13, 14, 15}"
      ]
     },
     "execution_count": 140,
     "metadata": {},
     "output_type": "execute_result"
    }
   ],
   "source": [
    "f-k"
   ]
  },
  {
   "cell_type": "code",
   "execution_count": 142,
   "id": "dae56650-526c-4784-8be7-ea1d3ea93946",
   "metadata": {},
   "outputs": [
    {
     "data": {
      "text/plain": [
       "{4, 5, 6, 10}"
      ]
     },
     "execution_count": 142,
     "metadata": {},
     "output_type": "execute_result"
    }
   ],
   "source": [
    "t-f"
   ]
  },
  {
   "cell_type": "code",
   "execution_count": 144,
   "id": "2135251d-64eb-4ceb-90ca-1c21e947e063",
   "metadata": {},
   "outputs": [
    {
     "data": {
      "text/plain": [
       "{12, 13, 14, 15}"
      ]
     },
     "execution_count": 144,
     "metadata": {},
     "output_type": "execute_result"
    }
   ],
   "source": [
    "f-t"
   ]
  },
  {
   "cell_type": "markdown",
   "id": "b35f28ce-a67c-4c55-a50e-ff702c936f16",
   "metadata": {},
   "source": [
    "symmetric difference(does not print the common elemengts from both the sets buts print the other eeements from both the sets can also be done by ^"
   ]
  },
  {
   "cell_type": "code",
   "execution_count": 171,
   "id": "9044083d-349f-4cd5-ab1e-6e31d8b4f87e",
   "metadata": {},
   "outputs": [
    {
     "name": "stdout",
     "output_type": "stream",
     "text": [
      "{1, 5, 6, 7}\n",
      "{4, 5, 6, 7, 8, 9, 10}\n",
      "{7, 8, 9, 12, 13, 14, 15}\n",
      "{23, 24, 25, 26, 27, 28}\n"
     ]
    }
   ],
   "source": [
    "print(w)\n",
    "print(t)\n",
    "print(f)\n",
    "print(k)\n"
   ]
  },
  {
   "cell_type": "code",
   "execution_count": 173,
   "id": "30c2f94c-5e8f-449e-8323-9f8bbc433af8",
   "metadata": {},
   "outputs": [
    {
     "data": {
      "text/plain": [
       "{1, 4, 8, 9, 10}"
      ]
     },
     "execution_count": 173,
     "metadata": {},
     "output_type": "execute_result"
    }
   ],
   "source": [
    "w.symmetric_difference(t)"
   ]
  },
  {
   "cell_type": "code",
   "execution_count": 175,
   "id": "d1276070-f04f-4f90-a861-00281e369bc3",
   "metadata": {},
   "outputs": [
    {
     "data": {
      "text/plain": [
       "{4, 5, 6, 10, 12, 13, 14, 15}"
      ]
     },
     "execution_count": 175,
     "metadata": {},
     "output_type": "execute_result"
    }
   ],
   "source": [
    "t ^ f"
   ]
  },
  {
   "cell_type": "markdown",
   "id": "4da68756-b345-4c3d-8a69-774e22f3d4c6",
   "metadata": {},
   "source": [
    "superset,\n",
    "subset,\n",
    "disjoint"
   ]
  },
  {
   "cell_type": "code",
   "execution_count": 178,
   "id": "b0dd0087-fbc2-4664-92b1-dca19fbd741c",
   "metadata": {},
   "outputs": [
    {
     "name": "stdout",
     "output_type": "stream",
     "text": [
      "{4, 5, 6, 7, 8, 9, 10}\n",
      "{7, 8, 9, 12, 13, 14, 15}\n",
      "{23, 24, 25, 26, 27, 28}\n"
     ]
    }
   ],
   "source": [
    "\n",
    "print(t)\n",
    "print(f)\n",
    "print(k)\n"
   ]
  },
  {
   "cell_type": "code",
   "execution_count": 186,
   "id": "e5f3146f-79f9-4f7e-933d-c4d7c6460f39",
   "metadata": {},
   "outputs": [
    {
     "name": "stdout",
     "output_type": "stream",
     "text": [
      "{24, 25, 26, 23}\n"
     ]
    }
   ],
   "source": [
    "d={23,24,25,26}\n",
    "print(d)"
   ]
  },
  {
   "cell_type": "markdown",
   "id": "9c8d90a9-17a9-4983-8112-a2f3556690fe",
   "metadata": {},
   "source": [
    "issuperset()   Set A is said to be the superset of set B if all elements of B"
   ]
  },
  {
   "cell_type": "code",
   "execution_count": 192,
   "id": "0fa94362-b254-4f8a-964f-244e3b8c03cd",
   "metadata": {},
   "outputs": [
    {
     "data": {
      "text/plain": [
       "True"
      ]
     },
     "execution_count": 192,
     "metadata": {},
     "output_type": "execute_result"
    }
   ],
   "source": [
    "k.issuperset(d)"
   ]
  },
  {
   "cell_type": "markdown",
   "id": "2e9e77aa-875f-4a0b-bd4a-447ceea700ec",
   "metadata": {},
   "source": [
    "issubset() Set B is said to be the subset of set A if all elements of B are"
   ]
  },
  {
   "cell_type": "code",
   "execution_count": 196,
   "id": "106cee69-94a3-4bc3-8551-80a8106fef54",
   "metadata": {},
   "outputs": [],
   "source": [
    "a1={1,2,3,4,5,6,7,8}\n",
    "a2={4,5,6,7,8}\n",
    "a3={23,24,25,26,27}"
   ]
  },
  {
   "cell_type": "code",
   "execution_count": 198,
   "id": "2775c25c-92fe-47b3-8401-3807b9864ae5",
   "metadata": {},
   "outputs": [
    {
     "data": {
      "text/plain": [
       "True"
      ]
     },
     "execution_count": 198,
     "metadata": {},
     "output_type": "execute_result"
    }
   ],
   "source": [
    "a1.issuperset(a2)"
   ]
  },
  {
   "cell_type": "code",
   "execution_count": 200,
   "id": "d8c92bbc-da32-4d53-a20f-b1eda8d1754d",
   "metadata": {},
   "outputs": [
    {
     "data": {
      "text/plain": [
       "True"
      ]
     },
     "execution_count": 200,
     "metadata": {},
     "output_type": "execute_result"
    }
   ],
   "source": [
    "a2.issubset(a1)"
   ]
  },
  {
   "cell_type": "markdown",
   "id": "99621eac-64db-469b-b730-b7618ce1be70",
   "metadata": {},
   "source": [
    "isdisjoint() Two sets are said to be disjoint sets if they have no common elements"
   ]
  },
  {
   "cell_type": "code",
   "execution_count": 202,
   "id": "6e297ce1-6143-4394-b403-55f3b55db356",
   "metadata": {},
   "outputs": [
    {
     "name": "stdout",
     "output_type": "stream",
     "text": [
      "{4, 5, 6, 7, 8, 9, 10}\n",
      "{7, 8, 9, 12, 13, 14, 15}\n",
      "{23, 24, 25, 26, 27, 28}\n"
     ]
    }
   ],
   "source": [
    "print(t)\n",
    "print(f)\n",
    "print(k)"
   ]
  },
  {
   "cell_type": "code",
   "execution_count": 204,
   "id": "93548fa0-ce46-4bf6-b357-75e03a097b10",
   "metadata": {},
   "outputs": [
    {
     "data": {
      "text/plain": [
       "False"
      ]
     },
     "execution_count": 204,
     "metadata": {},
     "output_type": "execute_result"
    }
   ],
   "source": [
    "t.isdisjoint(f)"
   ]
  },
  {
   "cell_type": "code",
   "execution_count": 206,
   "id": "062e3a5c-c5e2-44c6-87fe-22f92155b952",
   "metadata": {},
   "outputs": [
    {
     "data": {
      "text/plain": [
       "True"
      ]
     },
     "execution_count": 206,
     "metadata": {},
     "output_type": "execute_result"
    }
   ],
   "source": [
    "k.isdisjoint(t)"
   ]
  },
  {
   "cell_type": "code",
   "execution_count": 208,
   "id": "baa57e14-da3b-4e1b-83eb-42c040dd3d54",
   "metadata": {},
   "outputs": [
    {
     "data": {
      "text/plain": [
       "7"
      ]
     },
     "execution_count": 208,
     "metadata": {},
     "output_type": "execute_result"
    }
   ],
   "source": [
    "len(t)"
   ]
  },
  {
   "cell_type": "code",
   "execution_count": 210,
   "id": "51ca5068-bff5-48c3-b9cd-31f28fa74ec6",
   "metadata": {},
   "outputs": [
    {
     "data": {
      "text/plain": [
       "10"
      ]
     },
     "execution_count": 210,
     "metadata": {},
     "output_type": "execute_result"
    }
   ],
   "source": [
    "max(t)"
   ]
  },
  {
   "cell_type": "code",
   "execution_count": 212,
   "id": "24505825-e057-417c-9859-fa6f862b111e",
   "metadata": {},
   "outputs": [
    {
     "data": {
      "text/plain": [
       "4"
      ]
     },
     "execution_count": 212,
     "metadata": {},
     "output_type": "execute_result"
    }
   ],
   "source": [
    "min(t)"
   ]
  },
  {
   "cell_type": "code",
   "execution_count": 214,
   "id": "d4e64927-19e3-4b3e-80a5-89f5cd2139fd",
   "metadata": {},
   "outputs": [
    {
     "data": {
      "text/plain": [
       "49"
      ]
     },
     "execution_count": 214,
     "metadata": {},
     "output_type": "execute_result"
    }
   ],
   "source": [
    "sum(t)"
   ]
  },
  {
   "cell_type": "code",
   "execution_count": 218,
   "id": "389218f9-d601-45e7-b0a7-326cf769bb32",
   "metadata": {},
   "outputs": [
    {
     "data": {
      "text/plain": [
       "[23, 43, 65, 546, 4464]"
      ]
     },
     "execution_count": 218,
     "metadata": {},
     "output_type": "execute_result"
    }
   ],
   "source": [
    "q={23,546,43,65,4464}\n",
    "sorted(q)"
   ]
  },
  {
   "cell_type": "code",
   "execution_count": 220,
   "id": "4428731d-dcd2-47f9-a07e-32d9c3d449fa",
   "metadata": {},
   "outputs": [
    {
     "data": {
      "text/plain": [
       "[4464, 546, 65, 43, 23]"
      ]
     },
     "execution_count": 220,
     "metadata": {},
     "output_type": "execute_result"
    }
   ],
   "source": [
    "sorted(q,reverse=True)"
   ]
  },
  {
   "cell_type": "code",
   "execution_count": null,
   "id": "ebb39170-4d4d-4285-bab5-388d7cbd60ce",
   "metadata": {},
   "outputs": [],
   "source": []
  }
 ],
 "metadata": {
  "kernelspec": {
   "display_name": "Python [conda env:base] *",
   "language": "python",
   "name": "conda-base-py"
  },
  "language_info": {
   "codemirror_mode": {
    "name": "ipython",
    "version": 3
   },
   "file_extension": ".py",
   "mimetype": "text/x-python",
   "name": "python",
   "nbconvert_exporter": "python",
   "pygments_lexer": "ipython3",
   "version": "3.12.7"
  }
 },
 "nbformat": 4,
 "nbformat_minor": 5
}
