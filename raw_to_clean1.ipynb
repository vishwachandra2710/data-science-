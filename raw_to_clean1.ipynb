{
 "cells": [
  {
   "cell_type": "code",
   "execution_count": 1,
   "id": "5ba6f6db-b3b4-459f-8ec8-71131122d423",
   "metadata": {},
   "outputs": [],
   "source": [
    "import pandas as pd\n",
    "import numpy as np"
   ]
  },
  {
   "cell_type": "code",
   "execution_count": 2,
   "id": "7890ee5d-a198-43ba-bcf2-762516b3690a",
   "metadata": {},
   "outputs": [],
   "source": [
    "rawdata=pd.read_excel(r\"C:\\Users\\vishw\\Downloads\\Address_RawData.xlsx\")"
   ]
  },
  {
   "cell_type": "code",
   "execution_count": 4,
   "id": "34e51147-52f2-45af-9ebe-22147b3222d8",
   "metadata": {},
   "outputs": [
    {
     "data": {
      "text/html": [
       "<div>\n",
       "<style scoped>\n",
       "    .dataframe tbody tr th:only-of-type {\n",
       "        vertical-align: middle;\n",
       "    }\n",
       "\n",
       "    .dataframe tbody tr th {\n",
       "        vertical-align: top;\n",
       "    }\n",
       "\n",
       "    .dataframe thead th {\n",
       "        text-align: right;\n",
       "    }\n",
       "</style>\n",
       "<table border=\"1\" class=\"dataframe\">\n",
       "  <thead>\n",
       "    <tr style=\"text-align: right;\">\n",
       "      <th></th>\n",
       "      <th>Address</th>\n",
       "      <th>Date</th>\n",
       "      <th>Name</th>\n",
       "      <th>Time</th>\n",
       "    </tr>\n",
       "  </thead>\n",
       "  <tbody>\n",
       "    <tr>\n",
       "      <th>0</th>\n",
       "      <td>27th Cross, Shree Colony, Electronic City, Ban...</td>\n",
       "      <td>3rd Mar 2001</td>\n",
       "      <td>Baxter Rasmussen Group</td>\n",
       "      <td>15:14:07</td>\n",
       "    </tr>\n",
       "    <tr>\n",
       "      <th>1</th>\n",
       "      <td>1st Street, SBI Colony, Kukatpally, Hyderabad ...</td>\n",
       "      <td>15th Jun 2002</td>\n",
       "      <td>Lozano Vega-Gentry</td>\n",
       "      <td>11:49:23</td>\n",
       "    </tr>\n",
       "    <tr>\n",
       "      <th>2</th>\n",
       "      <td>14th Main, BTM Colony, Mysore Road, Bangalore ...</td>\n",
       "      <td>28th Feb 2003</td>\n",
       "      <td>Berry Murillo-Perry</td>\n",
       "      <td>09:27:05</td>\n",
       "    </tr>\n",
       "  </tbody>\n",
       "</table>\n",
       "</div>"
      ],
      "text/plain": [
       "                                             Address           Date  \\\n",
       "0  27th Cross, Shree Colony, Electronic City, Ban...   3rd Mar 2001   \n",
       "1  1st Street, SBI Colony, Kukatpally, Hyderabad ...  15th Jun 2002   \n",
       "2  14th Main, BTM Colony, Mysore Road, Bangalore ...  28th Feb 2003   \n",
       "\n",
       "                     Name      Time  \n",
       "0  Baxter Rasmussen Group  15:14:07  \n",
       "1      Lozano Vega-Gentry  11:49:23  \n",
       "2     Berry Murillo-Perry  09:27:05  "
      ]
     },
     "execution_count": 4,
     "metadata": {},
     "output_type": "execute_result"
    }
   ],
   "source": [
    "rawdata.head(3)"
   ]
  },
  {
   "cell_type": "code",
   "execution_count": 7,
   "id": "902a63f3-94fb-405a-a462-e1a342d9fdce",
   "metadata": {},
   "outputs": [
    {
     "data": {
      "text/plain": [
       "0     27th Cross, Shree Colony, Electronic City, Ban...\n",
       "1     1st Street, SBI Colony, Kukatpally, Hyderabad ...\n",
       "2     14th Main, BTM Colony, Mysore Road, Bangalore ...\n",
       "3     3rd Avenue, Srinagar Colony, Banjara Hills, Hy...\n",
       "4     42nd Street, Patel Colony, Vadapalani, Chennai...\n",
       "5     8th Cross, Raghavendra Colony, JP Nagar, Banga...\n",
       "6     22nd Road, Sai Colony, Gachibowli, Hyderabad -...\n",
       "7     11th Street, Sarojini Colony, T Nagar, Chennai...\n",
       "8     5th Main, Vivekananda Colony, Rajajinagar, Ban...\n",
       "9     31st Avenue, Venkateshwara Colony, Kondapur, H...\n",
       "10    46th Street, Lakshmi Colony, Adyar, Chennai - ...\n",
       "11    9th Cross, Shiva Colony, Peenya, Bangalore - 5...\n",
       "12    24th Road, Gayatri Colony, Manikonda, Hyderaba...\n",
       "13    17th Street, Rama Colony, Velachery, Chennai -...\n",
       "14    6th Main, Annapurna Colony, Yelahanka, Bangalo...\n",
       "15    35th Avenue, Siva Sankara Colony, Secunderabad...\n",
       "16    28th Street, Lakshmi Narasimha Colony, Guntur,...\n",
       "17    4th Cross, Raghavendra Colony, Vijayanagar, Ba...\n",
       "18    19th Road, Srinivasa Colony, Ameerpet, Hyderab...\n",
       "19    12th Street, Thiruvalluvar Colony, Tambaram, C...\n",
       "20    8th Main, Mahalakshmi Colony, Koramangala, Ban...\n",
       "21    25th Avenue, Venkatadri Colony, Kavadiguda, Hy...\n",
       "22    43rd Street, Vivekananda Colony, Chrompet, Che...\n",
       "23    15th Cross, Rama Krishna Colony, Mathikere, Ba...\n",
       "24    32nd Road, Siva Parvathi Colony, Kompally, Hyd...\n",
       "25    6th Street, Shanthi Colony, Anna Nagar, Chenna...\n",
       "26    21st Main, Geetha Colony, Jalahalli, Bangalore...\n",
       "27    38th Avenue, Anantha Padmanabha Colony, Malkaj...\n",
       "Name: Address, dtype: object"
      ]
     },
     "execution_count": 7,
     "metadata": {},
     "output_type": "execute_result"
    }
   ],
   "source": [
    "rawdata['Address']"
   ]
  },
  {
   "cell_type": "code",
   "execution_count": 9,
   "id": "50ab136d-c7b1-4634-88d9-2ad0c228d67c",
   "metadata": {},
   "outputs": [],
   "source": [
    "newadd=rawdata['Address'].str.split(r\"[,-]\",expand=True)"
   ]
  },
  {
   "cell_type": "code",
   "execution_count": 11,
   "id": "9a306e04-d5c9-4cec-8f25-badf0703baeb",
   "metadata": {},
   "outputs": [
    {
     "data": {
      "text/html": [
       "<div>\n",
       "<style scoped>\n",
       "    .dataframe tbody tr th:only-of-type {\n",
       "        vertical-align: middle;\n",
       "    }\n",
       "\n",
       "    .dataframe tbody tr th {\n",
       "        vertical-align: top;\n",
       "    }\n",
       "\n",
       "    .dataframe thead th {\n",
       "        text-align: right;\n",
       "    }\n",
       "</style>\n",
       "<table border=\"1\" class=\"dataframe\">\n",
       "  <thead>\n",
       "    <tr style=\"text-align: right;\">\n",
       "      <th></th>\n",
       "      <th>0</th>\n",
       "      <th>1</th>\n",
       "      <th>2</th>\n",
       "      <th>3</th>\n",
       "      <th>4</th>\n",
       "    </tr>\n",
       "  </thead>\n",
       "  <tbody>\n",
       "    <tr>\n",
       "      <th>0</th>\n",
       "      <td>27th Cross</td>\n",
       "      <td>Shree Colony</td>\n",
       "      <td>Electronic City</td>\n",
       "      <td>Bangalore</td>\n",
       "      <td>560100</td>\n",
       "    </tr>\n",
       "    <tr>\n",
       "      <th>1</th>\n",
       "      <td>1st Street</td>\n",
       "      <td>SBI Colony</td>\n",
       "      <td>Kukatpally</td>\n",
       "      <td>Hyderabad</td>\n",
       "      <td>500072</td>\n",
       "    </tr>\n",
       "    <tr>\n",
       "      <th>2</th>\n",
       "      <td>14th Main</td>\n",
       "      <td>BTM Colony</td>\n",
       "      <td>Mysore Road</td>\n",
       "      <td>Bangalore</td>\n",
       "      <td>560026</td>\n",
       "    </tr>\n",
       "  </tbody>\n",
       "</table>\n",
       "</div>"
      ],
      "text/plain": [
       "            0              1                 2            3        4\n",
       "0  27th Cross   Shree Colony   Electronic City   Bangalore    560100\n",
       "1  1st Street     SBI Colony        Kukatpally   Hyderabad    500072\n",
       "2   14th Main     BTM Colony       Mysore Road   Bangalore    560026"
      ]
     },
     "execution_count": 11,
     "metadata": {},
     "output_type": "execute_result"
    }
   ],
   "source": [
    "newadd.head(3)"
   ]
  },
  {
   "cell_type": "code",
   "execution_count": 15,
   "id": "bd74f8f7-3e4d-4573-85c7-4f898d6c0214",
   "metadata": {},
   "outputs": [],
   "source": [
    "newadd.columns=['houseno','colony','area','city','pincode']"
   ]
  },
  {
   "cell_type": "code",
   "execution_count": 17,
   "id": "b6ef2e5d-cae0-49ec-84e9-d2e26e002492",
   "metadata": {},
   "outputs": [
    {
     "data": {
      "text/html": [
       "<div>\n",
       "<style scoped>\n",
       "    .dataframe tbody tr th:only-of-type {\n",
       "        vertical-align: middle;\n",
       "    }\n",
       "\n",
       "    .dataframe tbody tr th {\n",
       "        vertical-align: top;\n",
       "    }\n",
       "\n",
       "    .dataframe thead th {\n",
       "        text-align: right;\n",
       "    }\n",
       "</style>\n",
       "<table border=\"1\" class=\"dataframe\">\n",
       "  <thead>\n",
       "    <tr style=\"text-align: right;\">\n",
       "      <th></th>\n",
       "      <th>houseno</th>\n",
       "      <th>colony</th>\n",
       "      <th>area</th>\n",
       "      <th>city</th>\n",
       "      <th>pincode</th>\n",
       "    </tr>\n",
       "  </thead>\n",
       "  <tbody>\n",
       "    <tr>\n",
       "      <th>0</th>\n",
       "      <td>27th Cross</td>\n",
       "      <td>Shree Colony</td>\n",
       "      <td>Electronic City</td>\n",
       "      <td>Bangalore</td>\n",
       "      <td>560100</td>\n",
       "    </tr>\n",
       "    <tr>\n",
       "      <th>1</th>\n",
       "      <td>1st Street</td>\n",
       "      <td>SBI Colony</td>\n",
       "      <td>Kukatpally</td>\n",
       "      <td>Hyderabad</td>\n",
       "      <td>500072</td>\n",
       "    </tr>\n",
       "    <tr>\n",
       "      <th>2</th>\n",
       "      <td>14th Main</td>\n",
       "      <td>BTM Colony</td>\n",
       "      <td>Mysore Road</td>\n",
       "      <td>Bangalore</td>\n",
       "      <td>560026</td>\n",
       "    </tr>\n",
       "    <tr>\n",
       "      <th>3</th>\n",
       "      <td>3rd Avenue</td>\n",
       "      <td>Srinagar Colony</td>\n",
       "      <td>Banjara Hills</td>\n",
       "      <td>Hyderabad</td>\n",
       "      <td>500034</td>\n",
       "    </tr>\n",
       "    <tr>\n",
       "      <th>4</th>\n",
       "      <td>42nd Street</td>\n",
       "      <td>Patel Colony</td>\n",
       "      <td>Vadapalani</td>\n",
       "      <td>Chennai</td>\n",
       "      <td>600026</td>\n",
       "    </tr>\n",
       "  </tbody>\n",
       "</table>\n",
       "</div>"
      ],
      "text/plain": [
       "       houseno            colony              area         city  pincode\n",
       "0   27th Cross      Shree Colony   Electronic City   Bangalore    560100\n",
       "1   1st Street        SBI Colony        Kukatpally   Hyderabad    500072\n",
       "2    14th Main        BTM Colony       Mysore Road   Bangalore    560026\n",
       "3   3rd Avenue   Srinagar Colony     Banjara Hills   Hyderabad    500034\n",
       "4  42nd Street      Patel Colony        Vadapalani     Chennai    600026"
      ]
     },
     "execution_count": 17,
     "metadata": {},
     "output_type": "execute_result"
    }
   ],
   "source": [
    "newadd.head()"
   ]
  },
  {
   "cell_type": "code",
   "execution_count": 19,
   "id": "3c1c9b39-fb73-43f7-9e5a-c0ebf4c8e6c0",
   "metadata": {},
   "outputs": [
    {
     "data": {
      "text/plain": [
       "0      3rd Mar 2001\n",
       "1     15th Jun 2002\n",
       "2     28th Feb 2003\n",
       "3     12th Oct 2004\n",
       "4     25th Dec 2005\n",
       "5     17th Apr 2006\n",
       "6     29th Jan 2007\n",
       "7      8th Aug 2008\n",
       "8     22nd Nov 2009\n",
       "9      5th Sep 2010\n",
       "10    10th May 2011\n",
       "11    31st Jul 2012\n",
       "12    24th Mar 2013\n",
       "13     2nd Feb 2014\n",
       "14    19th Oct 2015\n",
       "15    14th Jun 2016\n",
       "16     7th Jan 2017\n",
       "17    26th Apr 2001\n",
       "18     9th Mar 2005\n",
       "19     1st Jul 2009\n",
       "20    18th Sep 2012\n",
       "21    11th Dec 2013\n",
       "22    28th May 2014\n",
       "23     4th Jan 2015\n",
       "24    20th Feb 2016\n",
       "25    15th Aug 2010\n",
       "26     8th Nov 2011\n",
       "27    31st Dec 2012\n",
       "Name: Date, dtype: object"
      ]
     },
     "execution_count": 19,
     "metadata": {},
     "output_type": "execute_result"
    }
   ],
   "source": [
    "rawdata['Date']"
   ]
  },
  {
   "cell_type": "code",
   "execution_count": 29,
   "id": "29cfd53d-b6d3-46de-baec-7fa15969bea1",
   "metadata": {},
   "outputs": [],
   "source": [
    "newdd=rawdata['Date'].str.split(r\" \",expand=True)"
   ]
  },
  {
   "cell_type": "code",
   "execution_count": 31,
   "id": "e29b1dc0-891d-442f-bfaa-b40ca3bc105d",
   "metadata": {},
   "outputs": [
    {
     "data": {
      "text/html": [
       "<div>\n",
       "<style scoped>\n",
       "    .dataframe tbody tr th:only-of-type {\n",
       "        vertical-align: middle;\n",
       "    }\n",
       "\n",
       "    .dataframe tbody tr th {\n",
       "        vertical-align: top;\n",
       "    }\n",
       "\n",
       "    .dataframe thead th {\n",
       "        text-align: right;\n",
       "    }\n",
       "</style>\n",
       "<table border=\"1\" class=\"dataframe\">\n",
       "  <thead>\n",
       "    <tr style=\"text-align: right;\">\n",
       "      <th></th>\n",
       "      <th>0</th>\n",
       "      <th>1</th>\n",
       "      <th>2</th>\n",
       "    </tr>\n",
       "  </thead>\n",
       "  <tbody>\n",
       "    <tr>\n",
       "      <th>0</th>\n",
       "      <td>3rd</td>\n",
       "      <td>Mar</td>\n",
       "      <td>2001</td>\n",
       "    </tr>\n",
       "  </tbody>\n",
       "</table>\n",
       "</div>"
      ],
      "text/plain": [
       "     0    1     2\n",
       "0  3rd  Mar  2001"
      ]
     },
     "execution_count": 31,
     "metadata": {},
     "output_type": "execute_result"
    }
   ],
   "source": [
    "newdd.head(1)"
   ]
  },
  {
   "cell_type": "code",
   "execution_count": 33,
   "id": "3d9ddab9-16cd-446c-aa94-24d5e0d09543",
   "metadata": {},
   "outputs": [],
   "source": [
    "newdd.columns=['day','month','year']"
   ]
  },
  {
   "cell_type": "code",
   "execution_count": 35,
   "id": "5c8b99bf-4324-42cf-9eee-509ea42cce22",
   "metadata": {},
   "outputs": [
    {
     "data": {
      "text/html": [
       "<div>\n",
       "<style scoped>\n",
       "    .dataframe tbody tr th:only-of-type {\n",
       "        vertical-align: middle;\n",
       "    }\n",
       "\n",
       "    .dataframe tbody tr th {\n",
       "        vertical-align: top;\n",
       "    }\n",
       "\n",
       "    .dataframe thead th {\n",
       "        text-align: right;\n",
       "    }\n",
       "</style>\n",
       "<table border=\"1\" class=\"dataframe\">\n",
       "  <thead>\n",
       "    <tr style=\"text-align: right;\">\n",
       "      <th></th>\n",
       "      <th>day</th>\n",
       "      <th>month</th>\n",
       "      <th>year</th>\n",
       "    </tr>\n",
       "  </thead>\n",
       "  <tbody>\n",
       "    <tr>\n",
       "      <th>0</th>\n",
       "      <td>3rd</td>\n",
       "      <td>Mar</td>\n",
       "      <td>2001</td>\n",
       "    </tr>\n",
       "    <tr>\n",
       "      <th>1</th>\n",
       "      <td>15th</td>\n",
       "      <td>Jun</td>\n",
       "      <td>2002</td>\n",
       "    </tr>\n",
       "  </tbody>\n",
       "</table>\n",
       "</div>"
      ],
      "text/plain": [
       "    day month  year\n",
       "0   3rd   Mar  2001\n",
       "1  15th   Jun  2002"
      ]
     },
     "execution_count": 35,
     "metadata": {},
     "output_type": "execute_result"
    }
   ],
   "source": [
    "newdd.head(2)"
   ]
  },
  {
   "cell_type": "code",
   "execution_count": 58,
   "id": "de69c9fe-c7ed-41dd-9322-9414358bab65",
   "metadata": {},
   "outputs": [],
   "source": [
    "newtime=rawdata['Time'].astype(str).str.split(r':',expand=True)"
   ]
  },
  {
   "cell_type": "code",
   "execution_count": 60,
   "id": "348b33ce-9511-464b-8fa0-ad779b8d43d1",
   "metadata": {},
   "outputs": [],
   "source": [
    "newtime.columns=['hours','minutes','times']"
   ]
  },
  {
   "cell_type": "code",
   "execution_count": 62,
   "id": "f6b3b28f-eaf2-40cf-9b44-bc9159340ff1",
   "metadata": {},
   "outputs": [
    {
     "data": {
      "text/html": [
       "<div>\n",
       "<style scoped>\n",
       "    .dataframe tbody tr th:only-of-type {\n",
       "        vertical-align: middle;\n",
       "    }\n",
       "\n",
       "    .dataframe tbody tr th {\n",
       "        vertical-align: top;\n",
       "    }\n",
       "\n",
       "    .dataframe thead th {\n",
       "        text-align: right;\n",
       "    }\n",
       "</style>\n",
       "<table border=\"1\" class=\"dataframe\">\n",
       "  <thead>\n",
       "    <tr style=\"text-align: right;\">\n",
       "      <th></th>\n",
       "      <th>hours</th>\n",
       "      <th>minutes</th>\n",
       "      <th>times</th>\n",
       "    </tr>\n",
       "  </thead>\n",
       "  <tbody>\n",
       "    <tr>\n",
       "      <th>0</th>\n",
       "      <td>15</td>\n",
       "      <td>14</td>\n",
       "      <td>07</td>\n",
       "    </tr>\n",
       "    <tr>\n",
       "      <th>1</th>\n",
       "      <td>11</td>\n",
       "      <td>49</td>\n",
       "      <td>23</td>\n",
       "    </tr>\n",
       "  </tbody>\n",
       "</table>\n",
       "</div>"
      ],
      "text/plain": [
       "  hours minutes times\n",
       "0    15      14    07\n",
       "1    11      49    23"
      ]
     },
     "execution_count": 62,
     "metadata": {},
     "output_type": "execute_result"
    }
   ],
   "source": [
    "newtime.head(2)"
   ]
  },
  {
   "cell_type": "code",
   "execution_count": 79,
   "id": "00a8f708-c98a-4107-8ceb-087348cc97fc",
   "metadata": {},
   "outputs": [],
   "source": []
  },
  {
   "cell_type": "code",
   "execution_count": 91,
   "id": "7e24bca2-ce12-41fe-a216-a2acc70f31dd",
   "metadata": {},
   "outputs": [],
   "source": [
    "cleandata=pd.concat([newadd,newdd,newtime],axis=1)"
   ]
  },
  {
   "cell_type": "code",
   "execution_count": 96,
   "id": "a44c255c-1515-46ac-b4dd-92e898e88368",
   "metadata": {},
   "outputs": [
    {
     "data": {
      "text/html": [
       "<div>\n",
       "<style scoped>\n",
       "    .dataframe tbody tr th:only-of-type {\n",
       "        vertical-align: middle;\n",
       "    }\n",
       "\n",
       "    .dataframe tbody tr th {\n",
       "        vertical-align: top;\n",
       "    }\n",
       "\n",
       "    .dataframe thead th {\n",
       "        text-align: right;\n",
       "    }\n",
       "</style>\n",
       "<table border=\"1\" class=\"dataframe\">\n",
       "  <thead>\n",
       "    <tr style=\"text-align: right;\">\n",
       "      <th></th>\n",
       "      <th>houseno</th>\n",
       "      <th>colony</th>\n",
       "      <th>area</th>\n",
       "      <th>city</th>\n",
       "      <th>pincode</th>\n",
       "      <th>day</th>\n",
       "      <th>month</th>\n",
       "      <th>year</th>\n",
       "      <th>hours</th>\n",
       "      <th>minutes</th>\n",
       "      <th>times</th>\n",
       "    </tr>\n",
       "  </thead>\n",
       "  <tbody>\n",
       "    <tr>\n",
       "      <th>0</th>\n",
       "      <td>27th Cross</td>\n",
       "      <td>Shree Colony</td>\n",
       "      <td>Electronic City</td>\n",
       "      <td>Bangalore</td>\n",
       "      <td>560100</td>\n",
       "      <td>3rd</td>\n",
       "      <td>Mar</td>\n",
       "      <td>2001</td>\n",
       "      <td>15</td>\n",
       "      <td>14</td>\n",
       "      <td>07</td>\n",
       "    </tr>\n",
       "    <tr>\n",
       "      <th>1</th>\n",
       "      <td>1st Street</td>\n",
       "      <td>SBI Colony</td>\n",
       "      <td>Kukatpally</td>\n",
       "      <td>Hyderabad</td>\n",
       "      <td>500072</td>\n",
       "      <td>15th</td>\n",
       "      <td>Jun</td>\n",
       "      <td>2002</td>\n",
       "      <td>11</td>\n",
       "      <td>49</td>\n",
       "      <td>23</td>\n",
       "    </tr>\n",
       "    <tr>\n",
       "      <th>2</th>\n",
       "      <td>14th Main</td>\n",
       "      <td>BTM Colony</td>\n",
       "      <td>Mysore Road</td>\n",
       "      <td>Bangalore</td>\n",
       "      <td>560026</td>\n",
       "      <td>28th</td>\n",
       "      <td>Feb</td>\n",
       "      <td>2003</td>\n",
       "      <td>09</td>\n",
       "      <td>27</td>\n",
       "      <td>05</td>\n",
       "    </tr>\n",
       "  </tbody>\n",
       "</table>\n",
       "</div>"
      ],
      "text/plain": [
       "      houseno         colony              area         city  pincode   day  \\\n",
       "0  27th Cross   Shree Colony   Electronic City   Bangalore    560100   3rd   \n",
       "1  1st Street     SBI Colony        Kukatpally   Hyderabad    500072  15th   \n",
       "2   14th Main     BTM Colony       Mysore Road   Bangalore    560026  28th   \n",
       "\n",
       "  month  year hours minutes times  \n",
       "0   Mar  2001    15      14    07  \n",
       "1   Jun  2002    11      49    23  \n",
       "2   Feb  2003    09      27    05  "
      ]
     },
     "execution_count": 96,
     "metadata": {},
     "output_type": "execute_result"
    }
   ],
   "source": [
    "cleandata.head(3)"
   ]
  },
  {
   "cell_type": "code",
   "execution_count": null,
   "id": "4f543f95-3a6e-4944-ab65-d916c5f710c7",
   "metadata": {},
   "outputs": [],
   "source": []
  },
  {
   "cell_type": "code",
   "execution_count": null,
   "id": "249d8d47-04ca-4cf8-87ce-ea5c85a083a7",
   "metadata": {},
   "outputs": [],
   "source": []
  }
 ],
 "metadata": {
  "kernelspec": {
   "display_name": "Python [conda env:base] *",
   "language": "python",
   "name": "conda-base-py"
  },
  "language_info": {
   "codemirror_mode": {
    "name": "ipython",
    "version": 3
   },
   "file_extension": ".py",
   "mimetype": "text/x-python",
   "name": "python",
   "nbconvert_exporter": "python",
   "pygments_lexer": "ipython3",
   "version": "3.12.7"
  }
 },
 "nbformat": 4,
 "nbformat_minor": 5
}
