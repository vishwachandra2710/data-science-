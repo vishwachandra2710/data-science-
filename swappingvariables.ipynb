{
 "cells": [
  {
   "cell_type": "markdown",
   "id": "299fe040-a5cb-4ba6-a3d3-653d03a0e582",
   "metadata": {},
   "source": [
    "SWAPPING OF VARIABLES\n",
    "..........................\n",
    "1.USING 3RD VARIABLE(TEMP)\n",
    "2.USING OPERATORS(+,-)\n",
    "3.USING BINARY NUMBER SYSTEM\n",
    "4.USING EXCLUSIVE OR\n",
    "5. BY DIRECTLY USING X,Y=Y,X"
   ]
  },
  {
   "cell_type": "code",
   "execution_count": 6,
   "id": "ca6bf0f2-06f5-4d71-911f-3db5326e36d0",
   "metadata": {},
   "outputs": [
    {
     "name": "stdout",
     "output_type": "stream",
     "text": [
      "24\n",
      "23\n"
     ]
    }
   ],
   "source": [
    "#using temporary variable\n",
    "a=23\n",
    "b=24\n",
    "temp=a\n",
    "a=b\n",
    "b=temp\n",
    "print(a)\n",
    "print(b)"
   ]
  },
  {
   "cell_type": "code",
   "execution_count": 12,
   "id": "d203a0c4-e7af-481b-ab53-e3401f46eb65",
   "metadata": {},
   "outputs": [
    {
     "name": "stdout",
     "output_type": "stream",
     "text": [
      "the value of a is: 20\n",
      "the value of b is : 15\n"
     ]
    }
   ],
   "source": [
    "#using operators(+,-)\n",
    "a=15\n",
    "b=20\n",
    "a=a+b #35\n",
    "b=a-b #15\n",
    "a=a-b\n",
    "print(\"the value of a is:\",a)\n",
    "print(\"the value of b is :\",b)"
   ]
  },
  {
   "cell_type": "code",
   "execution_count": 14,
   "id": "afbd847c-2cfc-4c94-92c3-16fc768cedfc",
   "metadata": {},
   "outputs": [
    {
     "name": "stdout",
     "output_type": "stream",
     "text": [
      "the value of a is: 50\n",
      "the value of b is : 30\n"
     ]
    }
   ],
   "source": [
    "#directly swapping\n",
    "a=30\n",
    "b=50\n",
    "a,b=b,a\n",
    "print(\"the value of a is:\",a)\n",
    "print(\"the value of b is :\",b)\n"
   ]
  },
  {
   "cell_type": "code",
   "execution_count": 20,
   "id": "35d15db7-afbc-4b21-b8a0-9a4ae63a2a8b",
   "metadata": {},
   "outputs": [
    {
     "name": "stdout",
     "output_type": "stream",
     "text": [
      "0b1010\n",
      "0b10100\n",
      "value of a 20\n",
      "value of b 10\n"
     ]
    }
   ],
   "source": [
    "#using binary number system\n",
    "a=10\n",
    "b=20\n",
    "print(bin(10))\n",
    "print(bin(20))\n",
    "print(\"value of a\",int(0b10100))\n",
    "print(\"value of b\",int(0b1010))"
   ]
  },
  {
   "cell_type": "code",
   "execution_count": 26,
   "id": "eb85b618-2dd1-4cbf-a869-8714c2d6bc60",
   "metadata": {},
   "outputs": [
    {
     "name": "stdout",
     "output_type": "stream",
     "text": [
      "the value of a is: 50\n",
      "the value of b is : 25\n"
     ]
    }
   ],
   "source": [
    "#using exclusive or\n",
    "a=25\n",
    "b=50\n",
    "a=a^b\n",
    "b=a^b\n",
    "a=a^b\n",
    "print(\"the value of a is:\",a)\n",
    "print(\"the value of b is :\",b)\n"
   ]
  },
  {
   "cell_type": "code",
   "execution_count": null,
   "id": "6bab554a-bd47-49df-ac18-20cf5c1f3a98",
   "metadata": {},
   "outputs": [],
   "source": []
  },
  {
   "cell_type": "code",
   "execution_count": null,
   "id": "1fc7a1dc-2013-41fb-b064-1f4d4e493050",
   "metadata": {},
   "outputs": [],
   "source": []
  }
 ],
 "metadata": {
  "kernelspec": {
   "display_name": "Python [conda env:base] *",
   "language": "python",
   "name": "conda-base-py"
  },
  "language_info": {
   "codemirror_mode": {
    "name": "ipython",
    "version": 3
   },
   "file_extension": ".py",
   "mimetype": "text/x-python",
   "name": "python",
   "nbconvert_exporter": "python",
   "pygments_lexer": "ipython3",
   "version": "3.12.7"
  }
 },
 "nbformat": 4,
 "nbformat_minor": 5
}
