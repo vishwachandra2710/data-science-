{
 "cells": [
  {
   "cell_type": "markdown",
   "id": "ebf19b06-f1b6-41a6-929c-d25b78d70d5e",
   "metadata": {},
   "source": [
    "NUMPY\n"
   ]
  },
  {
   "cell_type": "code",
   "execution_count": 6,
   "id": "0f4d637f-7245-4427-915f-5b39394a7738",
   "metadata": {},
   "outputs": [
    {
     "data": {
      "text/plain": [
       "'1.26.4'"
      ]
     },
     "execution_count": 6,
     "metadata": {},
     "output_type": "execute_result"
    }
   ],
   "source": [
    "import numpy as np\n",
    "np.__version__"
   ]
  },
  {
   "cell_type": "code",
   "execution_count": 7,
   "id": "10001649-5c36-4ee0-8f2b-661ecb4ee5d0",
   "metadata": {},
   "outputs": [
    {
     "name": "stdout",
     "output_type": "stream",
     "text": [
      "[1, 2, 3, 4, 5, 6]\n"
     ]
    }
   ],
   "source": [
    "a=[1,2,3,4,5,6]\n",
    "print(a)"
   ]
  },
  {
   "cell_type": "code",
   "execution_count": 8,
   "id": "7c70aebd-f26f-4df8-ae44-c59197c16feb",
   "metadata": {},
   "outputs": [
    {
     "data": {
      "text/plain": [
       "list"
      ]
     },
     "execution_count": 8,
     "metadata": {},
     "output_type": "execute_result"
    }
   ],
   "source": [
    "type(a)"
   ]
  },
  {
   "cell_type": "code",
   "execution_count": 9,
   "id": "00051284-bd21-4bed-addf-e27e9bb62ad5",
   "metadata": {},
   "outputs": [
    {
     "name": "stdout",
     "output_type": "stream",
     "text": [
      "[1 2 3 4 5 6]\n"
     ]
    }
   ],
   "source": [
    "arr=np.array(a)\n",
    "print(arr)"
   ]
  },
  {
   "cell_type": "code",
   "execution_count": 10,
   "id": "a40b06be-4017-4d7a-8edd-b6dc3eed8db7",
   "metadata": {},
   "outputs": [
    {
     "data": {
      "text/plain": [
       "numpy.ndarray"
      ]
     },
     "execution_count": 10,
     "metadata": {},
     "output_type": "execute_result"
    }
   ],
   "source": [
    "type(arr)"
   ]
  },
  {
   "cell_type": "markdown",
   "id": "8b30fa2c-d87b-4904-a38b-e0b29984ce1d",
   "metadata": {},
   "source": [
    "arange()---- takes maximum of 3 arguments,if single arguument is given it is second argument that follows (n-1)  and 3rd parameter is skip count.1st argument should be less than second argument"
   ]
  },
  {
   "cell_type": "code",
   "execution_count": 12,
   "id": "1344cf0a-a85f-42e4-8ff8-108615a74977",
   "metadata": {},
   "outputs": [
    {
     "name": "stdout",
     "output_type": "stream",
     "text": [
      "[0 1 2 3 4 5 6 7 8 9]\n"
     ]
    }
   ],
   "source": [
    "b=np.arange(10)\n",
    "print(b)"
   ]
  },
  {
   "cell_type": "code",
   "execution_count": 13,
   "id": "3c9dbad7-48cc-4178-83b4-eb2ce5a89587",
   "metadata": {},
   "outputs": [
    {
     "name": "stdout",
     "output_type": "stream",
     "text": [
      "[0. 1. 2. 3.]\n"
     ]
    }
   ],
   "source": [
    "b=np.arange(3.3)\n",
    "print(b)"
   ]
  },
  {
   "cell_type": "code",
   "execution_count": 14,
   "id": "8624a13f-f5e3-4d09-91f5-bf72dca8457f",
   "metadata": {},
   "outputs": [
    {
     "data": {
      "text/plain": [
       "array([1, 2, 3, 4, 5, 6, 7, 8, 9])"
      ]
     },
     "execution_count": 14,
     "metadata": {},
     "output_type": "execute_result"
    }
   ],
   "source": [
    "b=np.arange(1,10)\n",
    "b"
   ]
  },
  {
   "cell_type": "code",
   "execution_count": 15,
   "id": "ae80fcf0-b795-43a8-b185-643531dfce52",
   "metadata": {},
   "outputs": [
    {
     "data": {
      "text/plain": [
       "array([  0,   5,  10,  15,  20,  25,  30,  35,  40,  45,  50,  55,  60,\n",
       "        65,  70,  75,  80,  85,  90,  95, 100])"
      ]
     },
     "execution_count": 15,
     "metadata": {},
     "output_type": "execute_result"
    }
   ],
   "source": [
    "b=np.arange(0,101,5)\n",
    "b"
   ]
  },
  {
   "cell_type": "code",
   "execution_count": 16,
   "id": "d13d91ee-e295-4a5f-9336-317907e87826",
   "metadata": {},
   "outputs": [
    {
     "data": {
      "text/plain": [
       "array([-23, -22, -21, -20, -19, -18, -17, -16, -15, -14, -13, -12, -11,\n",
       "       -10,  -9,  -8,  -7,  -6,  -5,  -4,  -3,  -2,  -1,   0,   1,   2,\n",
       "         3,   4,   5,   6,   7,   8,   9,  10,  11,  12,  13,  14,  15,\n",
       "        16,  17,  18,  19,  20,  21,  22])"
      ]
     },
     "execution_count": 16,
     "metadata": {},
     "output_type": "execute_result"
    }
   ],
   "source": [
    "np.arange(-23,23)"
   ]
  },
  {
   "cell_type": "markdown",
   "id": "c8652b7d-befe-4632-b130-c471fdb849df",
   "metadata": {},
   "source": [
    "zeros() =to create matrix with 0 by default it takes float data type tto use it in int data type use dtype=int\n",
    "zeros(5) used to created 1d matrix\n",
    "zerox(x,y) used  to created xy matrix where x is rows and y is columns"
   ]
  },
  {
   "cell_type": "code",
   "execution_count": 61,
   "id": "b129e7c9-5ca8-4f57-9871-1fea496e08f9",
   "metadata": {},
   "outputs": [
    {
     "data": {
      "text/plain": [
       "array([0., 0., 0., 0., 0.])"
      ]
     },
     "execution_count": 61,
     "metadata": {},
     "output_type": "execute_result"
    }
   ],
   "source": [
    "k=np.zeros(5)\n",
    "k"
   ]
  },
  {
   "cell_type": "code",
   "execution_count": 63,
   "id": "15f51d4b-b676-4800-b5d5-435416202e28",
   "metadata": {},
   "outputs": [
    {
     "data": {
      "text/plain": [
       "array([0, 0, 0, 0, 0, 0])"
      ]
     },
     "execution_count": 63,
     "metadata": {},
     "output_type": "execute_result"
    }
   ],
   "source": [
    "k=np.zeros(6,dtype=int)\n",
    "k"
   ]
  },
  {
   "cell_type": "code",
   "execution_count": 65,
   "id": "d811333d-9373-4d4c-9234-a9e3aee5b781",
   "metadata": {},
   "outputs": [
    {
     "data": {
      "text/plain": [
       "array([[0., 0., 0., 0., 0.],\n",
       "       [0., 0., 0., 0., 0.],\n",
       "       [0., 0., 0., 0., 0.]])"
      ]
     },
     "execution_count": 65,
     "metadata": {},
     "output_type": "execute_result"
    }
   ],
   "source": [
    "k=np.zeros((3,5))\n",
    "k"
   ]
  },
  {
   "cell_type": "code",
   "execution_count": 67,
   "id": "8bca6bdd-8069-4a43-bc68-6fb1646bc516",
   "metadata": {},
   "outputs": [
    {
     "data": {
      "text/plain": [
       "array([[0, 0, 0],\n",
       "       [0, 0, 0]])"
      ]
     },
     "execution_count": 67,
     "metadata": {},
     "output_type": "execute_result"
    }
   ],
   "source": [
    "k=np.zeros((2,3),dtype=int)\n",
    "k"
   ]
  },
  {
   "cell_type": "markdown",
   "id": "0dd74290-f050-4a16-9c39-87dee7a84100",
   "metadata": {},
   "source": [
    "ones() similar to zeros() but returns ones"
   ]
  },
  {
   "cell_type": "code",
   "execution_count": 70,
   "id": "b2257311-7d87-478a-8fe3-9a96232314f7",
   "metadata": {},
   "outputs": [
    {
     "data": {
      "text/plain": [
       "array([1., 1., 1.])"
      ]
     },
     "execution_count": 70,
     "metadata": {},
     "output_type": "execute_result"
    }
   ],
   "source": [
    "r=np.ones(3)\n",
    "r"
   ]
  },
  {
   "cell_type": "code",
   "execution_count": 72,
   "id": "bd799492-e9ac-4f73-bc6c-c6e231590ac7",
   "metadata": {},
   "outputs": [],
   "source": [
    "r=np.ones(3,dtype=int)"
   ]
  },
  {
   "cell_type": "code",
   "execution_count": 74,
   "id": "709af23c-9c1a-4a0a-b225-61c3d78f4927",
   "metadata": {},
   "outputs": [
    {
     "data": {
      "text/plain": [
       "array([1, 1, 1])"
      ]
     },
     "execution_count": 74,
     "metadata": {},
     "output_type": "execute_result"
    }
   ],
   "source": [
    "r"
   ]
  },
  {
   "cell_type": "code",
   "execution_count": 76,
   "id": "bfbb600d-ba61-47a2-a7c5-2769a2ed950d",
   "metadata": {},
   "outputs": [
    {
     "data": {
      "text/plain": [
       "array([[1, 1, 1, 1, 1, 1],\n",
       "       [1, 1, 1, 1, 1, 1]])"
      ]
     },
     "execution_count": 76,
     "metadata": {},
     "output_type": "execute_result"
    }
   ],
   "source": [
    "r=np.ones((2,6),dtype=int)\n",
    "r"
   ]
  },
  {
   "cell_type": "markdown",
   "id": "f90a80ed-e4aa-47ce-9ce0-170df59b4c46",
   "metadata": {},
   "source": [
    "empty()====Or even an empty array! The function empty creates an array whose initial content is random and depends\n",
    "on the state of the memory. The reason to use empty over zeros (or something similar) is speed - just make\n",
    "sure to fill every element afterwards!"
   ]
  },
  {
   "cell_type": "code",
   "execution_count": 79,
   "id": "71cd61f9-894e-44ae-ab94-39262ca77500",
   "metadata": {},
   "outputs": [
    {
     "data": {
      "text/plain": [
       "array([[         0,          0],\n",
       "       [         0, 1072693248],\n",
       "       [         0, 1073741824],\n",
       "       [         0, 1074266112]])"
      ]
     },
     "execution_count": 79,
     "metadata": {},
     "output_type": "execute_result"
    }
   ],
   "source": [
    "np.empty((4,2),dtype=int)"
   ]
  },
  {
   "cell_type": "code",
   "execution_count": 81,
   "id": "826e2b30-192a-494b-8d22-1c100962ed40",
   "metadata": {},
   "outputs": [
    {
     "data": {
      "text/plain": [
       "array([         0, 1072693248])"
      ]
     },
     "execution_count": 81,
     "metadata": {},
     "output_type": "execute_result"
    }
   ],
   "source": [
    "np.empty(2,dtype=int)\n"
   ]
  },
  {
   "cell_type": "markdown",
   "id": "83b0fa53-4571-4f93-adf0-9f7a6db3f11b",
   "metadata": {},
   "source": [
    "linspace()=============(to print the numbers between given range on for array)"
   ]
  },
  {
   "cell_type": "code",
   "execution_count": 84,
   "id": "a7b892ae-2072-44a8-a78c-94f2e5e48c27",
   "metadata": {},
   "outputs": [
    {
     "data": {
      "text/plain": [
       "array([1., 3., 5.])"
      ]
     },
     "execution_count": 84,
     "metadata": {},
     "output_type": "execute_result"
    }
   ],
   "source": [
    "np.linspace(1,5,3)"
   ]
  },
  {
   "cell_type": "code",
   "execution_count": 86,
   "id": "292a7e81-99ea-4ca8-9d32-ff3704cbd687",
   "metadata": {},
   "outputs": [
    {
     "data": {
      "text/plain": [
       "array([2.  , 3.75, 5.5 , 7.25, 9.  ])"
      ]
     },
     "execution_count": 86,
     "metadata": {},
     "output_type": "execute_result"
    }
   ],
   "source": [
    "np.linspace(2,9,5)"
   ]
  },
  {
   "cell_type": "markdown",
   "id": "81f11d4d-9c80-496c-8126-e0b7151da6dd",
   "metadata": {},
   "source": [
    "identity matrix()"
   ]
  },
  {
   "cell_type": "code",
   "execution_count": 89,
   "id": "7143d30f-962e-4e79-9882-a666dc6852e6",
   "metadata": {},
   "outputs": [
    {
     "data": {
      "text/plain": [
       "array([[1, 0, 0],\n",
       "       [0, 1, 0],\n",
       "       [0, 0, 1]])"
      ]
     },
     "execution_count": 89,
     "metadata": {},
     "output_type": "execute_result"
    }
   ],
   "source": [
    "w=np.eye(3,dtype=int)\n",
    "w"
   ]
  },
  {
   "cell_type": "markdown",
   "id": "cf47a0d8-5678-4996-b0ad-5edcd4b77e86",
   "metadata": {},
   "source": [
    "random()"
   ]
  },
  {
   "cell_type": "code",
   "execution_count": 92,
   "id": "983b2277-731f-4346-8049-49fa0f95a53a",
   "metadata": {},
   "outputs": [
    {
     "data": {
      "text/plain": [
       "array([[0.71022791, 0.40360863, 0.56644537],\n",
       "       [0.27357187, 0.52847661, 0.64223017]])"
      ]
     },
     "execution_count": 92,
     "metadata": {},
     "output_type": "execute_result"
    }
   ],
   "source": [
    "q=np.random.rand(2,3)\n",
    "q"
   ]
  },
  {
   "cell_type": "code",
   "execution_count": 94,
   "id": "5b0e48d9-6434-4069-8a56-f280e5433e2f",
   "metadata": {},
   "outputs": [
    {
     "data": {
      "text/plain": [
       "array([0.78231626, 0.50270811, 0.46093738, 0.00861749, 0.57130224])"
      ]
     },
     "execution_count": 94,
     "metadata": {},
     "output_type": "execute_result"
    }
   ],
   "source": [
    "q=np.random.rand(5)\n",
    "q"
   ]
  },
  {
   "cell_type": "code",
   "execution_count": 96,
   "id": "c4f40359-d24d-42d4-b0e7-8d4e4ce0eced",
   "metadata": {},
   "outputs": [
    {
     "data": {
      "text/plain": [
       "12"
      ]
     },
     "execution_count": 96,
     "metadata": {},
     "output_type": "execute_result"
    }
   ],
   "source": [
    "e=np.random.randint(10,20)\n",
    "e"
   ]
  },
  {
   "cell_type": "code",
   "execution_count": 98,
   "id": "65b0375e-18fd-4c11-8d02-1d622d898518",
   "metadata": {},
   "outputs": [
    {
     "data": {
      "text/plain": [
       "array([6, 7, 6, 1])"
      ]
     },
     "execution_count": 98,
     "metadata": {},
     "output_type": "execute_result"
    }
   ],
   "source": [
    "t=np.random.randint(0,9,4)\n",
    "t"
   ]
  },
  {
   "cell_type": "code",
   "execution_count": 100,
   "id": "32d84855-4e5c-431d-a221-f87b35058ebf",
   "metadata": {},
   "outputs": [
    {
     "data": {
      "text/plain": [
       "array([[88, 59, 50],\n",
       "       [45, 69, 19],\n",
       "       [34, 31, 54]])"
      ]
     },
     "execution_count": 100,
     "metadata": {},
     "output_type": "execute_result"
    }
   ],
   "source": [
    "r=np.random.randint(10,90,(3,3))\n",
    "r"
   ]
  },
  {
   "cell_type": "markdown",
   "id": "616ab3af-3a22-4989-a798-52df23d423b0",
   "metadata": {},
   "source": [
    "reshape() size of matrix"
   ]
  },
  {
   "cell_type": "code",
   "execution_count": 103,
   "id": "388ceca6-9317-40d0-9c99-a906e80623ac",
   "metadata": {},
   "outputs": [
    {
     "data": {
      "text/plain": [
       "array([[20, 21, 22],\n",
       "       [23, 24, 25],\n",
       "       [26, 27, 28],\n",
       "       [29, 30, 31],\n",
       "       [32, 33, 34],\n",
       "       [35, 36, 37],\n",
       "       [38, 39, 40],\n",
       "       [41, 42, 43],\n",
       "       [44, 45, 46],\n",
       "       [47, 48, 49]])"
      ]
     },
     "execution_count": 103,
     "metadata": {},
     "output_type": "execute_result"
    }
   ],
   "source": [
    "e=np.arange(20,50).reshape(10,3)\n",
    "e"
   ]
  },
  {
   "cell_type": "code",
   "execution_count": 105,
   "id": "683fc115-ecde-4799-9af2-d1833d9c07dd",
   "metadata": {},
   "outputs": [
    {
     "data": {
      "text/plain": [
       "array([[15, 18],\n",
       "       [19, 16],\n",
       "       [12, 17],\n",
       "       [15, 15],\n",
       "       [12, 11]])"
      ]
     },
     "execution_count": 105,
     "metadata": {},
     "output_type": "execute_result"
    }
   ],
   "source": [
    "f=np.random.randint(10,20,(5,2))\n",
    "f"
   ]
  },
  {
   "cell_type": "code",
   "execution_count": 107,
   "id": "752b5cd3-630a-42e3-9ec2-bc4d3a4ad0b3",
   "metadata": {},
   "outputs": [
    {
     "data": {
      "text/plain": [
       "array([[0, 1],\n",
       "       [2, 3],\n",
       "       [4, 5],\n",
       "       [6, 7],\n",
       "       [8, 9]])"
      ]
     },
     "execution_count": 107,
     "metadata": {},
     "output_type": "execute_result"
    }
   ],
   "source": [
    "q=np.arange(10).reshape(5,2)\n",
    "q"
   ]
  },
  {
   "cell_type": "code",
   "execution_count": 109,
   "id": "febe4881-8e98-4429-afbd-cc99c2d59cbe",
   "metadata": {},
   "outputs": [
    {
     "data": {
      "text/plain": [
       "array([[13, 18, 38, 37, 49, 16, 35, 49, 32, 15],\n",
       "       [14, 32, 41, 12, 14, 48, 14, 39, 22, 36],\n",
       "       [29, 10, 38, 18, 18, 33, 14, 46, 33, 15],\n",
       "       [22, 36, 39, 40, 15, 10, 37, 17, 17, 11],\n",
       "       [42, 19, 19, 49, 25, 15, 32, 36, 42, 40],\n",
       "       [23, 11, 48, 12, 35, 10, 41, 19, 47, 22],\n",
       "       [18, 35, 14, 18, 30, 17, 48, 39, 49, 24],\n",
       "       [42, 21, 37, 10, 17, 34, 19, 40, 14, 34],\n",
       "       [18, 14, 39, 43, 34, 17, 22, 31, 28, 32],\n",
       "       [27, 17, 34, 10, 16, 22, 17, 21, 16, 25]])"
      ]
     },
     "execution_count": 109,
     "metadata": {},
     "output_type": "execute_result"
    }
   ],
   "source": [
    "e=np.random.randint(10,50,(10,10))\n",
    "e"
   ]
  },
  {
   "cell_type": "code",
   "execution_count": 111,
   "id": "8170ccbb-f5ce-4e2e-a5f5-c218357b8ea8",
   "metadata": {},
   "outputs": [
    {
     "data": {
      "text/plain": [
       "array([[13, 18, 38, 37, 49, 16, 35, 49, 32, 15],\n",
       "       [14, 32, 41, 12, 14, 48, 14, 39, 22, 36],\n",
       "       [29, 10, 38, 18, 18, 33, 14, 46, 33, 15],\n",
       "       [22, 36, 39, 40, 15, 10, 37, 17, 17, 11],\n",
       "       [42, 19, 19, 49, 25, 15, 32, 36, 42, 40],\n",
       "       [23, 11, 48, 12, 35, 10, 41, 19, 47, 22],\n",
       "       [18, 35, 14, 18, 30, 17, 48, 39, 49, 24],\n",
       "       [42, 21, 37, 10, 17, 34, 19, 40, 14, 34],\n",
       "       [18, 14, 39, 43, 34, 17, 22, 31, 28, 32],\n",
       "       [27, 17, 34, 10, 16, 22, 17, 21, 16, 25]])"
      ]
     },
     "execution_count": 111,
     "metadata": {},
     "output_type": "execute_result"
    }
   ],
   "source": [
    "e[:]"
   ]
  },
  {
   "cell_type": "code",
   "execution_count": 113,
   "id": "99ebcc39-dd3e-4b25-b6dc-6638a581ab01",
   "metadata": {},
   "outputs": [
    {
     "data": {
      "text/plain": [
       "13"
      ]
     },
     "execution_count": 113,
     "metadata": {},
     "output_type": "execute_result"
    }
   ],
   "source": [
    "e[0,0]"
   ]
  },
  {
   "cell_type": "code",
   "execution_count": 115,
   "id": "71a8fd23-f3f1-4a23-9c37-4a42febf566b",
   "metadata": {},
   "outputs": [
    {
     "data": {
      "text/plain": [
       "40"
      ]
     },
     "execution_count": 115,
     "metadata": {},
     "output_type": "execute_result"
    }
   ],
   "source": [
    "e[3,3]"
   ]
  },
  {
   "cell_type": "code",
   "execution_count": 117,
   "id": "e3eaacad-6e45-41f0-910e-7f6a931e1b7d",
   "metadata": {},
   "outputs": [
    {
     "data": {
      "text/plain": [
       "array([[27, 17, 34, 10, 16, 22, 17, 21, 16, 25],\n",
       "       [18, 14, 39, 43, 34, 17, 22, 31, 28, 32],\n",
       "       [42, 21, 37, 10, 17, 34, 19, 40, 14, 34],\n",
       "       [18, 35, 14, 18, 30, 17, 48, 39, 49, 24],\n",
       "       [23, 11, 48, 12, 35, 10, 41, 19, 47, 22],\n",
       "       [42, 19, 19, 49, 25, 15, 32, 36, 42, 40],\n",
       "       [22, 36, 39, 40, 15, 10, 37, 17, 17, 11],\n",
       "       [29, 10, 38, 18, 18, 33, 14, 46, 33, 15],\n",
       "       [14, 32, 41, 12, 14, 48, 14, 39, 22, 36],\n",
       "       [13, 18, 38, 37, 49, 16, 35, 49, 32, 15]])"
      ]
     },
     "execution_count": 117,
     "metadata": {},
     "output_type": "execute_result"
    }
   ],
   "source": [
    "e[::-1]"
   ]
  },
  {
   "cell_type": "code",
   "execution_count": 119,
   "id": "16720f47-c24e-4fe2-b456-28d17495da3c",
   "metadata": {},
   "outputs": [
    {
     "data": {
      "text/plain": [
       "array([[13, 18, 38, 37, 49, 16, 35, 49, 32, 15],\n",
       "       [14, 32, 41, 12, 14, 48, 14, 39, 22, 36],\n",
       "       [29, 10, 38, 18, 18, 33, 14, 46, 33, 15],\n",
       "       [22, 36, 39, 40, 15, 10, 37, 17, 17, 11],\n",
       "       [42, 19, 19, 49, 25, 15, 32, 36, 42, 40],\n",
       "       [23, 11, 48, 12, 35, 10, 41, 19, 47, 22],\n",
       "       [18, 35, 14, 18, 30, 17, 48, 39, 49, 24],\n",
       "       [42, 21, 37, 10, 17, 34, 19, 40, 14, 34],\n",
       "       [18, 14, 39, 43, 34, 17, 22, 31, 28, 32],\n",
       "       [27, 17, 34, 10, 16, 22, 17, 21, 16, 25]])"
      ]
     },
     "execution_count": 119,
     "metadata": {},
     "output_type": "execute_result"
    }
   ],
   "source": [
    "e"
   ]
  },
  {
   "cell_type": "code",
   "execution_count": 121,
   "id": "e61ecec8-7f85-4b8c-a3ff-5581b7627834",
   "metadata": {},
   "outputs": [
    {
     "data": {
      "text/plain": [
       "array([[13, 18, 38, 37, 49, 16, 35, 49, 32, 15],\n",
       "       [29, 10, 38, 18, 18, 33, 14, 46, 33, 15],\n",
       "       [42, 19, 19, 49, 25, 15, 32, 36, 42, 40]])"
      ]
     },
     "execution_count": 121,
     "metadata": {},
     "output_type": "execute_result"
    }
   ],
   "source": [
    "e[0:6:2]"
   ]
  },
  {
   "cell_type": "code",
   "execution_count": 123,
   "id": "839741a5-c2ec-4fad-959b-7784cf36d854",
   "metadata": {},
   "outputs": [
    {
     "data": {
      "text/plain": [
       "array([[13, 18, 38, 37, 49, 16, 35, 49, 32, 15],\n",
       "       [29, 10, 38, 18, 18, 33, 14, 46, 33, 15],\n",
       "       [42, 19, 19, 49, 25, 15, 32, 36, 42, 40],\n",
       "       [18, 35, 14, 18, 30, 17, 48, 39, 49, 24]])"
      ]
     },
     "execution_count": 123,
     "metadata": {},
     "output_type": "execute_result"
    }
   ],
   "source": [
    "e[0:-2:2]"
   ]
  },
  {
   "cell_type": "code",
   "execution_count": 125,
   "id": "478e350b-6caa-4224-8790-6e330a35d339",
   "metadata": {},
   "outputs": [
    {
     "data": {
      "text/plain": [
       "array([42, 29, 40, 45, 14, 45, 36, 17, 36, 11])"
      ]
     },
     "execution_count": 125,
     "metadata": {},
     "output_type": "execute_result"
    }
   ],
   "source": [
    "t=np.random.randint(10,50,10)\n",
    "t"
   ]
  },
  {
   "cell_type": "code",
   "execution_count": 127,
   "id": "cbe03045-618b-4ce6-b5e9-a0150e8270cd",
   "metadata": {},
   "outputs": [
    {
     "data": {
      "text/plain": [
       "array([[47, 24, 19, 47, 14],\n",
       "       [50, 21, 81, 50, 34],\n",
       "       [12, 63, 63, 95, 52],\n",
       "       [24, 35, 24, 12, 38],\n",
       "       [50, 31, 13, 97, 70]])"
      ]
     },
     "execution_count": 127,
     "metadata": {},
     "output_type": "execute_result"
    }
   ],
   "source": [
    "t=np.random.randint(10,100,(5,5))\n",
    "t"
   ]
  },
  {
   "cell_type": "code",
   "execution_count": 129,
   "id": "4280232f-b02f-4e7a-b49f-7a5843cb7604",
   "metadata": {},
   "outputs": [
    {
     "data": {
      "text/plain": [
       "array([2, 3, 4, 5, 6])"
      ]
     },
     "execution_count": 129,
     "metadata": {},
     "output_type": "execute_result"
    }
   ],
   "source": [
    "b=np.array([2,3,4,5,6])\n",
    "b"
   ]
  },
  {
   "cell_type": "code",
   "execution_count": 131,
   "id": "3f6f2234-b1a0-4932-86af-0f16c0f4914c",
   "metadata": {},
   "outputs": [
    {
     "data": {
      "text/plain": [
       "array([[10, 11, 12, 13, 14],\n",
       "       [15, 16, 17, 18, 19]])"
      ]
     },
     "execution_count": 131,
     "metadata": {},
     "output_type": "execute_result"
    }
   ],
   "source": [
    "a=np.arange(10,20).reshape(2,5)\n",
    "a"
   ]
  },
  {
   "cell_type": "code",
   "execution_count": 133,
   "id": "7fa276c0-6c21-451b-a0e1-5941cd39f9ce",
   "metadata": {},
   "outputs": [
    {
     "data": {
      "text/plain": [
       "array([[2],\n",
       "       [3],\n",
       "       [4],\n",
       "       [5],\n",
       "       [6]])"
      ]
     },
     "execution_count": 133,
     "metadata": {},
     "output_type": "execute_result"
    }
   ],
   "source": [
    "b.reshape(5,1)"
   ]
  },
  {
   "cell_type": "code",
   "execution_count": 135,
   "id": "4237ac26-1649-4c6a-92c0-1706ef490e7c",
   "metadata": {},
   "outputs": [
    {
     "ename": "ValueError",
     "evalue": "cannot reshape array of size 5 into shape (6,1)",
     "output_type": "error",
     "traceback": [
      "\u001b[1;31m---------------------------------------------------------------------------\u001b[0m",
      "\u001b[1;31mValueError\u001b[0m                                Traceback (most recent call last)",
      "Cell \u001b[1;32mIn[135], line 1\u001b[0m\n\u001b[1;32m----> 1\u001b[0m b\u001b[38;5;241m.\u001b[39mreshape(\u001b[38;5;241m6\u001b[39m,\u001b[38;5;241m1\u001b[39m)\n",
      "\u001b[1;31mValueError\u001b[0m: cannot reshape array of size 5 into shape (6,1)"
     ]
    }
   ],
   "source": [
    "b.reshape(6,1)"
   ]
  },
  {
   "cell_type": "code",
   "execution_count": 137,
   "id": "be0a2ab6-9fd8-4e85-8694-8177b6b915e1",
   "metadata": {},
   "outputs": [
    {
     "data": {
      "text/plain": [
       "array([[20, 21, 22, 23, 24],\n",
       "       [25, 26, 27, 28, 29]])"
      ]
     },
     "execution_count": 137,
     "metadata": {},
     "output_type": "execute_result"
    }
   ],
   "source": [
    "c=np.arange(20,30).reshape(2,5)\n",
    "c"
   ]
  },
  {
   "cell_type": "code",
   "execution_count": 139,
   "id": "0801a140-ae23-4109-8ff6-88c00c18b6b6",
   "metadata": {},
   "outputs": [
    {
     "data": {
      "text/plain": [
       "array([[37, 23, 20],\n",
       "       [23, 12, 10],\n",
       "       [37, 30, 20],\n",
       "       [14, 25, 10],\n",
       "       [11, 33, 19],\n",
       "       [15, 10, 28]])"
      ]
     },
     "execution_count": 139,
     "metadata": {},
     "output_type": "execute_result"
    }
   ],
   "source": [
    "d=np.random.randint(10,40,(6,3))\n",
    "d"
   ]
  },
  {
   "cell_type": "code",
   "execution_count": 141,
   "id": "75a910e5-fb7d-474d-b2c2-7c9334ec7f32",
   "metadata": {},
   "outputs": [
    {
     "data": {
      "text/plain": [
       "array([23, 24, 25, 26, 27])"
      ]
     },
     "execution_count": 141,
     "metadata": {},
     "output_type": "execute_result"
    }
   ],
   "source": [
    "arr=np.array([23,24,25,26,27])\n",
    "arr"
   ]
  },
  {
   "cell_type": "code",
   "execution_count": 143,
   "id": "aa815e4d-51c2-4ecd-92b9-d6f3ccf04823",
   "metadata": {},
   "outputs": [
    {
     "data": {
      "text/plain": [
       "array([[23],\n",
       "       [24],\n",
       "       [25],\n",
       "       [26],\n",
       "       [27]])"
      ]
     },
     "execution_count": 143,
     "metadata": {},
     "output_type": "execute_result"
    }
   ],
   "source": [
    "arr.reshape(5,1)"
   ]
  },
  {
   "cell_type": "code",
   "execution_count": 145,
   "id": "603e0ab1-1ecd-4a2a-87e9-7314691b5f7e",
   "metadata": {},
   "outputs": [
    {
     "data": {
      "text/plain": [
       "array([ 10,  20,  30,  40,  50,  60,  70,  80,  90, 100])"
      ]
     },
     "execution_count": 145,
     "metadata": {},
     "output_type": "execute_result"
    }
   ],
   "source": [
    "arr1=np.array([10,20,30,40,50,60,70,80,90,100])\n",
    "arr1"
   ]
  },
  {
   "cell_type": "code",
   "execution_count": 147,
   "id": "6ed831a6-a39d-4d9c-adca-2a8af592d8ab",
   "metadata": {},
   "outputs": [
    {
     "data": {
      "text/plain": [
       "array([[ 10,  20],\n",
       "       [ 30,  40],\n",
       "       [ 50,  60],\n",
       "       [ 70,  80],\n",
       "       [ 90, 100]])"
      ]
     },
     "execution_count": 147,
     "metadata": {},
     "output_type": "execute_result"
    }
   ],
   "source": [
    "arr1.reshape(5,2)"
   ]
  },
  {
   "cell_type": "code",
   "execution_count": 149,
   "id": "49efdde3-5bd3-41e6-aae2-2c08b8b5a198",
   "metadata": {},
   "outputs": [
    {
     "data": {
      "text/plain": [
       "array([[ 0,  1,  2,  3,  4,  5,  6,  7,  8,  9],\n",
       "       [10, 11, 12, 13, 14, 15, 16, 17, 18, 19],\n",
       "       [20, 21, 22, 23, 24, 25, 26, 27, 28, 29],\n",
       "       [30, 31, 32, 33, 34, 35, 36, 37, 38, 39],\n",
       "       [40, 41, 42, 43, 44, 45, 46, 47, 48, 49],\n",
       "       [50, 51, 52, 53, 54, 55, 56, 57, 58, 59],\n",
       "       [60, 61, 62, 63, 64, 65, 66, 67, 68, 69],\n",
       "       [70, 71, 72, 73, 74, 75, 76, 77, 78, 79],\n",
       "       [80, 81, 82, 83, 84, 85, 86, 87, 88, 89],\n",
       "       [90, 91, 92, 93, 94, 95, 96, 97, 98, 99]])"
      ]
     },
     "execution_count": 149,
     "metadata": {},
     "output_type": "execute_result"
    }
   ],
   "source": [
    "mat=np.arange(0,100).reshape(10,10)\n",
    "mat"
   ]
  },
  {
   "cell_type": "code",
   "execution_count": 151,
   "id": "2516174b-053f-4598-8fa2-0d464ce84909",
   "metadata": {},
   "outputs": [
    {
     "data": {
      "text/plain": [
       "45"
      ]
     },
     "execution_count": 151,
     "metadata": {},
     "output_type": "execute_result"
    }
   ],
   "source": [
    "mat[4,5]"
   ]
  },
  {
   "cell_type": "code",
   "execution_count": 153,
   "id": "73ed3211-3479-4bd2-a9d9-9a7a484482e6",
   "metadata": {},
   "outputs": [
    {
     "data": {
      "text/plain": [
       "array([[ 0,  1,  2,  3,  4,  5,  6,  7,  8,  9],\n",
       "       [10, 11, 12, 13, 14, 15, 16, 17, 18, 19],\n",
       "       [20, 21, 22, 23, 24, 25, 26, 27, 28, 29],\n",
       "       [30, 31, 32, 33, 34, 35, 36, 37, 38, 39],\n",
       "       [40, 41, 42, 43, 44, 45, 46, 47, 48, 49],\n",
       "       [50, 51, 52, 53, 54, 55, 56, 57, 58, 59],\n",
       "       [60, 61, 62, 63, 64, 65, 66, 67, 68, 69]])"
      ]
     },
     "execution_count": 153,
     "metadata": {},
     "output_type": "execute_result"
    }
   ],
   "source": [
    "mat[:7]"
   ]
  },
  {
   "cell_type": "code",
   "execution_count": 155,
   "id": "bde92753-a46e-493b-b5c8-4508cccf441c",
   "metadata": {},
   "outputs": [
    {
     "data": {
      "text/plain": [
       "array([0, 1, 2, 3, 4, 5, 6, 7, 8, 9])"
      ]
     },
     "execution_count": 155,
     "metadata": {},
     "output_type": "execute_result"
    }
   ],
   "source": [
    "mat[0]"
   ]
  },
  {
   "cell_type": "code",
   "execution_count": 157,
   "id": "b12e594e-cf69-421d-825f-8dda2abb7a2c",
   "metadata": {
    "scrolled": true
   },
   "outputs": [
    {
     "data": {
      "text/plain": [
       "array([[ 0,  1,  2,  3,  4,  5,  6,  7,  8,  9],\n",
       "       [10, 11, 12, 13, 14, 15, 16, 17, 18, 19],\n",
       "       [20, 21, 22, 23, 24, 25, 26, 27, 28, 29],\n",
       "       [30, 31, 32, 33, 34, 35, 36, 37, 38, 39],\n",
       "       [40, 41, 42, 43, 44, 45, 46, 47, 48, 49],\n",
       "       [50, 51, 52, 53, 54, 55, 56, 57, 58, 59],\n",
       "       [60, 61, 62, 63, 64, 65, 66, 67, 68, 69],\n",
       "       [70, 71, 72, 73, 74, 75, 76, 77, 78, 79],\n",
       "       [80, 81, 82, 83, 84, 85, 86, 87, 88, 89],\n",
       "       [90, 91, 92, 93, 94, 95, 96, 97, 98, 99]])"
      ]
     },
     "execution_count": 157,
     "metadata": {},
     "output_type": "execute_result"
    }
   ],
   "source": [
    "mat"
   ]
  },
  {
   "cell_type": "code",
   "execution_count": 159,
   "id": "a2f79623-9722-4d1e-a951-822ba41e84ee",
   "metadata": {},
   "outputs": [
    {
     "data": {
      "text/plain": [
       "array([[24, 25, 26],\n",
       "       [34, 35, 36],\n",
       "       [44, 45, 46]])"
      ]
     },
     "execution_count": 159,
     "metadata": {},
     "output_type": "execute_result"
    }
   ],
   "source": [
    "mat[2:5,4:7]"
   ]
  },
  {
   "cell_type": "code",
   "execution_count": 161,
   "id": "9b58bc4b-b926-4770-afee-8ac0662a2c14",
   "metadata": {},
   "outputs": [
    {
     "data": {
      "text/plain": [
       "54"
      ]
     },
     "execution_count": 161,
     "metadata": {},
     "output_type": "execute_result"
    }
   ],
   "source": [
    "mat[5,4]"
   ]
  },
  {
   "cell_type": "markdown",
   "id": "92aee8f2-1633-462b-8379-e907705ddf95",
   "metadata": {},
   "source": [
    "masking"
   ]
  },
  {
   "cell_type": "code",
   "execution_count": 164,
   "id": "9d391d6f-616b-4d69-b666-d4ea560cff3b",
   "metadata": {},
   "outputs": [
    {
     "data": {
      "text/plain": [
       "array([[ 0,  1,  2,  3,  4,  5,  6,  7,  8,  9],\n",
       "       [10, 11, 12, 13, 14, 15, 16, 17, 18, 19],\n",
       "       [20, 21, 22, 23, 24, 25, 26, 27, 28, 29],\n",
       "       [30, 31, 32, 33, 34, 35, 36, 37, 38, 39],\n",
       "       [40, 41, 42, 43, 44, 45, 46, 47, 48, 49],\n",
       "       [50, 51, 52, 53, 54, 55, 56, 57, 58, 59],\n",
       "       [60, 61, 62, 63, 64, 65, 66, 67, 68, 69],\n",
       "       [70, 71, 72, 73, 74, 75, 76, 77, 78, 79],\n",
       "       [80, 81, 82, 83, 84, 85, 86, 87, 88, 89],\n",
       "       [90, 91, 92, 93, 94, 95, 96, 97, 98, 99]])"
      ]
     },
     "execution_count": 164,
     "metadata": {},
     "output_type": "execute_result"
    }
   ],
   "source": [
    "mat\n"
   ]
  },
  {
   "cell_type": "code",
   "execution_count": 166,
   "id": "67e35bb7-a0d2-40ca-a68f-25a4f2d5ea0e",
   "metadata": {},
   "outputs": [
    {
     "data": {
      "text/plain": [
       "numpy.ndarray"
      ]
     },
     "execution_count": 166,
     "metadata": {},
     "output_type": "execute_result"
    }
   ],
   "source": [
    "id(mat)\n",
    "type(mat)"
   ]
  },
  {
   "cell_type": "code",
   "execution_count": 168,
   "id": "f8643943-f27a-4299-9d77-2db5c7b3f66f",
   "metadata": {},
   "outputs": [
    {
     "data": {
      "text/plain": [
       "array([[ True,  True,  True,  True,  True,  True,  True,  True,  True,\n",
       "         True],\n",
       "       [ True,  True,  True,  True,  True,  True,  True,  True,  True,\n",
       "         True],\n",
       "       [ True,  True,  True,  True,  True,  True,  True,  True,  True,\n",
       "         True],\n",
       "       [ True,  True,  True,  True,  True,  True,  True,  True,  True,\n",
       "         True],\n",
       "       [ True,  True,  True,  True,  True,  True,  True,  True,  True,\n",
       "         True],\n",
       "       [False, False, False, False, False, False, False, False, False,\n",
       "        False],\n",
       "       [False, False, False, False, False, False, False, False, False,\n",
       "        False],\n",
       "       [False, False, False, False, False, False, False, False, False,\n",
       "        False],\n",
       "       [False, False, False, False, False, False, False, False, False,\n",
       "        False],\n",
       "       [False, False, False, False, False, False, False, False, False,\n",
       "        False]])"
      ]
     },
     "execution_count": 168,
     "metadata": {},
     "output_type": "execute_result"
    }
   ],
   "source": [
    "mat<50"
   ]
  },
  {
   "cell_type": "code",
   "execution_count": 170,
   "id": "c16241a9-228b-4703-8b4a-cdd6d5911efe",
   "metadata": {},
   "outputs": [
    {
     "data": {
      "text/plain": [
       "array([ 0,  1,  2,  3,  4,  5,  6,  7,  8,  9, 10, 11, 12, 13, 14, 15, 16,\n",
       "       17, 18, 19, 20, 21, 22, 23, 24, 25, 26, 27, 28, 29, 30, 31, 32, 33,\n",
       "       34, 35, 36, 37, 38, 39, 40, 41, 42, 43, 44, 45, 46, 47, 48, 49])"
      ]
     },
     "execution_count": 170,
     "metadata": {},
     "output_type": "execute_result"
    }
   ],
   "source": [
    "mat[mat<50]"
   ]
  },
  {
   "cell_type": "markdown",
   "id": "e1f99111-c36d-4328-8c60-39a3365973a5",
   "metadata": {},
   "source": [
    "BUILT IN FUNCTIONS"
   ]
  },
  {
   "cell_type": "markdown",
   "id": "28f0a943-d22c-42db-accc-250888b085ab",
   "metadata": {},
   "source": [
    "ARRAY CREATION FUNCTIONS"
   ]
  },
  {
   "cell_type": "code",
   "execution_count": 174,
   "id": "ac3998a1-7cc5-4cb7-b307-a3aaef7e3fce",
   "metadata": {},
   "outputs": [
    {
     "name": "stdout",
     "output_type": "stream",
     "text": [
      "[ 1  2  3 45  6]\n"
     ]
    }
   ],
   "source": [
    "a=np.array([1,2,3,45,6])\n",
    "print(a)"
   ]
  },
  {
   "cell_type": "code",
   "execution_count": 176,
   "id": "51158c34-7653-45f7-8af5-f220e7b40b1e",
   "metadata": {},
   "outputs": [
    {
     "data": {
      "text/plain": [
       "array([0, 1, 2, 3, 4, 5, 6, 7, 8, 9])"
      ]
     },
     "execution_count": 176,
     "metadata": {},
     "output_type": "execute_result"
    }
   ],
   "source": [
    "b=np.arange(10)\n",
    "b"
   ]
  },
  {
   "cell_type": "code",
   "execution_count": 178,
   "id": "ec19d5e9-e2fc-4884-9477-c7e6891a780a",
   "metadata": {},
   "outputs": [
    {
     "data": {
      "text/plain": [
       "array([[ 1,  2,  3,  4,  5],\n",
       "       [ 6,  7,  8,  9, 10]])"
      ]
     },
     "execution_count": 178,
     "metadata": {},
     "output_type": "execute_result"
    }
   ],
   "source": [
    "c=np.arange(1,11).reshape(2,5)\n",
    "c"
   ]
  },
  {
   "cell_type": "markdown",
   "id": "3f181423-f506-4828-93af-4657abf64b9c",
   "metadata": {},
   "source": [
    "# Create an array with linearly spaced values"
   ]
  },
  {
   "cell_type": "code",
   "execution_count": 181,
   "id": "a489c642-8a5c-46e9-864a-1f4ac466017b",
   "metadata": {},
   "outputs": [
    {
     "data": {
      "text/plain": [
       "array([ 2. ,  3.6,  5.2,  6.8,  8.4, 10. ])"
      ]
     },
     "execution_count": 181,
     "metadata": {},
     "output_type": "execute_result"
    }
   ],
   "source": [
    "a=np.linspace(2,10,6)     \n",
    "#here 6 values are printed from 2 to 10(includimg 2 to 10)\n",
    "a"
   ]
  },
  {
   "cell_type": "markdown",
   "id": "53f0cd5c-3fc5-443e-a9c1-956d40d81efb",
   "metadata": {},
   "source": [
    "# Create an array filled with zeros"
   ]
  },
  {
   "cell_type": "code",
   "execution_count": 184,
   "id": "60758db1-a032-4a5b-b465-f31acc4212bd",
   "metadata": {},
   "outputs": [
    {
     "data": {
      "text/plain": [
       "array([0., 0., 0., 0., 0.])"
      ]
     },
     "execution_count": 184,
     "metadata": {},
     "output_type": "execute_result"
    }
   ],
   "source": [
    "d=np.zeros(5)\n",
    "d"
   ]
  },
  {
   "cell_type": "code",
   "execution_count": 186,
   "id": "1d033539-c25d-438e-9d45-6de90f58dd3d",
   "metadata": {},
   "outputs": [
    {
     "data": {
      "text/plain": [
       "array([[0., 0.],\n",
       "       [0., 0.],\n",
       "       [0., 0.],\n",
       "       [0., 0.],\n",
       "       [0., 0.]])"
      ]
     },
     "execution_count": 186,
     "metadata": {},
     "output_type": "execute_result"
    }
   ],
   "source": [
    "e=np.zeros((5,2))\n",
    "e"
   ]
  },
  {
   "cell_type": "code",
   "execution_count": 188,
   "id": "644e4f13-e714-40d5-b3d3-b6ed9cfdb8cf",
   "metadata": {},
   "outputs": [
    {
     "data": {
      "text/plain": [
       "array([[0, 0, 0],\n",
       "       [0, 0, 0],\n",
       "       [0, 0, 0]])"
      ]
     },
     "execution_count": 188,
     "metadata": {},
     "output_type": "execute_result"
    }
   ],
   "source": [
    "f=np.zeros((3,3),dtype=int)\n",
    "f"
   ]
  },
  {
   "cell_type": "markdown",
   "id": "c225279b-1b04-4dea-98a7-57657b0ae39e",
   "metadata": {},
   "source": [
    "# Create an array filled with ones"
   ]
  },
  {
   "cell_type": "code",
   "execution_count": 191,
   "id": "5cc7d18f-f78b-4409-98c4-4c07f525dafa",
   "metadata": {},
   "outputs": [
    {
     "data": {
      "text/plain": [
       "array([1., 1., 1., 1.])"
      ]
     },
     "execution_count": 191,
     "metadata": {},
     "output_type": "execute_result"
    }
   ],
   "source": [
    "g=np.ones(4)\n",
    "g"
   ]
  },
  {
   "cell_type": "code",
   "execution_count": 193,
   "id": "53a1fb47-3291-4208-9613-8c7e89560f0f",
   "metadata": {},
   "outputs": [
    {
     "data": {
      "text/plain": [
       "array([[1, 1, 1],\n",
       "       [1, 1, 1]])"
      ]
     },
     "execution_count": 193,
     "metadata": {},
     "output_type": "execute_result"
    }
   ],
   "source": [
    "h=np.ones((2,3),dtype=int)\n",
    "h"
   ]
  },
  {
   "cell_type": "markdown",
   "id": "e13a1425-b0d5-451e-853d-17b5aef9ae4b",
   "metadata": {},
   "source": [
    "# Create an identity matrix"
   ]
  },
  {
   "cell_type": "code",
   "execution_count": 196,
   "id": "083219fa-e48f-4bf4-b36e-b0c49b1924ad",
   "metadata": {},
   "outputs": [
    {
     "data": {
      "text/plain": [
       "array([[1., 0., 0., 0., 0.],\n",
       "       [0., 1., 0., 0., 0.],\n",
       "       [0., 0., 1., 0., 0.],\n",
       "       [0., 0., 0., 1., 0.],\n",
       "       [0., 0., 0., 0., 1.]])"
      ]
     },
     "execution_count": 196,
     "metadata": {},
     "output_type": "execute_result"
    }
   ],
   "source": [
    "i=np.eye(5)\n",
    "i"
   ]
  },
  {
   "cell_type": "code",
   "execution_count": 198,
   "id": "cbe80865-586f-4804-90bb-724111c7b47f",
   "metadata": {},
   "outputs": [
    {
     "ename": "SyntaxError",
     "evalue": "invalid syntax (1918014086.py, line 1)",
     "output_type": "error",
     "traceback": [
      "\u001b[1;36m  Cell \u001b[1;32mIn[198], line 1\u001b[1;36m\u001b[0m\n\u001b[1;33m    ARRAY MANIPULATION FUNCTIONS\u001b[0m\n\u001b[1;37m          ^\u001b[0m\n\u001b[1;31mSyntaxError\u001b[0m\u001b[1;31m:\u001b[0m invalid syntax\n"
     ]
    }
   ],
   "source": [
    "ARRAY MANIPULATION FUNCTIONS"
   ]
  },
  {
   "cell_type": "markdown",
   "id": "254ee7d3-93b9-4e18-b5b6-8f824a258d27",
   "metadata": {},
   "source": [
    "# Reshape an array"
   ]
  },
  {
   "cell_type": "code",
   "execution_count": 201,
   "id": "994a6dcd-7387-483f-badd-e18512518c98",
   "metadata": {},
   "outputs": [
    {
     "data": {
      "text/plain": [
       "array([[ 0,  1,  2,  3],\n",
       "       [ 4,  5,  6,  7],\n",
       "       [ 8,  9, 10, 11],\n",
       "       [12, 13, 14, 15],\n",
       "       [16, 17, 18, 19]])"
      ]
     },
     "execution_count": 201,
     "metadata": {},
     "output_type": "execute_result"
    }
   ],
   "source": [
    "j=np.arange(20)\n",
    "k=np.reshape(j,(5,4))\n",
    "k"
   ]
  },
  {
   "cell_type": "markdown",
   "id": "51abc1c2-9f1b-4f71-9071-9fb8196c5927",
   "metadata": {},
   "source": [
    "# Flatten an array"
   ]
  },
  {
   "cell_type": "code",
   "execution_count": 204,
   "id": "165b383f-38cf-46f7-8e67-5eed7df1e060",
   "metadata": {},
   "outputs": [
    {
     "data": {
      "text/plain": [
       "array([[1, 3, 6, 7, 8],\n",
       "       [2, 3, 4, 5, 8]])"
      ]
     },
     "execution_count": 204,
     "metadata": {},
     "output_type": "execute_result"
    }
   ],
   "source": [
    "k=np.array([[1,3,6,7,8],[2,3,4,5,8]])\n",
    "k"
   ]
  },
  {
   "cell_type": "code",
   "execution_count": 206,
   "id": "8cdef5c6-3529-45aa-868f-f7a441cadb56",
   "metadata": {},
   "outputs": [
    {
     "data": {
      "text/plain": [
       "array([1, 3, 6, 7, 8, 2, 3, 4, 5, 8])"
      ]
     },
     "execution_count": 206,
     "metadata": {},
     "output_type": "execute_result"
    }
   ],
   "source": [
    "np.ravel(k)\n"
   ]
  },
  {
   "cell_type": "markdown",
   "id": "8a18ce68-fc2e-44f9-ae08-e87087e17cc6",
   "metadata": {},
   "source": [
    "# Transpose an array"
   ]
  },
  {
   "cell_type": "code",
   "execution_count": 209,
   "id": "02e16f73-3013-4f59-9cfd-26501f846f87",
   "metadata": {},
   "outputs": [
    {
     "data": {
      "text/plain": [
       "array([[1, 3, 6, 7, 8],\n",
       "       [2, 3, 4, 5, 8]])"
      ]
     },
     "execution_count": 209,
     "metadata": {},
     "output_type": "execute_result"
    }
   ],
   "source": [
    "k"
   ]
  },
  {
   "cell_type": "code",
   "execution_count": 211,
   "id": "2dcb1a25-92c6-48f6-ae01-b7675e286956",
   "metadata": {},
   "outputs": [
    {
     "data": {
      "text/plain": [
       "array([[1, 2],\n",
       "       [3, 3],\n",
       "       [6, 4],\n",
       "       [7, 5],\n",
       "       [8, 8]])"
      ]
     },
     "execution_count": 211,
     "metadata": {},
     "output_type": "execute_result"
    }
   ],
   "source": [
    "e=np.transpose(k)\n",
    "e"
   ]
  },
  {
   "cell_type": "markdown",
   "id": "f59226d8-30b5-4bf5-a84d-8a2befbba6c5",
   "metadata": {},
   "source": [
    "# Stack arrays vertically"
   ]
  },
  {
   "cell_type": "code",
   "execution_count": 214,
   "id": "c77528bf-1479-4913-bb4c-18ef14e072cf",
   "metadata": {},
   "outputs": [
    {
     "data": {
      "text/plain": [
       "array([[1, 2],\n",
       "       [3, 3],\n",
       "       [6, 4],\n",
       "       [7, 5],\n",
       "       [8, 8]])"
      ]
     },
     "execution_count": 214,
     "metadata": {},
     "output_type": "execute_result"
    }
   ],
   "source": [
    "e"
   ]
  },
  {
   "cell_type": "code",
   "execution_count": 216,
   "id": "d9e5d091-9721-4ecf-a4f1-40a14837d3fb",
   "metadata": {},
   "outputs": [
    {
     "data": {
      "text/plain": [
       "array([[1, 2],\n",
       "       [3, 3],\n",
       "       [6, 4],\n",
       "       [7, 5],\n",
       "       [8, 8]])"
      ]
     },
     "execution_count": 216,
     "metadata": {},
     "output_type": "execute_result"
    }
   ],
   "source": [
    "np.vstack(e)"
   ]
  },
  {
   "cell_type": "markdown",
   "id": "608bf94b-e03d-4327-b20d-4ea4af131ba4",
   "metadata": {},
   "source": [
    "MATHEMATICAL FUNCTIONS"
   ]
  },
  {
   "cell_type": "code",
   "execution_count": 219,
   "id": "22317c62-fd24-47c0-92cf-d94fbba7b235",
   "metadata": {},
   "outputs": [
    {
     "data": {
      "text/plain": [
       "array([ 7,  9, 11, 13, 15])"
      ]
     },
     "execution_count": 219,
     "metadata": {},
     "output_type": "execute_result"
    }
   ],
   "source": [
    "A=np.array([1,2,3,4,5])\n",
    "B=np.array([6,7,8,9,10])\n",
    "C=np.add(A,B)\n",
    "C"
   ]
  },
  {
   "cell_type": "code",
   "execution_count": 221,
   "id": "393d4218-2dba-4ba8-b615-f20e938f78da",
   "metadata": {},
   "outputs": [
    {
     "data": {
      "text/plain": [
       "array([29, 30, 31, 32, 33])"
      ]
     },
     "execution_count": 221,
     "metadata": {},
     "output_type": "execute_result"
    }
   ],
   "source": [
    "A=np.array([1,2,3,4,5])\n",
    "B=np.array([6,7,8,9,10])\n",
    "d=np.add(B,23)\n",
    "d"
   ]
  },
  {
   "cell_type": "markdown",
   "id": "325a2e89-17a7-4ca1-9a50-f93258d7c3f7",
   "metadata": {},
   "source": [
    "# Square each element"
   ]
  },
  {
   "cell_type": "code",
   "execution_count": 224,
   "id": "a89fdaf6-497f-4fa1-b6d5-93ae478c674b",
   "metadata": {},
   "outputs": [
    {
     "name": "stdout",
     "output_type": "stream",
     "text": [
      "[ 7  9 11 13 15]\n",
      "[29 30 31 32 33]\n"
     ]
    }
   ],
   "source": [
    "print(C)\n",
    "print(d)"
   ]
  },
  {
   "cell_type": "code",
   "execution_count": 229,
   "id": "46eb8ecf-13fa-4c0c-8317-f8a26e538bf6",
   "metadata": {},
   "outputs": [
    {
     "data": {
      "text/plain": [
       "array([ 49,  81, 121, 169, 225], dtype=int32)"
      ]
     },
     "execution_count": 229,
     "metadata": {},
     "output_type": "execute_result"
    }
   ],
   "source": [
    "k=np.power(C,2)\n",
    "k"
   ]
  },
  {
   "cell_type": "code",
   "execution_count": 231,
   "id": "a9b1cd7b-d685-480f-8c83-17b0cb7dc604",
   "metadata": {},
   "outputs": [
    {
     "data": {
      "text/plain": [
       "array([24389, 27000, 29791, 32768, 35937], dtype=int32)"
      ]
     },
     "execution_count": 231,
     "metadata": {},
     "output_type": "execute_result"
    }
   ],
   "source": [
    "k=np.power(d,3)\n",
    "k"
   ]
  },
  {
   "cell_type": "markdown",
   "id": "47428c9f-f7f4-4e27-8572-621477ac3e5c",
   "metadata": {},
   "source": [
    "# Square root of each element"
   ]
  },
  {
   "cell_type": "code",
   "execution_count": 239,
   "id": "51248385-c6b8-4f0b-911b-5e06e1bef556",
   "metadata": {},
   "outputs": [
    {
     "data": {
      "text/plain": [
       "array([1.41421356, 1.73205081, 2.        , 2.23606798, 8.18535277])"
      ]
     },
     "execution_count": 239,
     "metadata": {},
     "output_type": "execute_result"
    }
   ],
   "source": [
    "p=np.array([2,3,4,5,67])\n",
    "k=np.array([2,3,48,44,22])\n",
    "o=np.sqrt(p)\n",
    "o\n",
    "           "
   ]
  },
  {
   "cell_type": "markdown",
   "id": "53fe39fb-b086-437d-9b73-e0607b31c6d1",
   "metadata": {},
   "source": [
    "dot product size of matrices should be same"
   ]
  },
  {
   "cell_type": "code",
   "execution_count": 242,
   "id": "9aace011-fb6c-4bd2-95b5-08e2cf7ff558",
   "metadata": {},
   "outputs": [
    {
     "name": "stdout",
     "output_type": "stream",
     "text": [
      "[ 2  3  4  5 67]\n",
      "[ 2  3 48 44 22]\n"
     ]
    }
   ],
   "source": [
    "print(p)\n",
    "print(k)"
   ]
  },
  {
   "cell_type": "code",
   "execution_count": 244,
   "id": "b50fda90-48f9-4eb3-b5e1-555f5e0a59c5",
   "metadata": {},
   "outputs": [
    {
     "data": {
      "text/plain": [
       "1899"
      ]
     },
     "execution_count": 244,
     "metadata": {},
     "output_type": "execute_result"
    }
   ],
   "source": [
    "h=np.dot(p,k)\n",
    "h"
   ]
  },
  {
   "cell_type": "markdown",
   "id": "5a4cf668-4ece-4ebe-8487-acf1c7addb22",
   "metadata": {},
   "source": [
    "STATISTICAL FUNCTIONS"
   ]
  },
  {
   "cell_type": "code",
   "execution_count": 246,
   "id": "fb38e21a-60e3-4e13-a105-bc6830069cc3",
   "metadata": {},
   "outputs": [
    {
     "data": {
      "text/plain": [
       "array([ 2,  3,  4,  5, 67])"
      ]
     },
     "execution_count": 246,
     "metadata": {},
     "output_type": "execute_result"
    }
   ],
   "source": [
    "p"
   ]
  },
  {
   "cell_type": "code",
   "execution_count": 248,
   "id": "e11cb261-7642-4bdd-9af8-dbbc5ceb0504",
   "metadata": {},
   "outputs": [
    {
     "data": {
      "text/plain": [
       "16.2"
      ]
     },
     "execution_count": 248,
     "metadata": {},
     "output_type": "execute_result"
    }
   ],
   "source": [
    "np.mean(p)"
   ]
  },
  {
   "cell_type": "code",
   "execution_count": 250,
   "id": "71e5f8f8-2393-405f-8281-def80b6dadce",
   "metadata": {},
   "outputs": [
    {
     "data": {
      "text/plain": [
       "25.419677417308034"
      ]
     },
     "execution_count": 250,
     "metadata": {},
     "output_type": "execute_result"
    }
   ],
   "source": [
    "np.std(p)"
   ]
  },
  {
   "cell_type": "code",
   "execution_count": 254,
   "id": "95ad588b-6e1f-4b20-9ee3-9854bc6d78f7",
   "metadata": {},
   "outputs": [
    {
     "data": {
      "text/plain": [
       "2"
      ]
     },
     "execution_count": 254,
     "metadata": {},
     "output_type": "execute_result"
    }
   ],
   "source": [
    "np.min(p)\n"
   ]
  },
  {
   "cell_type": "code",
   "execution_count": null,
   "id": "e9ec1de3-837b-4bca-ae39-a3d31f020754",
   "metadata": {},
   "outputs": [],
   "source": []
  },
  {
   "cell_type": "code",
   "execution_count": 252,
   "id": "d8102d02-f6d7-46b6-997a-25e1e1762b94",
   "metadata": {},
   "outputs": [
    {
     "data": {
      "text/plain": [
       "67"
      ]
     },
     "execution_count": 252,
     "metadata": {},
     "output_type": "execute_result"
    }
   ],
   "source": [
    "np.max(p)"
   ]
  },
  {
   "cell_type": "markdown",
   "id": "80d8a1b9-2938-467d-b525-d60ca9a42e3a",
   "metadata": {},
   "source": [
    "LINEAR ALGEBRA FUNCTIONS"
   ]
  },
  {
   "cell_type": "code",
   "execution_count": 268,
   "id": "1f7a4aad-db14-47f2-84c4-d60b4116720f",
   "metadata": {},
   "outputs": [
    {
     "data": {
      "text/plain": [
       "array([[1, 2],\n",
       "       [3, 4]])"
      ]
     },
     "execution_count": 268,
     "metadata": {},
     "output_type": "execute_result"
    }
   ],
   "source": [
    "a=np.array([[1,2],[3,4]])\n",
    "a"
   ]
  },
  {
   "cell_type": "code",
   "execution_count": 272,
   "id": "ff173079-2f57-408d-9e4f-ca7174448b46",
   "metadata": {},
   "outputs": [
    {
     "data": {
      "text/plain": [
       "-2.0000000000000004"
      ]
     },
     "execution_count": 272,
     "metadata": {},
     "output_type": "execute_result"
    }
   ],
   "source": [
    "b=np.linalg.det(a)\n",
    "b"
   ]
  },
  {
   "cell_type": "code",
   "execution_count": 276,
   "id": "d35df921-b609-478f-a48d-fcc451a21633",
   "metadata": {},
   "outputs": [
    {
     "data": {
      "text/plain": [
       "array([[-2. ,  1. ],\n",
       "       [ 1.5, -0.5]])"
      ]
     },
     "execution_count": 276,
     "metadata": {},
     "output_type": "execute_result"
    }
   ],
   "source": [
    "c=np.linalg.inv(a)\n",
    "c"
   ]
  },
  {
   "cell_type": "code",
   "execution_count": null,
   "id": "646aa3cb-f014-4f7d-95c7-7eed18145ee8",
   "metadata": {},
   "outputs": [],
   "source": [
    "RANDOM SAMPLING FUNCTIONS"
   ]
  },
  {
   "cell_type": "code",
   "execution_count": 278,
   "id": "e5b5f98b-6a12-4793-b6c3-b63d0d97ff82",
   "metadata": {},
   "outputs": [
    {
     "data": {
      "text/plain": [
       "array([0.12477448, 0.18022888, 0.70247921, 0.42936352, 0.63903698])"
      ]
     },
     "execution_count": 278,
     "metadata": {},
     "output_type": "execute_result"
    }
   ],
   "source": [
    "a=np.random.rand(5)\n",
    "a"
   ]
  },
  {
   "cell_type": "code",
   "execution_count": 287,
   "id": "f2eb8906-6a03-4529-b5a4-ecca59f85dd6",
   "metadata": {},
   "outputs": [
    {
     "data": {
      "text/plain": [
       "array([0.37454012, 0.95071431, 0.73199394])"
      ]
     },
     "execution_count": 287,
     "metadata": {},
     "output_type": "execute_result"
    }
   ],
   "source": [
    "np.random.seed(42)\n",
    "#The number 42 in the above examples is the seed. You can use any integer to control the randomness, and using the \n",
    "#same seed will give you the same results each time you run the code.\n",
    "np.random.rand(3)"
   ]
  },
  {
   "cell_type": "code",
   "execution_count": 289,
   "id": "d899c17f-9a82-49f7-8be9-5d44ede5ba8f",
   "metadata": {},
   "outputs": [
    {
     "data": {
      "text/plain": [
       "array([14, 16, 19, 12, 16])"
      ]
     },
     "execution_count": 289,
     "metadata": {},
     "output_type": "execute_result"
    }
   ],
   "source": [
    "np.random.randint(10,20,5)"
   ]
  },
  {
   "cell_type": "code",
   "execution_count": 295,
   "id": "da720f0f-fdde-4114-8ac2-c72202ae93dd",
   "metadata": {},
   "outputs": [
    {
     "data": {
      "text/plain": [
       "array([[17, 14],\n",
       "       [13, 17],\n",
       "       [17, 12],\n",
       "       [15, 14],\n",
       "       [11, 17]])"
      ]
     },
     "execution_count": 295,
     "metadata": {},
     "output_type": "execute_result"
    }
   ],
   "source": [
    "np.random.randint(10,20,(5,2))"
   ]
  },
  {
   "cell_type": "code",
   "execution_count": null,
   "id": "a50a6d37-8c68-48d8-bee7-a7ff09a8de88",
   "metadata": {},
   "outputs": [],
   "source": [
    "BOOLEAN AND LOGICAL FUNCTIONS  ALL,ANY"
   ]
  },
  {
   "cell_type": "code",
   "execution_count": 297,
   "id": "14bde1b2-c95e-4683-b1b4-5417e5ef30aa",
   "metadata": {},
   "outputs": [
    {
     "data": {
      "text/plain": [
       "True"
      ]
     },
     "execution_count": 297,
     "metadata": {},
     "output_type": "execute_result"
    }
   ],
   "source": [
    "r=np.array([True,True,True])\n",
    "np.all(r)"
   ]
  },
  {
   "cell_type": "code",
   "execution_count": 299,
   "id": "5f79e5b7-ed9f-4af1-b005-9841e8789a68",
   "metadata": {},
   "outputs": [
    {
     "data": {
      "text/plain": [
       "True"
      ]
     },
     "execution_count": 299,
     "metadata": {},
     "output_type": "execute_result"
    }
   ],
   "source": [
    "q=np.array([False,False,True])\n",
    "np.any(q)"
   ]
  },
  {
   "cell_type": "markdown",
   "id": "c6e8e55d-185c-4358-8a33-9635ec67c839",
   "metadata": {},
   "source": [
    "set operations"
   ]
  },
  {
   "cell_type": "code",
   "execution_count": 301,
   "id": "2486ef1c-c1c8-4bea-8c59-10e8fa644550",
   "metadata": {},
   "outputs": [
    {
     "data": {
      "text/plain": [
       "array([ 1,  2,  3,  4,  5, 21, 22, 23, 24])"
      ]
     },
     "execution_count": 301,
     "metadata": {},
     "output_type": "execute_result"
    }
   ],
   "source": [
    "a=np.array([1,2,3,4,5])\n",
    "b=np.array([21,22,23,24])\n",
    "np.union1d(a,b)"
   ]
  },
  {
   "cell_type": "code",
   "execution_count": 303,
   "id": "3224b12a-d026-4cfe-9689-1408de87692e",
   "metadata": {},
   "outputs": [
    {
     "data": {
      "text/plain": [
       "array([], dtype=int32)"
      ]
     },
     "execution_count": 303,
     "metadata": {},
     "output_type": "execute_result"
    }
   ],
   "source": [
    "np.intersect1d(a,b)"
   ]
  },
  {
   "cell_type": "code",
   "execution_count": null,
   "id": "99d51b5d-42c4-4849-a8d9-99e301f97da0",
   "metadata": {},
   "outputs": [],
   "source": [
    "ARRAY ATTRIBUTE FUNCTIONS"
   ]
  },
  {
   "cell_type": "code",
   "execution_count": 305,
   "id": "03bc362e-3dc5-49cd-87c3-abb11137562b",
   "metadata": {},
   "outputs": [],
   "source": [
    "q=np.arange(10).reshape(2,5)"
   ]
  },
  {
   "cell_type": "code",
   "execution_count": 307,
   "id": "243063b4-e93d-440b-b797-a94d4f559fdc",
   "metadata": {},
   "outputs": [
    {
     "data": {
      "text/plain": [
       "array([[0, 1, 2, 3, 4],\n",
       "       [5, 6, 7, 8, 9]])"
      ]
     },
     "execution_count": 307,
     "metadata": {},
     "output_type": "execute_result"
    }
   ],
   "source": [
    "q"
   ]
  },
  {
   "cell_type": "code",
   "execution_count": 311,
   "id": "18c25ced-6aab-4399-9baa-980f30fe65b9",
   "metadata": {},
   "outputs": [
    {
     "data": {
      "text/plain": [
       "(2, 5)"
      ]
     },
     "execution_count": 311,
     "metadata": {},
     "output_type": "execute_result"
    }
   ],
   "source": [
    "q.shape"
   ]
  },
  {
   "cell_type": "code",
   "execution_count": 313,
   "id": "99dbc5ad-61ac-443a-a6e7-0fd06fdabaa2",
   "metadata": {},
   "outputs": [
    {
     "data": {
      "text/plain": [
       "2"
      ]
     },
     "execution_count": 313,
     "metadata": {},
     "output_type": "execute_result"
    }
   ],
   "source": [
    "q.ndim"
   ]
  },
  {
   "cell_type": "code",
   "execution_count": 315,
   "id": "478b01c7-9fe0-40d6-8ff9-4c91a45550c3",
   "metadata": {},
   "outputs": [
    {
     "data": {
      "text/plain": [
       "10"
      ]
     },
     "execution_count": 315,
     "metadata": {},
     "output_type": "execute_result"
    }
   ],
   "source": [
    "q.size"
   ]
  },
  {
   "cell_type": "code",
   "execution_count": 317,
   "id": "2e4f198f-2bc0-463e-9067-66660b0b250b",
   "metadata": {},
   "outputs": [
    {
     "data": {
      "text/plain": [
       "dtype('int32')"
      ]
     },
     "execution_count": 317,
     "metadata": {},
     "output_type": "execute_result"
    }
   ],
   "source": [
    "q.dtype"
   ]
  },
  {
   "cell_type": "code",
   "execution_count": null,
   "id": "b63b54b2-d401-46ff-9b2d-0df29610421f",
   "metadata": {},
   "outputs": [],
   "source": [
    "OTHER FUNCTIONS   COPY,BYTES,SHARED FUNCTIONS"
   ]
  },
  {
   "cell_type": "code",
   "execution_count": 321,
   "id": "bc54fb21-87cd-4763-929a-2e2c8bfcbcbb",
   "metadata": {},
   "outputs": [
    {
     "data": {
      "text/plain": [
       "array([23, 24])"
      ]
     },
     "execution_count": 321,
     "metadata": {},
     "output_type": "execute_result"
    }
   ],
   "source": [
    "A=np.array([23,24])\n",
    "B=np.copy(A)\n",
    "B"
   ]
  },
  {
   "cell_type": "code",
   "execution_count": 327,
   "id": "56d11b0a-d8d1-4e12-aae1-5344a9adb2dd",
   "metadata": {},
   "outputs": [
    {
     "data": {
      "text/plain": [
       "8"
      ]
     },
     "execution_count": 327,
     "metadata": {},
     "output_type": "execute_result"
    }
   ],
   "source": [
    "B.nbytes"
   ]
  },
  {
   "cell_type": "code",
   "execution_count": 329,
   "id": "bd32f5ed-f9e0-4c93-81c7-8aeb07f1b9c4",
   "metadata": {},
   "outputs": [
    {
     "data": {
      "text/plain": [
       "2223864038768"
      ]
     },
     "execution_count": 329,
     "metadata": {},
     "output_type": "execute_result"
    }
   ],
   "source": [
    "id(A)"
   ]
  },
  {
   "cell_type": "code",
   "execution_count": 331,
   "id": "99c05e65-4322-48d1-8ce6-344f5044c5bd",
   "metadata": {},
   "outputs": [
    {
     "data": {
      "text/plain": [
       "2223864048944"
      ]
     },
     "execution_count": 331,
     "metadata": {},
     "output_type": "execute_result"
    }
   ],
   "source": [
    "id(B)"
   ]
  },
  {
   "cell_type": "code",
   "execution_count": 333,
   "id": "c91a3cb9-cbbe-4cbe-8c49-4a2a20d24a92",
   "metadata": {},
   "outputs": [
    {
     "data": {
      "text/plain": [
       "False"
      ]
     },
     "execution_count": 333,
     "metadata": {},
     "output_type": "execute_result"
    }
   ],
   "source": [
    "np.shares_memory(A,B)"
   ]
  },
  {
   "cell_type": "code",
   "execution_count": null,
   "id": "5a13f7e6-6c5e-4b58-9fb6-cc7614615051",
   "metadata": {},
   "outputs": [],
   "source": []
  }
 ],
 "metadata": {
  "kernelspec": {
   "display_name": "Python [conda env:base] *",
   "language": "python",
   "name": "conda-base-py"
  },
  "language_info": {
   "codemirror_mode": {
    "name": "ipython",
    "version": 3
   },
   "file_extension": ".py",
   "mimetype": "text/x-python",
   "name": "python",
   "nbconvert_exporter": "python",
   "pygments_lexer": "ipython3",
   "version": "3.12.7"
  }
 },
 "nbformat": 4,
 "nbformat_minor": 5
}
